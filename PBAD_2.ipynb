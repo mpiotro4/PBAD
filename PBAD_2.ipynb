{
 "nbformat": 4,
 "nbformat_minor": 0,
 "metadata": {
  "colab": {
   "provenance": []
  },
  "kernelspec": {
   "name": "python3",
   "language": "python",
   "display_name": "Python 3 (ipykernel)"
  },
  "language_info": {
   "name": "python"
  }
 },
 "cells": [
  {
   "cell_type": "code",
   "source": [
    "import numpy as np\n",
    "import pandas as pd\n",
    "import math\n",
    "from sklearn.utils import shuffle"
   ],
   "metadata": {
    "id": "PMEijfHSoAwA",
    "ExecuteTime": {
     "end_time": "2023-05-19T22:52:00.618371100Z",
     "start_time": "2023-05-19T22:52:00.587078100Z"
    }
   },
   "execution_count": 57,
   "outputs": []
  },
  {
   "cell_type": "markdown",
   "source": [
    "### Defining custom functions"
   ],
   "metadata": {
    "collapsed": false
   }
  },
  {
   "cell_type": "code",
   "execution_count": 58,
   "outputs": [],
   "source": [
    "def load_dataset(path):\n",
    "    df = pd.read_csv(path, sep=',')\n",
    "    return df"
   ],
   "metadata": {
    "collapsed": false,
    "ExecuteTime": {
     "end_time": "2023-05-19T22:52:01.937307100Z",
     "start_time": "2023-05-19T22:52:01.927194200Z"
    }
   }
  },
  {
   "cell_type": "code",
   "execution_count": 59,
   "outputs": [],
   "source": [
    "def add_previous_npis(npis_prev, npis_curr):\n",
    "    for prev, curr in zip(npis_prev, npis_curr):\n",
    "        df[prev] = df.groupby('CountryName')[curr].shift()\n",
    "\n",
    "    df.dropna(subset=npis_prev, inplace=True)"
   ],
   "metadata": {
    "collapsed": false,
    "ExecuteTime": {
     "end_time": "2023-05-19T22:52:02.387929200Z",
     "start_time": "2023-05-19T22:52:02.356561400Z"
    }
   }
  },
  {
   "cell_type": "code",
   "execution_count": 60,
   "outputs": [],
   "source": [
    "def prepare_samples_and_labels():\n",
    "    #prepare samples\n",
    "    samples = df[npis_prev]\n",
    "    samples.insert(0, 'StringencyIndex_Average', df['StringencyIndex_Average'].div(100))\n",
    "    samples = samples.to_numpy()\n",
    "\n",
    "    #prepare labels\n",
    "    labels = []\n",
    "    for npi in npis:\n",
    "      labels.append(df[npi].to_numpy())\n",
    "\n",
    "    return samples, labels"
   ],
   "metadata": {
    "collapsed": false,
    "ExecuteTime": {
     "end_time": "2023-05-19T22:52:02.757359900Z",
     "start_time": "2023-05-19T22:52:02.719580500Z"
    }
   }
  },
  {
   "cell_type": "code",
   "execution_count": 61,
   "outputs": [],
   "source": [
    "def split_to_train_and_test(samples, labels, ratio=0.85):\n",
    "    split_index = math.floor(ratio * len(samples))\n",
    "\n",
    "    train_samples = samples[:split_index]\n",
    "    train_labels = []\n",
    "\n",
    "    for label in labels:\n",
    "      train_labels.append(label[:split_index])\n",
    "\n",
    "    test_samples = samples[split_index:]\n",
    "    test_labels = []\n",
    "\n",
    "    for label in labels:\n",
    "      test_labels.append(label[split_index:])\n",
    "\n",
    "    return train_samples, train_labels, test_samples, test_labels"
   ],
   "metadata": {
    "collapsed": false,
    "ExecuteTime": {
     "end_time": "2023-05-19T22:52:03.438135500Z",
     "start_time": "2023-05-19T22:52:03.422508300Z"
    }
   }
  },
  {
   "cell_type": "markdown",
   "source": [
    "### Preprocess data"
   ],
   "metadata": {
    "collapsed": false
   }
  },
  {
   "cell_type": "code",
   "execution_count": 62,
   "outputs": [],
   "source": [
    "npis = [\n",
    "    \"C1M\",\n",
    "    \"C2M\",\n",
    "    \"C3M\",\n",
    "    \"C4M\",\n",
    "    \"C5M\",\n",
    "    \"C6M\",\n",
    "    \"C7M\",\n",
    "    \"C8M\",\n",
    "    \"H1\"\n",
    "    ]\n",
    "\n",
    "npis_prev = [\n",
    "    \"C1M_prev\",\n",
    "    \"C2M_prev\",\n",
    "    \"C3M_prev\",\n",
    "    \"C4M_prev\",\n",
    "    \"C5M_prev\",\n",
    "    \"C6M_prev\",\n",
    "    \"C7M_prev\",\n",
    "    \"C8M_prev\",\n",
    "    \"H1_prev\"\n",
    "    ]\n",
    "\n",
    "npi_labels = [\n",
    "    \"School closing\",\n",
    "    \"Workplace closing\",\n",
    "    \"Cancel public events\",\n",
    "    \"Restrictions on gatherings\",\n",
    "    \"Close public transport\",\n",
    "    \"Stay at home requirements\",\n",
    "    \"Restrictions on internal movement\",\n",
    "    \"International travel controls\",\n",
    "    \"Public information campaigns\"\n",
    "]"
   ],
   "metadata": {
    "collapsed": false,
    "ExecuteTime": {
     "end_time": "2023-05-19T22:52:04.533954700Z",
     "start_time": "2023-05-19T22:52:04.521754700Z"
    }
   }
  },
  {
   "cell_type": "code",
   "execution_count": 63,
   "outputs": [],
   "source": [
    "df = load_dataset(\"./OxCGRT_clean.csv\")"
   ],
   "metadata": {
    "collapsed": false,
    "ExecuteTime": {
     "end_time": "2023-05-19T22:52:05.897819700Z",
     "start_time": "2023-05-19T22:52:05.781893100Z"
    }
   }
  },
  {
   "cell_type": "code",
   "execution_count": 64,
   "outputs": [
    {
     "data": {
      "text/plain": "  CountryName      Date  C1M  C1M_Flag  C2M  C2M_Flag  C3M  C3M_Flag  C4M  \\\n0       Aruba  20200316  3.0       1.0  0.0       0.0  0.0       0.0  0.0   \n1       Aruba  20200317  3.0       1.0  0.0       0.0  0.0       0.0  0.0   \n2       Aruba  20200318  3.0       1.0  0.0       0.0  0.0       0.0  0.0   \n3       Aruba  20200321  3.0       1.0  2.0       1.0  0.0       0.0  0.0   \n4       Aruba  20200329  3.0       1.0  3.0       1.0  2.0       1.0  4.0   \n5       Aruba  20200410  3.0       1.0  3.0       1.0  2.0       1.0  4.0   \n6       Aruba  20200504  3.0       1.0  2.0       1.0  2.0       1.0  4.0   \n7       Aruba  20200518  2.0       1.0  2.0       1.0  2.0       1.0  0.0   \n8       Aruba  20200528  2.0       1.0  2.0       1.0  2.0       1.0  0.0   \n9       Aruba  20200531  2.0       1.0  2.0       1.0  2.0       1.0  0.0   \n\n   C4M_Flag  ...  C8M   H1  H1_Flag  ConfirmedCases  ConfirmedDeaths  \\\n0       0.0  ...  0.0  0.0      0.0             2.0              0.0   \n1       0.0  ...  4.0  0.0      0.0             3.0              0.0   \n2       0.0  ...  4.0  2.0      1.0             4.0              0.0   \n3       0.0  ...  4.0  2.0      1.0             5.0              0.0   \n4       1.0  ...  4.0  2.0      1.0            50.0              0.0   \n5       1.0  ...  4.0  2.0      1.0            86.0              0.0   \n6       1.0  ...  4.0  2.0      1.0           100.0              2.0   \n7       0.0  ...  4.0  2.0      1.0           101.0              3.0   \n8       0.0  ...  4.0  2.0      1.0           101.0              3.0   \n9       0.0  ...  4.0  2.0      1.0           101.0              3.0   \n\n   MajorityVaccinated  PopulationVaccinated  StringencyIndex_Average  \\\n0                  NV                   0.0                    11.11   \n1                  NV                   0.0                    22.22   \n2                  NV                   0.0                    33.33   \n3                  NV                   0.0                    44.44   \n4                  NV                   0.0                    85.19   \n5                  NV                   0.0                    88.89   \n6                  NV                   0.0                    81.48   \n7                  NV                   0.0                    66.67   \n8                  NV                   0.0                    62.96   \n9                  NV                   0.0                    57.41   \n\n   Prev_StringencyIndex_Average  Daily_StringencyIndex_Change  \n0                          0.00                             0  \n1                         11.11                             0  \n2                         22.22                             0  \n3                         33.33                             0  \n4                         44.44                             0  \n5                         85.19                             0  \n6                         88.89                             0  \n7                         81.48                             0  \n8                         66.67                             0  \n9                         62.96                             0  \n\n[10 rows x 26 columns]",
      "text/html": "<div>\n<style scoped>\n    .dataframe tbody tr th:only-of-type {\n        vertical-align: middle;\n    }\n\n    .dataframe tbody tr th {\n        vertical-align: top;\n    }\n\n    .dataframe thead th {\n        text-align: right;\n    }\n</style>\n<table border=\"1\" class=\"dataframe\">\n  <thead>\n    <tr style=\"text-align: right;\">\n      <th></th>\n      <th>CountryName</th>\n      <th>Date</th>\n      <th>C1M</th>\n      <th>C1M_Flag</th>\n      <th>C2M</th>\n      <th>C2M_Flag</th>\n      <th>C3M</th>\n      <th>C3M_Flag</th>\n      <th>C4M</th>\n      <th>C4M_Flag</th>\n      <th>...</th>\n      <th>C8M</th>\n      <th>H1</th>\n      <th>H1_Flag</th>\n      <th>ConfirmedCases</th>\n      <th>ConfirmedDeaths</th>\n      <th>MajorityVaccinated</th>\n      <th>PopulationVaccinated</th>\n      <th>StringencyIndex_Average</th>\n      <th>Prev_StringencyIndex_Average</th>\n      <th>Daily_StringencyIndex_Change</th>\n    </tr>\n  </thead>\n  <tbody>\n    <tr>\n      <th>0</th>\n      <td>Aruba</td>\n      <td>20200316</td>\n      <td>3.0</td>\n      <td>1.0</td>\n      <td>0.0</td>\n      <td>0.0</td>\n      <td>0.0</td>\n      <td>0.0</td>\n      <td>0.0</td>\n      <td>0.0</td>\n      <td>...</td>\n      <td>0.0</td>\n      <td>0.0</td>\n      <td>0.0</td>\n      <td>2.0</td>\n      <td>0.0</td>\n      <td>NV</td>\n      <td>0.0</td>\n      <td>11.11</td>\n      <td>0.00</td>\n      <td>0</td>\n    </tr>\n    <tr>\n      <th>1</th>\n      <td>Aruba</td>\n      <td>20200317</td>\n      <td>3.0</td>\n      <td>1.0</td>\n      <td>0.0</td>\n      <td>0.0</td>\n      <td>0.0</td>\n      <td>0.0</td>\n      <td>0.0</td>\n      <td>0.0</td>\n      <td>...</td>\n      <td>4.0</td>\n      <td>0.0</td>\n      <td>0.0</td>\n      <td>3.0</td>\n      <td>0.0</td>\n      <td>NV</td>\n      <td>0.0</td>\n      <td>22.22</td>\n      <td>11.11</td>\n      <td>0</td>\n    </tr>\n    <tr>\n      <th>2</th>\n      <td>Aruba</td>\n      <td>20200318</td>\n      <td>3.0</td>\n      <td>1.0</td>\n      <td>0.0</td>\n      <td>0.0</td>\n      <td>0.0</td>\n      <td>0.0</td>\n      <td>0.0</td>\n      <td>0.0</td>\n      <td>...</td>\n      <td>4.0</td>\n      <td>2.0</td>\n      <td>1.0</td>\n      <td>4.0</td>\n      <td>0.0</td>\n      <td>NV</td>\n      <td>0.0</td>\n      <td>33.33</td>\n      <td>22.22</td>\n      <td>0</td>\n    </tr>\n    <tr>\n      <th>3</th>\n      <td>Aruba</td>\n      <td>20200321</td>\n      <td>3.0</td>\n      <td>1.0</td>\n      <td>2.0</td>\n      <td>1.0</td>\n      <td>0.0</td>\n      <td>0.0</td>\n      <td>0.0</td>\n      <td>0.0</td>\n      <td>...</td>\n      <td>4.0</td>\n      <td>2.0</td>\n      <td>1.0</td>\n      <td>5.0</td>\n      <td>0.0</td>\n      <td>NV</td>\n      <td>0.0</td>\n      <td>44.44</td>\n      <td>33.33</td>\n      <td>0</td>\n    </tr>\n    <tr>\n      <th>4</th>\n      <td>Aruba</td>\n      <td>20200329</td>\n      <td>3.0</td>\n      <td>1.0</td>\n      <td>3.0</td>\n      <td>1.0</td>\n      <td>2.0</td>\n      <td>1.0</td>\n      <td>4.0</td>\n      <td>1.0</td>\n      <td>...</td>\n      <td>4.0</td>\n      <td>2.0</td>\n      <td>1.0</td>\n      <td>50.0</td>\n      <td>0.0</td>\n      <td>NV</td>\n      <td>0.0</td>\n      <td>85.19</td>\n      <td>44.44</td>\n      <td>0</td>\n    </tr>\n    <tr>\n      <th>5</th>\n      <td>Aruba</td>\n      <td>20200410</td>\n      <td>3.0</td>\n      <td>1.0</td>\n      <td>3.0</td>\n      <td>1.0</td>\n      <td>2.0</td>\n      <td>1.0</td>\n      <td>4.0</td>\n      <td>1.0</td>\n      <td>...</td>\n      <td>4.0</td>\n      <td>2.0</td>\n      <td>1.0</td>\n      <td>86.0</td>\n      <td>0.0</td>\n      <td>NV</td>\n      <td>0.0</td>\n      <td>88.89</td>\n      <td>85.19</td>\n      <td>0</td>\n    </tr>\n    <tr>\n      <th>6</th>\n      <td>Aruba</td>\n      <td>20200504</td>\n      <td>3.0</td>\n      <td>1.0</td>\n      <td>2.0</td>\n      <td>1.0</td>\n      <td>2.0</td>\n      <td>1.0</td>\n      <td>4.0</td>\n      <td>1.0</td>\n      <td>...</td>\n      <td>4.0</td>\n      <td>2.0</td>\n      <td>1.0</td>\n      <td>100.0</td>\n      <td>2.0</td>\n      <td>NV</td>\n      <td>0.0</td>\n      <td>81.48</td>\n      <td>88.89</td>\n      <td>0</td>\n    </tr>\n    <tr>\n      <th>7</th>\n      <td>Aruba</td>\n      <td>20200518</td>\n      <td>2.0</td>\n      <td>1.0</td>\n      <td>2.0</td>\n      <td>1.0</td>\n      <td>2.0</td>\n      <td>1.0</td>\n      <td>0.0</td>\n      <td>0.0</td>\n      <td>...</td>\n      <td>4.0</td>\n      <td>2.0</td>\n      <td>1.0</td>\n      <td>101.0</td>\n      <td>3.0</td>\n      <td>NV</td>\n      <td>0.0</td>\n      <td>66.67</td>\n      <td>81.48</td>\n      <td>0</td>\n    </tr>\n    <tr>\n      <th>8</th>\n      <td>Aruba</td>\n      <td>20200528</td>\n      <td>2.0</td>\n      <td>1.0</td>\n      <td>2.0</td>\n      <td>1.0</td>\n      <td>2.0</td>\n      <td>1.0</td>\n      <td>0.0</td>\n      <td>0.0</td>\n      <td>...</td>\n      <td>4.0</td>\n      <td>2.0</td>\n      <td>1.0</td>\n      <td>101.0</td>\n      <td>3.0</td>\n      <td>NV</td>\n      <td>0.0</td>\n      <td>62.96</td>\n      <td>66.67</td>\n      <td>0</td>\n    </tr>\n    <tr>\n      <th>9</th>\n      <td>Aruba</td>\n      <td>20200531</td>\n      <td>2.0</td>\n      <td>1.0</td>\n      <td>2.0</td>\n      <td>1.0</td>\n      <td>2.0</td>\n      <td>1.0</td>\n      <td>0.0</td>\n      <td>0.0</td>\n      <td>...</td>\n      <td>4.0</td>\n      <td>2.0</td>\n      <td>1.0</td>\n      <td>101.0</td>\n      <td>3.0</td>\n      <td>NV</td>\n      <td>0.0</td>\n      <td>57.41</td>\n      <td>62.96</td>\n      <td>0</td>\n    </tr>\n  </tbody>\n</table>\n<p>10 rows × 26 columns</p>\n</div>"
     },
     "execution_count": 64,
     "metadata": {},
     "output_type": "execute_result"
    }
   ],
   "source": [
    "df.head(10)"
   ],
   "metadata": {
    "collapsed": false,
    "ExecuteTime": {
     "end_time": "2023-05-19T22:52:06.986513200Z",
     "start_time": "2023-05-19T22:52:06.902350Z"
    }
   }
  },
  {
   "cell_type": "code",
   "execution_count": 65,
   "outputs": [
    {
     "data": {
      "text/plain": "       StringencyIndex_Average  C1M  C2M  C3M  C4M  C5M  C6M  C7M  C8M   H1\n12686                     5.56  0.0  0.0  0.0  0.0  0.0  0.0  0.0  0.0  1.0\n12687                    11.11  0.0  0.0  0.0  0.0  0.0  0.0  0.0  0.0  2.0\n12688                    13.89  0.0  0.0  0.0  0.0  0.0  0.0  0.0  1.0  2.0\n12689                    25.00  0.0  0.0  2.0  0.0  0.0  0.0  0.0  1.0  2.0\n12690                    41.67  3.0  0.0  2.0  0.0  0.0  0.0  1.0  1.0  2.0\n...                        ...  ...  ...  ...  ...  ...  ...  ...  ...  ...\n12845                    37.03  1.0  2.0  0.0  3.0  0.0  0.0  0.0  1.0  2.0\n12846                    22.53  1.0  1.0  0.0  0.0  0.0  0.0  0.0  1.0  2.0\n12847                    22.52  1.0  1.0  0.0  0.0  0.0  0.0  0.0  1.0  2.0\n12848                    14.81  1.0  0.0  0.0  0.0  0.0  0.0  0.0  0.0  2.0\n12849                     9.26  1.0  0.0  0.0  0.0  0.0  0.0  0.0  0.0  1.0\n\n[164 rows x 10 columns]",
      "text/html": "<div>\n<style scoped>\n    .dataframe tbody tr th:only-of-type {\n        vertical-align: middle;\n    }\n\n    .dataframe tbody tr th {\n        vertical-align: top;\n    }\n\n    .dataframe thead th {\n        text-align: right;\n    }\n</style>\n<table border=\"1\" class=\"dataframe\">\n  <thead>\n    <tr style=\"text-align: right;\">\n      <th></th>\n      <th>StringencyIndex_Average</th>\n      <th>C1M</th>\n      <th>C2M</th>\n      <th>C3M</th>\n      <th>C4M</th>\n      <th>C5M</th>\n      <th>C6M</th>\n      <th>C7M</th>\n      <th>C8M</th>\n      <th>H1</th>\n    </tr>\n  </thead>\n  <tbody>\n    <tr>\n      <th>12686</th>\n      <td>5.56</td>\n      <td>0.0</td>\n      <td>0.0</td>\n      <td>0.0</td>\n      <td>0.0</td>\n      <td>0.0</td>\n      <td>0.0</td>\n      <td>0.0</td>\n      <td>0.0</td>\n      <td>1.0</td>\n    </tr>\n    <tr>\n      <th>12687</th>\n      <td>11.11</td>\n      <td>0.0</td>\n      <td>0.0</td>\n      <td>0.0</td>\n      <td>0.0</td>\n      <td>0.0</td>\n      <td>0.0</td>\n      <td>0.0</td>\n      <td>0.0</td>\n      <td>2.0</td>\n    </tr>\n    <tr>\n      <th>12688</th>\n      <td>13.89</td>\n      <td>0.0</td>\n      <td>0.0</td>\n      <td>0.0</td>\n      <td>0.0</td>\n      <td>0.0</td>\n      <td>0.0</td>\n      <td>0.0</td>\n      <td>1.0</td>\n      <td>2.0</td>\n    </tr>\n    <tr>\n      <th>12689</th>\n      <td>25.00</td>\n      <td>0.0</td>\n      <td>0.0</td>\n      <td>2.0</td>\n      <td>0.0</td>\n      <td>0.0</td>\n      <td>0.0</td>\n      <td>0.0</td>\n      <td>1.0</td>\n      <td>2.0</td>\n    </tr>\n    <tr>\n      <th>12690</th>\n      <td>41.67</td>\n      <td>3.0</td>\n      <td>0.0</td>\n      <td>2.0</td>\n      <td>0.0</td>\n      <td>0.0</td>\n      <td>0.0</td>\n      <td>1.0</td>\n      <td>1.0</td>\n      <td>2.0</td>\n    </tr>\n    <tr>\n      <th>...</th>\n      <td>...</td>\n      <td>...</td>\n      <td>...</td>\n      <td>...</td>\n      <td>...</td>\n      <td>...</td>\n      <td>...</td>\n      <td>...</td>\n      <td>...</td>\n      <td>...</td>\n    </tr>\n    <tr>\n      <th>12845</th>\n      <td>37.03</td>\n      <td>1.0</td>\n      <td>2.0</td>\n      <td>0.0</td>\n      <td>3.0</td>\n      <td>0.0</td>\n      <td>0.0</td>\n      <td>0.0</td>\n      <td>1.0</td>\n      <td>2.0</td>\n    </tr>\n    <tr>\n      <th>12846</th>\n      <td>22.53</td>\n      <td>1.0</td>\n      <td>1.0</td>\n      <td>0.0</td>\n      <td>0.0</td>\n      <td>0.0</td>\n      <td>0.0</td>\n      <td>0.0</td>\n      <td>1.0</td>\n      <td>2.0</td>\n    </tr>\n    <tr>\n      <th>12847</th>\n      <td>22.52</td>\n      <td>1.0</td>\n      <td>1.0</td>\n      <td>0.0</td>\n      <td>0.0</td>\n      <td>0.0</td>\n      <td>0.0</td>\n      <td>0.0</td>\n      <td>1.0</td>\n      <td>2.0</td>\n    </tr>\n    <tr>\n      <th>12848</th>\n      <td>14.81</td>\n      <td>1.0</td>\n      <td>0.0</td>\n      <td>0.0</td>\n      <td>0.0</td>\n      <td>0.0</td>\n      <td>0.0</td>\n      <td>0.0</td>\n      <td>0.0</td>\n      <td>2.0</td>\n    </tr>\n    <tr>\n      <th>12849</th>\n      <td>9.26</td>\n      <td>1.0</td>\n      <td>0.0</td>\n      <td>0.0</td>\n      <td>0.0</td>\n      <td>0.0</td>\n      <td>0.0</td>\n      <td>0.0</td>\n      <td>0.0</td>\n      <td>1.0</td>\n    </tr>\n  </tbody>\n</table>\n<p>164 rows × 10 columns</p>\n</div>"
     },
     "execution_count": 65,
     "metadata": {},
     "output_type": "execute_result"
    }
   ],
   "source": [
    "df[[\"StringencyIndex_Average\"] + npis][df[\"CountryName\"] == \"Poland\"]"
   ],
   "metadata": {
    "collapsed": false,
    "ExecuteTime": {
     "end_time": "2023-05-19T22:52:14.173904300Z",
     "start_time": "2023-05-19T22:52:14.073614800Z"
    }
   }
  },
  {
   "cell_type": "code",
   "execution_count": 66,
   "outputs": [],
   "source": [
    "add_previous_npis(npis_prev, npis)"
   ],
   "metadata": {
    "collapsed": false,
    "ExecuteTime": {
     "end_time": "2023-05-19T22:52:20.185748900Z",
     "start_time": "2023-05-19T22:52:20.069832800Z"
    }
   }
  },
  {
   "cell_type": "code",
   "execution_count": 67,
   "outputs": [
    {
     "data": {
      "text/plain": "       StringencyIndex_Average  C1M_prev  C2M_prev  C3M_prev  C4M_prev  \\\n12687                    11.11       0.0       0.0       0.0       0.0   \n12688                    13.89       0.0       0.0       0.0       0.0   \n12689                    25.00       0.0       0.0       0.0       0.0   \n12690                    41.67       0.0       0.0       2.0       0.0   \n12691                    49.07       3.0       0.0       2.0       0.0   \n...                        ...       ...       ...       ...       ...   \n12845                    37.03       1.0       2.0       0.0       3.0   \n12846                    22.53       1.0       2.0       0.0       3.0   \n12847                    22.52       1.0       1.0       0.0       0.0   \n12848                    14.81       1.0       1.0       0.0       0.0   \n12849                     9.26       1.0       0.0       0.0       0.0   \n\n       C5M_prev  C6M_prev  C7M_prev  C8M_prev  H1_prev  \n12687       0.0       0.0       0.0       0.0      1.0  \n12688       0.0       0.0       0.0       0.0      2.0  \n12689       0.0       0.0       0.0       1.0      2.0  \n12690       0.0       0.0       0.0       1.0      2.0  \n12691       0.0       0.0       1.0       1.0      2.0  \n...         ...       ...       ...       ...      ...  \n12845       0.0       0.0       0.0       1.0      2.0  \n12846       0.0       0.0       0.0       1.0      2.0  \n12847       0.0       0.0       0.0       1.0      2.0  \n12848       0.0       0.0       0.0       1.0      2.0  \n12849       0.0       0.0       0.0       0.0      2.0  \n\n[163 rows x 10 columns]",
      "text/html": "<div>\n<style scoped>\n    .dataframe tbody tr th:only-of-type {\n        vertical-align: middle;\n    }\n\n    .dataframe tbody tr th {\n        vertical-align: top;\n    }\n\n    .dataframe thead th {\n        text-align: right;\n    }\n</style>\n<table border=\"1\" class=\"dataframe\">\n  <thead>\n    <tr style=\"text-align: right;\">\n      <th></th>\n      <th>StringencyIndex_Average</th>\n      <th>C1M_prev</th>\n      <th>C2M_prev</th>\n      <th>C3M_prev</th>\n      <th>C4M_prev</th>\n      <th>C5M_prev</th>\n      <th>C6M_prev</th>\n      <th>C7M_prev</th>\n      <th>C8M_prev</th>\n      <th>H1_prev</th>\n    </tr>\n  </thead>\n  <tbody>\n    <tr>\n      <th>12687</th>\n      <td>11.11</td>\n      <td>0.0</td>\n      <td>0.0</td>\n      <td>0.0</td>\n      <td>0.0</td>\n      <td>0.0</td>\n      <td>0.0</td>\n      <td>0.0</td>\n      <td>0.0</td>\n      <td>1.0</td>\n    </tr>\n    <tr>\n      <th>12688</th>\n      <td>13.89</td>\n      <td>0.0</td>\n      <td>0.0</td>\n      <td>0.0</td>\n      <td>0.0</td>\n      <td>0.0</td>\n      <td>0.0</td>\n      <td>0.0</td>\n      <td>0.0</td>\n      <td>2.0</td>\n    </tr>\n    <tr>\n      <th>12689</th>\n      <td>25.00</td>\n      <td>0.0</td>\n      <td>0.0</td>\n      <td>0.0</td>\n      <td>0.0</td>\n      <td>0.0</td>\n      <td>0.0</td>\n      <td>0.0</td>\n      <td>1.0</td>\n      <td>2.0</td>\n    </tr>\n    <tr>\n      <th>12690</th>\n      <td>41.67</td>\n      <td>0.0</td>\n      <td>0.0</td>\n      <td>2.0</td>\n      <td>0.0</td>\n      <td>0.0</td>\n      <td>0.0</td>\n      <td>0.0</td>\n      <td>1.0</td>\n      <td>2.0</td>\n    </tr>\n    <tr>\n      <th>12691</th>\n      <td>49.07</td>\n      <td>3.0</td>\n      <td>0.0</td>\n      <td>2.0</td>\n      <td>0.0</td>\n      <td>0.0</td>\n      <td>0.0</td>\n      <td>1.0</td>\n      <td>1.0</td>\n      <td>2.0</td>\n    </tr>\n    <tr>\n      <th>...</th>\n      <td>...</td>\n      <td>...</td>\n      <td>...</td>\n      <td>...</td>\n      <td>...</td>\n      <td>...</td>\n      <td>...</td>\n      <td>...</td>\n      <td>...</td>\n      <td>...</td>\n    </tr>\n    <tr>\n      <th>12845</th>\n      <td>37.03</td>\n      <td>1.0</td>\n      <td>2.0</td>\n      <td>0.0</td>\n      <td>3.0</td>\n      <td>0.0</td>\n      <td>0.0</td>\n      <td>0.0</td>\n      <td>1.0</td>\n      <td>2.0</td>\n    </tr>\n    <tr>\n      <th>12846</th>\n      <td>22.53</td>\n      <td>1.0</td>\n      <td>2.0</td>\n      <td>0.0</td>\n      <td>3.0</td>\n      <td>0.0</td>\n      <td>0.0</td>\n      <td>0.0</td>\n      <td>1.0</td>\n      <td>2.0</td>\n    </tr>\n    <tr>\n      <th>12847</th>\n      <td>22.52</td>\n      <td>1.0</td>\n      <td>1.0</td>\n      <td>0.0</td>\n      <td>0.0</td>\n      <td>0.0</td>\n      <td>0.0</td>\n      <td>0.0</td>\n      <td>1.0</td>\n      <td>2.0</td>\n    </tr>\n    <tr>\n      <th>12848</th>\n      <td>14.81</td>\n      <td>1.0</td>\n      <td>1.0</td>\n      <td>0.0</td>\n      <td>0.0</td>\n      <td>0.0</td>\n      <td>0.0</td>\n      <td>0.0</td>\n      <td>1.0</td>\n      <td>2.0</td>\n    </tr>\n    <tr>\n      <th>12849</th>\n      <td>9.26</td>\n      <td>1.0</td>\n      <td>0.0</td>\n      <td>0.0</td>\n      <td>0.0</td>\n      <td>0.0</td>\n      <td>0.0</td>\n      <td>0.0</td>\n      <td>0.0</td>\n      <td>2.0</td>\n    </tr>\n  </tbody>\n</table>\n<p>163 rows × 10 columns</p>\n</div>"
     },
     "execution_count": 67,
     "metadata": {},
     "output_type": "execute_result"
    }
   ],
   "source": [
    "df[[\"StringencyIndex_Average\"] + npis_prev][df[\"CountryName\"] == \"Poland\"]"
   ],
   "metadata": {
    "collapsed": false,
    "ExecuteTime": {
     "end_time": "2023-05-19T22:52:25.825478900Z",
     "start_time": "2023-05-19T22:52:25.756332300Z"
    }
   }
  },
  {
   "cell_type": "code",
   "execution_count": 68,
   "outputs": [],
   "source": [
    "samples, labels = prepare_samples_and_labels()"
   ],
   "metadata": {
    "collapsed": false,
    "ExecuteTime": {
     "end_time": "2023-05-19T22:52:44.026149700Z",
     "start_time": "2023-05-19T22:52:43.994916500Z"
    }
   }
  },
  {
   "cell_type": "code",
   "execution_count": 69,
   "outputs": [
    {
     "data": {
      "text/plain": "array([[0.2222, 3.    , 0.    , ..., 0.    , 0.    , 0.    ],\n       [0.3333, 3.    , 0.    , ..., 0.    , 4.    , 0.    ],\n       [0.4444, 3.    , 0.    , ..., 0.    , 4.    , 2.    ],\n       ...,\n       [0.5263, 1.    , 1.    , ..., 1.    , 1.    , 2.    ],\n       [0.5262, 1.    , 1.    , ..., 1.    , 1.    , 2.    ],\n       [0.537 , 1.    , 1.    , ..., 1.    , 1.    , 2.    ]])"
     },
     "execution_count": 69,
     "metadata": {},
     "output_type": "execute_result"
    }
   ],
   "source": [
    "samples"
   ],
   "metadata": {
    "collapsed": false,
    "ExecuteTime": {
     "end_time": "2023-05-19T22:52:56.997544200Z",
     "start_time": "2023-05-19T22:52:56.935072800Z"
    }
   }
  },
  {
   "cell_type": "code",
   "execution_count": 70,
   "outputs": [
    {
     "data": {
      "text/plain": "[array([3., 3., 3., ..., 1., 1., 1.]),\n array([0., 0., 2., ..., 1., 1., 1.]),\n array([0., 0., 0., ..., 1., 1., 1.]),\n array([0., 0., 0., ..., 3., 3., 3.]),\n array([0., 0., 0., ..., 1., 1., 1.]),\n array([0., 0., 1., ..., 2., 2., 2.]),\n array([0., 0., 0., ..., 1., 1., 1.]),\n array([4., 4., 4., ..., 1., 1., 1.]),\n array([0., 2., 2., ..., 2., 2., 2.])]"
     },
     "execution_count": 70,
     "metadata": {},
     "output_type": "execute_result"
    }
   ],
   "source": [
    "labels"
   ],
   "metadata": {
    "collapsed": false,
    "ExecuteTime": {
     "end_time": "2023-05-19T22:53:08.008566200Z",
     "start_time": "2023-05-19T22:53:07.939477400Z"
    }
   }
  },
  {
   "cell_type": "code",
   "execution_count": 71,
   "outputs": [],
   "source": [
    "not_shuffled_samples = samples[15000:16000]\n",
    "not_shuffled_labels = []\n",
    "for label in labels:\n",
    "  not_shuffled_labels.append(label[15000:16000])\n"
   ],
   "metadata": {
    "collapsed": false,
    "ExecuteTime": {
     "end_time": "2023-05-19T22:53:12.858990900Z",
     "start_time": "2023-05-19T22:53:12.821108800Z"
    }
   }
  },
  {
   "cell_type": "code",
   "execution_count": 72,
   "outputs": [],
   "source": [
    "samples, *labels = shuffle(samples, *labels, random_state=0)"
   ],
   "metadata": {
    "collapsed": false,
    "ExecuteTime": {
     "end_time": "2023-05-19T22:53:15.002312100Z",
     "start_time": "2023-05-19T22:53:14.971015100Z"
    }
   }
  },
  {
   "cell_type": "code",
   "execution_count": 73,
   "outputs": [],
   "source": [
    "train_samples, train_labels, test_samples, test_labels = split_to_train_and_test(samples, labels)"
   ],
   "metadata": {
    "collapsed": false,
    "ExecuteTime": {
     "end_time": "2023-05-19T22:53:17.455599900Z",
     "start_time": "2023-05-19T22:53:17.417652200Z"
    }
   }
  },
  {
   "cell_type": "code",
   "execution_count": 74,
   "outputs": [
    {
     "data": {
      "text/plain": "array([[0.6593, 3.    , 3.    , ..., 2.    , 3.    , 2.    ],\n       [0.6111, 3.    , 2.    , ..., 0.    , 3.    , 2.    ],\n       [0.4658, 0.    , 2.    , ..., 0.    , 1.    , 2.    ],\n       ...,\n       [0.7685, 3.    , 3.    , ..., 0.    , 3.    , 2.    ],\n       [0.1959, 0.    , 2.    , ..., 0.    , 1.    , 2.    ],\n       [0.4578, 2.    , 1.    , ..., 0.    , 3.    , 2.    ]])"
     },
     "execution_count": 74,
     "metadata": {},
     "output_type": "execute_result"
    }
   ],
   "source": [
    "train_samples"
   ],
   "metadata": {
    "collapsed": false,
    "ExecuteTime": {
     "end_time": "2023-05-19T22:53:19.108942800Z",
     "start_time": "2023-05-19T22:53:19.071165800Z"
    }
   }
  },
  {
   "cell_type": "code",
   "execution_count": 75,
   "outputs": [
    {
     "data": {
      "text/plain": "[array([3., 3., 0., ..., 3., 0., 2.]),\n array([3., 1., 2., ..., 3., 2., 1.]),\n array([2., 2., 1., ..., 2., 0., 1.]),\n array([0., 3., 2., ..., 4., 0., 0.]),\n array([2., 0., 2., ..., 1., 0., 1.]),\n array([2., 2., 1., ..., 2., 0., 0.]),\n array([2., 0., 0., ..., 0., 0., 0.]),\n array([3., 3., 1., ..., 3., 1., 3.]),\n array([2., 2., 2., ..., 2., 2., 2.])]"
     },
     "execution_count": 75,
     "metadata": {},
     "output_type": "execute_result"
    }
   ],
   "source": [
    "train_labels"
   ],
   "metadata": {
    "collapsed": false,
    "ExecuteTime": {
     "end_time": "2023-05-19T22:53:23.456414900Z",
     "start_time": "2023-05-19T22:53:23.340514300Z"
    }
   }
  },
  {
   "cell_type": "markdown",
   "source": [
    "## MTL model"
   ],
   "metadata": {
    "id": "54OhWLAprBrP"
   }
  },
  {
   "cell_type": "code",
   "source": [
    "from keras.optimizers import Adam\n",
    "from keras import Input, Model\n",
    "from keras.layers import Dense\n",
    "\n",
    "num_tasks = 9\n",
    "num_features = num_tasks + 1\n",
    "\n",
    "shared_layer_1 = Dense(32, input_dim=num_features, activation='relu')\n",
    "shared_layer_2 = Dense(32, activation='relu')\n",
    "\n",
    "task_1_output_layer = Dense(5, activation='softmax', name='C1')\n",
    "task_2_output_layer = Dense(5, activation='softmax', name='C2')\n",
    "task_3_output_layer = Dense(5, activation='softmax', name='C3')\n",
    "task_4_output_layer = Dense(5, activation='softmax', name='C4')\n",
    "task_5_output_layer = Dense(5, activation='softmax', name='C5')\n",
    "task_6_output_layer = Dense(5, activation='softmax', name='C6')\n",
    "task_7_output_layer = Dense(5, activation='softmax', name='C7')\n",
    "task_8_output_layer = Dense(5, activation='softmax', name='C8')\n",
    "task_9_output_layer = Dense(5, activation='softmax', name='H1')\n",
    "\n",
    "input_tensor = Input(shape=(num_features,))\n",
    "\n",
    "shared_tensor = shared_layer_1(input_tensor)\n",
    "shared_tensor = shared_layer_2(shared_tensor)\n",
    "\n",
    "task_1_output = task_1_output_layer(shared_tensor)\n",
    "task_2_output = task_2_output_layer(shared_tensor)\n",
    "task_3_output = task_3_output_layer(shared_tensor)\n",
    "task_4_output = task_4_output_layer(shared_tensor)\n",
    "task_5_output = task_5_output_layer(shared_tensor)\n",
    "task_6_output = task_6_output_layer(shared_tensor)\n",
    "task_7_output = task_7_output_layer(shared_tensor)\n",
    "task_8_output = task_8_output_layer(shared_tensor)\n",
    "task_9_output = task_9_output_layer(shared_tensor)\n",
    "\n",
    "mtl_model = Model(inputs=input_tensor, outputs=[\n",
    "    task_1_output, \n",
    "    task_2_output,\n",
    "    task_3_output, \n",
    "    task_4_output,\n",
    "    task_5_output, \n",
    "    task_6_output,\n",
    "    task_7_output, \n",
    "    task_8_output,\n",
    "    task_9_output],)\n",
    "\n",
    "mtl_model.compile(\n",
    "        optimizer=Adam(learning_rate=0.0001),\n",
    "        loss={\n",
    "            'C1': 'sparse_categorical_crossentropy',\n",
    "            'C2': 'sparse_categorical_crossentropy',\n",
    "            'C3': 'sparse_categorical_crossentropy',\n",
    "            'C4': 'sparse_categorical_crossentropy',\n",
    "            'C5': 'sparse_categorical_crossentropy',\n",
    "            'C6': 'sparse_categorical_crossentropy',\n",
    "            'C7': 'sparse_categorical_crossentropy',\n",
    "            'C8': 'sparse_categorical_crossentropy',\n",
    "            'H1': 'sparse_categorical_crossentropy'\n",
    "            },\n",
    "        metrics={\n",
    "            'C1': 'accuracy',\n",
    "            'C2': 'accuracy',\n",
    "            'C3': 'accuracy',\n",
    "            'C4': 'accuracy',\n",
    "            'C5': 'accuracy',\n",
    "            'C6': 'accuracy',\n",
    "            'C7': 'accuracy',\n",
    "            'C8': 'accuracy',\n",
    "            'H1': 'accuracy'\n",
    "            }\n",
    "        )\n",
    "mtl_model.summary()\n",
    "\n",
    "mtl_model.fit(\n",
    "    x=train_samples.reshape(-1,num_features),\n",
    "    y=train_labels,\n",
    "    validation_split=0.1,\n",
    "    batch_size=10,\n",
    "    epochs=10,\n",
    "    shuffle=True,\n",
    "    verbose=2\n",
    ")"
   ],
   "metadata": {
    "colab": {
     "base_uri": "https://localhost:8080/"
    },
    "id": "xdEbAdN9rE8x",
    "outputId": "3ff3fa92-3113-45d8-f1bf-ceb4f44370b4",
    "ExecuteTime": {
     "end_time": "2023-05-19T22:35:32.065226600Z",
     "start_time": "2023-05-19T22:35:31.963161500Z"
    }
   },
   "execution_count": 39,
   "outputs": [
    {
     "ename": "ModuleNotFoundError",
     "evalue": "No module named 'keras'",
     "output_type": "error",
     "traceback": [
      "\u001B[1;31m---------------------------------------------------------------------------\u001B[0m",
      "\u001B[1;31mModuleNotFoundError\u001B[0m                       Traceback (most recent call last)",
      "Cell \u001B[1;32mIn[39], line 1\u001B[0m\n\u001B[1;32m----> 1\u001B[0m \u001B[38;5;28;01mfrom\u001B[39;00m \u001B[38;5;21;01mkeras\u001B[39;00m\u001B[38;5;21;01m.\u001B[39;00m\u001B[38;5;21;01moptimizers\u001B[39;00m \u001B[38;5;28;01mimport\u001B[39;00m Adam\n\u001B[0;32m      2\u001B[0m \u001B[38;5;28;01mfrom\u001B[39;00m \u001B[38;5;21;01mkeras\u001B[39;00m \u001B[38;5;28;01mimport\u001B[39;00m Input, Model\n\u001B[0;32m      3\u001B[0m \u001B[38;5;28;01mfrom\u001B[39;00m \u001B[38;5;21;01mkeras\u001B[39;00m\u001B[38;5;21;01m.\u001B[39;00m\u001B[38;5;21;01mlayers\u001B[39;00m \u001B[38;5;28;01mimport\u001B[39;00m Dense\n",
      "\u001B[1;31mModuleNotFoundError\u001B[0m: No module named 'keras'"
     ]
    }
   ]
  },
  {
   "cell_type": "markdown",
   "source": [
    "# Predict"
   ],
   "metadata": {
    "id": "3xjA1wvwbQ_Z"
   }
  },
  {
   "cell_type": "code",
   "source": [
    "from sklearn.metrics import confusion_matrix, ConfusionMatrixDisplay\n",
    "import matplotlib.pyplot as plt"
   ],
   "metadata": {
    "id": "OyBQY9pFcOyM"
   },
   "execution_count": null,
   "outputs": []
  },
  {
   "cell_type": "markdown",
   "source": [
    "## test data"
   ],
   "metadata": {
    "id": "rnYIa_H8sS9h"
   }
  },
  {
   "cell_type": "code",
   "source": [
    "from sklearn.metrics import accuracy_score\n",
    "\n",
    "predictions = mtl_model.predict(\n",
    "    x=test_samples.reshape(-1,num_features),\n",
    "    batch_size = 10,\n",
    "    verbose = 0)\n",
    "\n",
    "predictions = np.array(predictions)\n",
    "\n",
    "f = lambda x: np.argmax(x, axis=-1)\n",
    "predictions = f(predictions)\n",
    "\n",
    "for idx, pred in enumerate(predictions):\n",
    "  cm = confusion_matrix(y_true=test_labels[idx], y_pred=pred)\n",
    "  accuracy = accuracy_score(test_labels[idx], pred).round(2)\n",
    "  disp = ConfusionMatrixDisplay(confusion_matrix=cm)\n",
    "  disp.plot()\n",
    "  disp.ax_.set_title(npi_labels[idx] + \", accuracy: %.2f\"%accuracy)\n",
    "  plt.show()"
   ],
   "metadata": {
    "colab": {
     "base_uri": "https://localhost:8080/",
     "height": 1000
    },
    "id": "lJ9mfN1bsdtu",
    "outputId": "cf62b902-a8e7-4a52-8954-68698c1e7c40"
   },
   "execution_count": null,
   "outputs": []
  },
  {
   "cell_type": "markdown",
   "source": [
    "## Recursive predictions"
   ],
   "metadata": {
    "collapsed": false
   }
  },
  {
   "cell_type": "code",
   "execution_count": null,
   "outputs": [],
   "source": [
    "\n",
    "predicted_sample = not_shuffled_samples[99]\n",
    "\n",
    "iterative_predictions = []\n",
    "next_samples = []\n",
    "\n",
    "for i in range(100,200):\n",
    "    predictions = mtl_model.predict(\n",
    "        x=predicted_sample.reshape(-1,num_features),\n",
    "        batch_size = 10,\n",
    "        verbose = 0)\n",
    "\n",
    "    predictions = np.array(predictions)\n",
    "\n",
    "    f = lambda x: np.argmax(x, axis=-1)\n",
    "    predictions = f(predictions)\n",
    "    predicted_sample = np.concatenate(([not_shuffled_samples[i][0]], predictions.flatten()))\n",
    "    next_samples.append(predicted_sample)\n",
    "    iterative_predictions.append(predictions.flatten())\n",
    "\n",
    "print(type(np.array(iterative_predictions)))\n",
    "print(type(not_shuffled_samples))\n",
    "\n",
    "zipped_predicted_npis = list(zip(*iterative_predictions))"
   ],
   "metadata": {
    "collapsed": false
   }
  },
  {
   "cell_type": "markdown",
   "source": [
    "## Barcharts"
   ],
   "metadata": {
    "collapsed": false
   }
  },
  {
   "cell_type": "code",
   "execution_count": null,
   "outputs": [],
   "source": [
    "# Define the arrays\n",
    "x = np.arange(1, 101)\n",
    "\n",
    "\n",
    "for i in range(0,9):\n",
    "    predicted_y = np.array(zipped_predicted_npis[i][0:100])\n",
    "    label_y = not_shuffled_labels[i][0:100]\n",
    "\n",
    "    # Create the bar chart\n",
    "    fig, ax = plt.subplots()\n",
    "    ax.bar(x - 0.2, predicted_y, width=0.4, label='Prediction')\n",
    "    ax.bar(x + 0.2, label_y, width=0.4, label='Dataset')\n",
    "\n",
    "    # Add labels and legend\n",
    "    ax.set_xlabel('Day')\n",
    "    ax.set_ylabel('NPI strength')\n",
    "    ax.set_title(npi_labels[i])\n",
    "    ax.legend()\n",
    "\n",
    "    # Display the chart\n",
    "    plt.show()"
   ],
   "metadata": {
    "collapsed": false
   }
  },
  {
   "cell_type": "code",
   "execution_count": null,
   "outputs": [],
   "source": [],
   "metadata": {
    "collapsed": false
   }
  }
 ]
}
