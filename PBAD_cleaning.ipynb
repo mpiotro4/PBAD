{
 "nbformat": 4,
 "nbformat_minor": 0,
 "metadata": {
  "colab": {
   "provenance": []
  },
  "kernelspec": {
   "name": "python3",
   "language": "python",
   "display_name": "Python 3 (ipykernel)"
  },
  "language_info": {
   "name": "python"
  }
 },
 "cells": [
  {
   "cell_type": "markdown",
   "source": [
    "Importing modules"
   ],
   "metadata": {
    "id": "UWA7rV01AhOd"
   }
  },
  {
   "cell_type": "code",
   "source": [
    "import numpy as np\n",
    "import pandas as pd"
   ],
   "metadata": {
    "id": "rI_wpcpXAr6n",
    "is_executing": true
   },
   "execution_count": null,
   "outputs": []
  },
  {
   "cell_type": "markdown",
   "source": [
    "Defining custom functions"
   ],
   "metadata": {
    "id": "n6yZGFsVAQPu"
   }
  },
  {
   "cell_type": "code",
   "source": [
    "def display_columns():\n",
    "  print(\"Number of columns: \" + str(len(df.columns)))\n",
    "  print(df.columns)"
   ],
   "metadata": {
    "id": "fhyQe7b_AHtR",
    "ExecuteTime": {
     "end_time": "2023-05-19T11:24:18.017102900Z",
     "start_time": "2023-05-19T11:24:17.646103200Z"
    }
   },
   "execution_count": 21,
   "outputs": []
  },
  {
   "cell_type": "code",
   "source": [
    "def display_summary():\n",
    "  columns=list(df.columns)\n",
    "  columns_cnt=len(columns)\n",
    "  rows_cnt=len(df.index)\n",
    "\n",
    "  print(\"Number of rows: \" + str(rows_cnt))\n",
    "  print(\"Number of columns: \" + str(columns_cnt))\n",
    "  print(\"Used columns: \")\n",
    "  print(columns)"
   ],
   "metadata": {
    "id": "YKHZeTLpAg3V",
    "ExecuteTime": {
     "end_time": "2023-05-19T11:24:18.017102900Z",
     "start_time": "2023-05-19T11:24:17.667101400Z"
    }
   },
   "execution_count": 22,
   "outputs": []
  },
  {
   "cell_type": "code",
   "source": [
    "def rename_columns():\n",
    "  new_headers = {\n",
    "      # Closures & containment\n",
    "      \"C1M_School closing\" : \"C1M\",\n",
    "      \"C2M_Workplace closing\" : \"C2M\",\n",
    "      \"C3M_Cancel public events\" : \"C3M\",\n",
    "      \"C4M_Restrictions on gatherings\" : \"C4M\",\n",
    "      \"C5M_Close public transport\" : \"C5M\",\n",
    "      \"C6M_Stay at home requirements\" : \"C6M\",\n",
    "      \"C7M_Restrictions on internal movement\" : \"C7M\",\n",
    "      \"C8EV_International travel controls\" : \"C8M\",\n",
    "\n",
    "      # Health measures\n",
    "      \"H1_Public information campaigns\" : \"H1\"\n",
    "  }\n",
    "\n",
    "  df.rename(columns=new_headers, inplace=True)"
   ],
   "metadata": {
    "id": "pSfn4KCgb6-W",
    "ExecuteTime": {
     "end_time": "2023-05-19T11:24:18.020101700Z",
     "start_time": "2023-05-19T11:24:17.683104500Z"
    }
   },
   "execution_count": 23,
   "outputs": []
  },
  {
   "cell_type": "code",
   "source": [
    "def filter_columns():\n",
    "  # Dropping not used columns with region information & other\n",
    "  region_related_cls=[\"CountryCode\", \"RegionName\", \"RegionCode\", \"Jurisdiction\", \"M1_Wildcard\", \"StringencyIndex_Average_ForDisplay\"]\n",
    "  df.drop(columns=region_related_cls, inplace=True)\n",
    "\n",
    "  # Defining regexes to filter not used columns indices\n",
    "  economic_filter='^E[1-4]_*'\n",
    "  health_system_filter='^H[2-8][M]?_*'\n",
    "  vaccination_filter='^V[1-4][A-Z]?_*'\n",
    "  GRI_filter='GovernmentResponseIndex*'\n",
    "  CHI_filter='ContainmentHealthIndex*'\n",
    "  ESI_filter='EconomicSupportIndex*'\n",
    "  filters=[economic_filter, health_system_filter, vaccination_filter, GRI_filter, CHI_filter, ESI_filter]\n",
    "\n",
    "  for filter in filters:\n",
    "    df.drop(columns=df.filter(regex=filter), inplace=True)"
   ],
   "metadata": {
    "id": "rCRwSKCoHmdU",
    "ExecuteTime": {
     "end_time": "2023-05-19T11:24:18.034102400Z",
     "start_time": "2023-05-19T11:24:17.700100900Z"
    }
   },
   "execution_count": 24,
   "outputs": []
  },
  {
   "cell_type": "code",
   "source": [
    "def add_previous_stringency_index():\n",
    "    df['Prev_StringencyIndex_Average']=0\n",
    "\n",
    "    for i in range(1, len(df)):\n",
    "      # First row from certain country\n",
    "      if df.at[i, 'CountryName'] != df.at[i-1, 'CountryName']:\n",
    "        df.loc[i, 'Prev_StringencyIndex_Average'] = 0.0\n",
    "      else:\n",
    "        df.loc[i, 'Prev_StringencyIndex_Average'] = df.loc[i-1, 'StringencyIndex_Average']"
   ],
   "metadata": {
    "id": "tHiMBF09MBsj",
    "ExecuteTime": {
     "end_time": "2023-05-19T11:24:18.038101400Z",
     "start_time": "2023-05-19T11:24:17.709102Z"
    }
   },
   "execution_count": 25,
   "outputs": []
  },
  {
   "cell_type": "code",
   "source": [
    "def get_npi_difference():\n",
    "  # Add column for Stringency Index diff value\n",
    "  df['Daily_StringencyIndex_Change']=0\n",
    "\n",
    "  for i in range(1, len(df)):\n",
    "    # Create np arrays for calculating Stringency Index diff\n",
    "    npis=np.zeros((1,0))\n",
    "    npis_flag=np.zeros((1,0))\n",
    "\n",
    "    # First row from certain country\n",
    "    if df.at[i, 'CountryName'] != df.at[i-1, 'CountryName']:\n",
    "\n",
    "      for npi in subset:\n",
    "        npis = np.append(npis, [df.at[i, npi]])\n",
    "      for flag in flag_subset:\n",
    "        npis_flag = np.append(npis_flag, [df.at[i, flag]])\n",
    "    \n",
    "    else:\n",
    "      # Check whether any NPI value has changed\n",
    "      for npi in subset:\n",
    "        if df.at[i-1, npi] != df.at[i, npi]:\n",
    "          npis = np.append(npis, [df.at[i, npi]])\n",
    "        else:\n",
    "          npis = np.append(npis, [0])\n",
    "\n",
    "      # Check whether any NPI flag has changed\n",
    "      for flag in flag_subset:\n",
    "        if df.at[i-1, flag] != df.at[i, flag]:\n",
    "          npis_flag = np.append(npis_flag, [df.at[i, flag]])\n",
    "        else: \n",
    "          npis_flag = np.append(npis, [0])\n",
    "\n",
    "      daily_si=calculate_simplified_si(npis)\n",
    "      df.at[i, 'Daily_StringencyIndex_Change'] = daily_si\n"
   ],
   "metadata": {
    "id": "RGd1acfaZnQR",
    "ExecuteTime": {
     "end_time": "2023-05-19T11:24:18.041099700Z",
     "start_time": "2023-05-19T11:24:17.726100900Z"
    }
   },
   "execution_count": 26,
   "outputs": []
  },
  {
   "cell_type": "code",
   "source": [
    "# Do not consider flags while calculating Stringency Index\n",
    "def calculate_simplified_si(npis):\n",
    "  # Max values of npis\n",
    "  max_npi_values=[3,3,2,4,2,3,2,4,2]                                    \n",
    "  si=0\n",
    "\n",
    "  for i in range(0, len(npis)):\n",
    "    si = si + (npis[i] / max_npi_values[i])\n",
    "    \n",
    "  si=si/len(npis) \n",
    "  return si"
   ],
   "metadata": {
    "id": "gN_59toPZtOd",
    "ExecuteTime": {
     "end_time": "2023-05-19T11:24:18.069104500Z",
     "start_time": "2023-05-19T11:24:17.760103Z"
    }
   },
   "execution_count": 27,
   "outputs": []
  },
  {
   "cell_type": "code",
   "source": [
    "def calculate_si():\n",
    "  pass"
   ],
   "metadata": {
    "id": "rS0dnI0wmrow",
    "ExecuteTime": {
     "end_time": "2023-05-19T11:24:18.072104600Z",
     "start_time": "2023-05-19T11:24:17.790103200Z"
    }
   },
   "execution_count": 28,
   "outputs": []
  },
  {
   "cell_type": "markdown",
   "source": [
    "**[STEP 1]** Read data from CSV"
   ],
   "metadata": {
    "id": "nwsEn8CbT1Ch"
   }
  },
  {
   "cell_type": "code",
   "execution_count": 29,
   "metadata": {
    "id": "9rCxX_2vZ0EI",
    "colab": {
     "base_uri": "https://localhost:8080/",
     "height": 124
    },
    "outputId": "d87f2cdf-1480-4996-ff5c-5c94e27a7436",
    "ExecuteTime": {
     "end_time": "2023-05-19T11:24:19.825169600Z",
     "start_time": "2023-05-19T11:24:17.810105400Z"
    }
   },
   "outputs": [
    {
     "name": "stdout",
     "output_type": "stream",
     "text": [
      "Number of rows: 202819\n",
      "Number of columns: 61\n",
      "Used columns: \n",
      "['CountryName', 'CountryCode', 'RegionName', 'RegionCode', 'Jurisdiction', 'Date', 'C1M_School closing', 'C1M_Flag', 'C2M_Workplace closing', 'C2M_Flag', 'C3M_Cancel public events', 'C3M_Flag', 'C4M_Restrictions on gatherings', 'C4M_Flag', 'C5M_Close public transport', 'C5M_Flag', 'C6M_Stay at home requirements', 'C6M_Flag', 'C7M_Restrictions on internal movement', 'C7M_Flag', 'C8EV_International travel controls', 'E1_Income support', 'E1_Flag', 'E2_Debt/contract relief', 'E3_Fiscal measures', 'E4_International support', 'H1_Public information campaigns', 'H1_Flag', 'H2_Testing policy', 'H3_Contact tracing', 'H4_Emergency investment in healthcare', 'H5_Investment in vaccines', 'H6M_Facial Coverings', 'H6M_Flag', 'H7_Vaccination policy', 'H7_Flag', 'H8M_Protection of elderly people', 'H8M_Flag', 'M1_Wildcard', 'V1_Vaccine Prioritisation (summary)', 'V2A_Vaccine Availability (summary)', 'V2B_Vaccine age eligibility/availability age floor (general population summary)', 'V2C_Vaccine age eligibility/availability age floor (at risk summary)', 'V2D_Medically/ clinically vulnerable (Non-elderly)', 'V2E_Education', 'V2F_Frontline workers  (non healthcare)', 'V2G_Frontline workers  (healthcare)', 'V3_Vaccine Financial Support (summary)', 'V4_Mandatory Vaccination (summary)', 'ConfirmedCases', 'ConfirmedDeaths', 'MajorityVaccinated', 'PopulationVaccinated', 'StringencyIndex_Average', 'StringencyIndex_Average_ForDisplay', 'GovernmentResponseIndex_Average', 'GovernmentResponseIndex_Average_ForDisplay', 'ContainmentHealthIndex_Average', 'ContainmentHealthIndex_Average_ForDisplay', 'EconomicSupportIndex', 'EconomicSupportIndex_ForDisplay']\n"
     ]
    }
   ],
   "source": [
    "path=\"./OxCGR_nat_latest.csv\"\n",
    "\n",
    "dict=pd.read_csv(path)\n",
    "df=pd.DataFrame(dict)\n",
    "\n",
    "display_summary()"
   ]
  },
  {
   "cell_type": "markdown",
   "source": [
    "**[STEP 2]** Deleting not used and irrelevant columns"
   ],
   "metadata": {
    "id": "X5w62kyoMOgL"
   }
  },
  {
   "cell_type": "code",
   "source": [
    "filter_columns()"
   ],
   "metadata": {
    "id": "PFiw_qVuMKG0",
    "ExecuteTime": {
     "end_time": "2023-05-19T11:24:20.183740700Z",
     "start_time": "2023-05-19T11:24:19.881169100Z"
    }
   },
   "execution_count": 30,
   "outputs": []
  },
  {
   "cell_type": "markdown",
   "source": [
    "**[STEP 3]** Drop rows with NPI=Nan"
   ],
   "metadata": {
    "id": "3ISUNoCbFAbf"
   }
  },
  {
   "cell_type": "code",
   "source": [
    "df = df[df['StringencyIndex_Average'].notna()]"
   ],
   "metadata": {
    "id": "KqDc5FZdFGui",
    "ExecuteTime": {
     "end_time": "2023-05-19T11:24:20.249394600Z",
     "start_time": "2023-05-19T11:24:20.186749400Z"
    }
   },
   "execution_count": 31,
   "outputs": []
  },
  {
   "cell_type": "markdown",
   "source": [
    "**[STEP 4]** Rename columns to improve readibility"
   ],
   "metadata": {
    "id": "u1wO79ofnAXX"
   }
  },
  {
   "cell_type": "code",
   "source": [
    "rename_columns()"
   ],
   "metadata": {
    "colab": {
     "base_uri": "https://localhost:8080/"
    },
    "id": "6Nyh5Zv3YJDr",
    "outputId": "20df0edc-1746-4f33-93ac-5e17b5c0e19a",
    "ExecuteTime": {
     "end_time": "2023-05-19T11:24:20.265388200Z",
     "start_time": "2023-05-19T11:24:20.254390900Z"
    }
   },
   "execution_count": 32,
   "outputs": []
  },
  {
   "cell_type": "markdown",
   "source": [
    "**[STEP 5]** Deleting rows where none of NPIs are defined"
   ],
   "metadata": {
    "id": "rsmk_sOfCOQG"
   }
  },
  {
   "cell_type": "code",
   "source": [
    "subset=[\"C1M\", \"C2M\", \"C3M\", \"C4M\", \"C5M\", \"C6M\", \"C7M\", \"C8M\", \"H1\"]\n",
    "flag_subset=[\"C1M_Flag\", \"C2M_Flag\", \"C3M_Flag\", \"C4M_Flag\", \"C5M_Flag\", \"C6M_Flag\", \"C7M_Flag\", \"H1_Flag\"]\n",
    "df.dropna(subset=flag_subset, how='all', inplace=True)\n",
    "df.fillna(0, inplace=True)"
   ],
   "metadata": {
    "id": "hn5bweqxCWDP",
    "ExecuteTime": {
     "end_time": "2023-05-19T11:24:20.401391600Z",
     "start_time": "2023-05-19T11:24:20.269393700Z"
    }
   },
   "execution_count": 33,
   "outputs": []
  },
  {
   "cell_type": "markdown",
   "source": [
    "**[STEP 6]** Delete redundant rows"
   ],
   "metadata": {
    "id": "D_647CDU7O2F"
   }
  },
  {
   "cell_type": "code",
   "source": [
    "compared_columns=df.columns.tolist()\n",
    "\n",
    "compared_columns.remove('Date')\n",
    "compared_columns.remove('ConfirmedCases')\n",
    "compared_columns.remove('ConfirmedDeaths')\n",
    "compared_columns.remove('MajorityVaccinated')\n",
    "compared_columns.remove('PopulationVaccinated')\n",
    "\n",
    "df.drop_duplicates(subset=compared_columns, inplace=True)"
   ],
   "metadata": {
    "id": "QJ5kMoZJ7R_s",
    "ExecuteTime": {
     "end_time": "2023-05-19T11:24:20.567389300Z",
     "start_time": "2023-05-19T11:24:20.421409700Z"
    }
   },
   "execution_count": 34,
   "outputs": []
  },
  {
   "cell_type": "markdown",
   "source": [
    "**[STEP 7]** Copy Stringency Index from previous day "
   ],
   "metadata": {
    "id": "-bKCwTu4GVmY"
   }
  },
  {
   "cell_type": "code",
   "source": [
    "df.reset_index(drop=True, inplace=True)\n",
    "add_previous_stringency_index()"
   ],
   "metadata": {
    "id": "wMIRR26E9m_5",
    "ExecuteTime": {
     "end_time": "2023-05-19T11:24:28.583652500Z",
     "start_time": "2023-05-19T11:24:20.573389500Z"
    }
   },
   "execution_count": 35,
   "outputs": []
  },
  {
   "cell_type": "markdown",
   "source": [
    "**[STEP 8]** Calculate Stringency Index of NPI established certain day"
   ],
   "metadata": {
    "id": "LYIeVpkuE216"
   }
  },
  {
   "cell_type": "code",
   "source": [
    "get_npi_difference()"
   ],
   "metadata": {
    "id": "DHNm8okBFAxv",
    "ExecuteTime": {
     "end_time": "2023-05-19T11:24:36.056220900Z",
     "start_time": "2023-05-19T11:24:28.587668200Z"
    }
   },
   "execution_count": 36,
   "outputs": []
  },
  {
   "cell_type": "markdown",
   "source": [
    "**[STEP 9]** Show results"
   ],
   "metadata": {
    "id": "vGGH0cqPtjgK"
   }
  },
  {
   "cell_type": "code",
   "source": [
    "df.head()\n",
    "print(df['Daily_StringencyIndex_Change'].max())"
   ],
   "metadata": {
    "colab": {
     "base_uri": "https://localhost:8080/"
    },
    "id": "ssGF7PeoqxHN",
    "outputId": "f885579e-cc50-4287-e17c-77ea1c322038",
    "ExecuteTime": {
     "end_time": "2023-05-19T11:24:36.078331700Z",
     "start_time": "2023-05-19T11:24:36.056220900Z"
    }
   },
   "execution_count": 37,
   "outputs": [
    {
     "name": "stdout",
     "output_type": "stream",
     "text": [
      "0\n"
     ]
    }
   ]
  },
  {
   "cell_type": "markdown",
   "source": [
    "**[STEP 10]** Save DataFrame with results to csv"
   ],
   "metadata": {
    "id": "CEDHIQNTtnyX"
   }
  },
  {
   "cell_type": "code",
   "source": [
    "df.to_csv('OxCGRT_clean.csv', encoding = 'utf-8-sig')"
   ],
   "metadata": {
    "colab": {
     "base_uri": "https://localhost:8080/",
     "height": 17
    },
    "id": "Z32HpSVuDFw1",
    "outputId": "f103eeaa-f8e6-415b-d9bc-6be39a049628",
    "ExecuteTime": {
     "end_time": "2023-05-19T11:24:36.395021500Z",
     "start_time": "2023-05-19T11:24:36.078331700Z"
    }
   },
   "execution_count": 38,
   "outputs": []
  }
 ]
}
