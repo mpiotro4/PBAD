{
 "nbformat": 4,
 "nbformat_minor": 0,
 "metadata": {
  "colab": {
   "provenance": []
  },
  "kernelspec": {
   "name": "python3",
   "language": "python",
   "display_name": "Python 3 (ipykernel)"
  },
  "language_info": {
   "name": "python"
  }
 },
 "cells": [
  {
   "cell_type": "markdown",
   "source": [
    "Importing modules"
   ],
   "metadata": {
    "id": "UWA7rV01AhOd"
   }
  },
  {
   "cell_type": "code",
   "source": [
    "import numpy as np\n",
    "import pandas as pd"
   ],
   "metadata": {
    "id": "rI_wpcpXAr6n"
   },
   "execution_count": 2,
   "outputs": []
  },
  {
   "cell_type": "markdown",
   "source": [
    "Defining custom functions"
   ],
   "metadata": {
    "id": "n6yZGFsVAQPu"
   }
  },
  {
   "cell_type": "code",
   "source": [
    "def display_columns():\n",
    "  print(\"Number of columns: \" + str(len(df.columns)))\n",
    "  print(df.columns)"
   ],
   "metadata": {
    "id": "fhyQe7b_AHtR"
   },
   "execution_count": 3,
   "outputs": []
  },
  {
   "cell_type": "code",
   "source": [
    "def display_summary():\n",
    "  columns=list(df.columns)\n",
    "  columns_cnt=len(columns)\n",
    "  rows_cnt=len(df.index)\n",
    "\n",
    "  print(\"Number of rows: \" + str(rows_cnt))\n",
    "  print(\"Number of columns: \" + str(columns_cnt))\n",
    "  print(\"Used columns: \")\n",
    "  print(columns)"
   ],
   "metadata": {
    "id": "YKHZeTLpAg3V"
   },
   "execution_count": 4,
   "outputs": []
  },
  {
   "cell_type": "code",
   "source": [
    "def rename_columns():\n",
    "  new_headers = {\n",
    "      # Closures & containment\n",
    "      \"C1M_School closing\" : \"C1M\",\n",
    "      \"C2M_Workplace closing\" : \"C2M\",\n",
    "      \"C3M_Cancel public events\" : \"C3M\",\n",
    "      \"C4M_Restrictions on gatherings\" : \"C4M\",\n",
    "      \"C5M_Close public transport\" : \"C5M\",\n",
    "      \"C6M_Stay at home requirements\" : \"C6M\",\n",
    "      \"C7M_Restrictions on internal movement\" : \"C7M\",\n",
    "      \"C8EV_International travel controls\" : \"C8M\",\n",
    "\n",
    "      # Health measures\n",
    "      \"H1_Public information campaigns\" : \"H1\"\n",
    "  }\n",
    "\n",
    "  df.rename(columns=new_headers, inplace=True)"
   ],
   "metadata": {
    "id": "pSfn4KCgb6-W"
   },
   "execution_count": 5,
   "outputs": []
  },
  {
   "cell_type": "code",
   "source": [
    "def filter_columns():\n",
    "  # Dropping not used columns with region information & other\n",
    "  region_related_cls=[\"CountryCode\", \"RegionName\", \"RegionCode\", \"Jurisdiction\", \"M1_Wildcard\", \"StringencyIndex_Average_ForDisplay\"]\n",
    "  df.drop(columns=region_related_cls, inplace=True)\n",
    "\n",
    "  # Defining regexes to filter not used columns indices\n",
    "  economic_filter='^E[1-4]_*'\n",
    "  health_system_filter='^H[2-8][M]?_*'\n",
    "  vaccination_filter='^V[1-4][A-Z]?_*'\n",
    "  GRI_filter='GovernmentResponseIndex*'\n",
    "  CHI_filter='ContainmentHealthIndex*'\n",
    "  ESI_filter='EconomicSupportIndex*'\n",
    "  filters=[economic_filter, health_system_filter, vaccination_filter, GRI_filter, CHI_filter, ESI_filter]\n",
    "\n",
    "  for filter in filters:\n",
    "    df.drop(columns=df.filter(regex=filter), inplace=True)"
   ],
   "metadata": {
    "id": "rCRwSKCoHmdU"
   },
   "execution_count": 6,
   "outputs": []
  },
  {
   "cell_type": "code",
   "source": [
    "def add_previous_stringency_index():\n",
    "    df['Prev_StringencyIndex_Average']=0\n",
    "\n",
    "    for i in range(1, len(df)):\n",
    "      # First row from certain country\n",
    "      if df.at[i, 'CountryName'] != df.at[i-1, 'CountryName']:\n",
    "        df.loc[i, 'Prev_StringencyIndex_Average'] = 0.0\n",
    "      else:\n",
    "        df.loc[i, 'Prev_StringencyIndex_Average'] = df.loc[i-1, 'StringencyIndex_Average']"
   ],
   "metadata": {
    "id": "tHiMBF09MBsj"
   },
   "execution_count": 7,
   "outputs": []
  },
  {
   "cell_type": "code",
   "source": [
    "def get_npi_difference():\n",
    "  # Add column for Stringency Index diff value\n",
    "  df['Daily_StringencyIndex_Change']=0\n",
    "\n",
    "  for i in range(1, len(df)):\n",
    "    # Create np arrays for calculating Stringency Index diff\n",
    "    npis=np.zeros((1,0))\n",
    "    npis_flag=np.zeros((1,0))\n",
    "\n",
    "    # First row from certain country\n",
    "    if df.at[i, 'CountryName'] != df.at[i-1, 'CountryName']:\n",
    "\n",
    "      for npi in subset:\n",
    "        npis = np.append(npis, [df.at[i, npi]])\n",
    "      for flag in flag_subset:\n",
    "        npis_flag = np.append(npis_flag, [df.at[i, flag]])\n",
    "    \n",
    "    else:\n",
    "      # Check whether any NPI value has changed\n",
    "      for npi in subset:\n",
    "        if df.at[i-1, npi] != df.at[i, npi]:\n",
    "          npis = np.append(npis, [df.at[i, npi]])\n",
    "        else:\n",
    "          npis = np.append(npis, [0])\n",
    "\n",
    "      # Check whether any NPI flag has changed\n",
    "      for flag in flag_subset:\n",
    "        if df.at[i-1, flag] != df.at[i, flag]:\n",
    "          npis_flag = np.append(npis_flag, [df.at[i, flag]])\n",
    "        else: \n",
    "          npis_flag = np.append(npis, [0])\n",
    "\n",
    "      daily_si=calculate_simplified_si(npis)\n",
    "      df.at[i, 'Daily_StringencyIndex_Change'] = daily_si\n"
   ],
   "metadata": {
    "id": "RGd1acfaZnQR"
   },
   "execution_count": 8,
   "outputs": []
  },
  {
   "cell_type": "code",
   "source": [
    "# Do not consider flags while calculating Stringency Index\n",
    "def calculate_simplified_si(npis):\n",
    "  # Max values of npis\n",
    "  max_npi_values=[3,3,2,4,2,3,2,4,2]                                    \n",
    "  si=0\n",
    "\n",
    "  for i in range(0, len(npis)):\n",
    "    si = si + (npis[i] / max_npi_values[i])\n",
    "    \n",
    "  si=si/len(npis) \n",
    "  return si"
   ],
   "metadata": {
    "id": "gN_59toPZtOd"
   },
   "execution_count": 9,
   "outputs": []
  },
  {
   "cell_type": "code",
   "source": [
    "def calculate_si():\n",
    "  pass"
   ],
   "metadata": {
    "id": "rS0dnI0wmrow"
   },
   "execution_count": 10,
   "outputs": []
  },
  {
   "cell_type": "markdown",
   "source": [
    "**[STEP 1]** Read data from CSV"
   ],
   "metadata": {
    "id": "nwsEn8CbT1Ch"
   }
  },
  {
   "cell_type": "code",
   "execution_count": 11,
   "metadata": {
    "id": "9rCxX_2vZ0EI",
    "colab": {
     "base_uri": "https://localhost:8080/",
     "height": 124
    },
    "outputId": "d87f2cdf-1480-4996-ff5c-5c94e27a7436"
   },
   "outputs": [
    {
     "name": "stdout",
     "output_type": "stream",
     "text": [
      "Number of rows: 202819\n",
      "Number of columns: 61\n",
      "Used columns: \n",
      "['CountryName', 'CountryCode', 'RegionName', 'RegionCode', 'Jurisdiction', 'Date', 'C1M_School closing', 'C1M_Flag', 'C2M_Workplace closing', 'C2M_Flag', 'C3M_Cancel public events', 'C3M_Flag', 'C4M_Restrictions on gatherings', 'C4M_Flag', 'C5M_Close public transport', 'C5M_Flag', 'C6M_Stay at home requirements', 'C6M_Flag', 'C7M_Restrictions on internal movement', 'C7M_Flag', 'C8EV_International travel controls', 'E1_Income support', 'E1_Flag', 'E2_Debt/contract relief', 'E3_Fiscal measures', 'E4_International support', 'H1_Public information campaigns', 'H1_Flag', 'H2_Testing policy', 'H3_Contact tracing', 'H4_Emergency investment in healthcare', 'H5_Investment in vaccines', 'H6M_Facial Coverings', 'H6M_Flag', 'H7_Vaccination policy', 'H7_Flag', 'H8M_Protection of elderly people', 'H8M_Flag', 'M1_Wildcard', 'V1_Vaccine Prioritisation (summary)', 'V2A_Vaccine Availability (summary)', 'V2B_Vaccine age eligibility/availability age floor (general population summary)', 'V2C_Vaccine age eligibility/availability age floor (at risk summary)', 'V2D_Medically/ clinically vulnerable (Non-elderly)', 'V2E_Education', 'V2F_Frontline workers  (non healthcare)', 'V2G_Frontline workers  (healthcare)', 'V3_Vaccine Financial Support (summary)', 'V4_Mandatory Vaccination (summary)', 'ConfirmedCases', 'ConfirmedDeaths', 'MajorityVaccinated', 'PopulationVaccinated', 'StringencyIndex_Average', 'StringencyIndex_Average_ForDisplay', 'GovernmentResponseIndex_Average', 'GovernmentResponseIndex_Average_ForDisplay', 'ContainmentHealthIndex_Average', 'ContainmentHealthIndex_Average_ForDisplay', 'EconomicSupportIndex', 'EconomicSupportIndex_ForDisplay']\n"
     ]
    }
   ],
   "source": [
    "path=\"./OxCGRT_nat_latest.csv\"\n",
    "\n",
    "df=pd.read_csv(path)\n",
    "\n",
    "display_summary()"
   ]
  },
  {
   "cell_type": "markdown",
   "source": [
    "**[STEP 2]** Deleting not used and irrelevant columns"
   ],
   "metadata": {
    "id": "X5w62kyoMOgL"
   }
  },
  {
   "cell_type": "code",
   "source": [
    "filter_columns()"
   ],
   "metadata": {
    "id": "PFiw_qVuMKG0"
   },
   "execution_count": 12,
   "outputs": []
  },
  {
   "cell_type": "markdown",
   "source": [
    "**[STEP 3]** Drop rows with NPI=Nan"
   ],
   "metadata": {
    "id": "3ISUNoCbFAbf"
   }
  },
  {
   "cell_type": "code",
   "source": [
    "df = df[df['StringencyIndex_Average'].notna()]"
   ],
   "metadata": {
    "id": "KqDc5FZdFGui"
   },
   "execution_count": 13,
   "outputs": []
  },
  {
   "cell_type": "markdown",
   "source": [
    "**[STEP 4]** Rename columns to improve readibility"
   ],
   "metadata": {
    "id": "u1wO79ofnAXX"
   }
  },
  {
   "cell_type": "code",
   "source": [
    "rename_columns()"
   ],
   "metadata": {
    "colab": {
     "base_uri": "https://localhost:8080/"
    },
    "id": "6Nyh5Zv3YJDr",
    "outputId": "20df0edc-1746-4f33-93ac-5e17b5c0e19a"
   },
   "execution_count": 14,
   "outputs": []
  },
  {
   "cell_type": "markdown",
   "source": [
    "**[STEP 5]** Deleting rows where none of NPIs are defined"
   ],
   "metadata": {
    "id": "rsmk_sOfCOQG"
   }
  },
  {
   "cell_type": "code",
   "source": [
    "subset=[\"C1M\", \"C2M\", \"C3M\", \"C4M\", \"C5M\", \"C6M\", \"C7M\", \"C8M\", \"H1\"]\n",
    "flag_subset=[\"C1M_Flag\", \"C2M_Flag\", \"C3M_Flag\", \"C4M_Flag\", \"C5M_Flag\", \"C6M_Flag\", \"C7M_Flag\", \"H1_Flag\"]\n",
    "df.dropna(subset=flag_subset, how='all', inplace=True)\n",
    "df.fillna(0, inplace=True)"
   ],
   "metadata": {
    "id": "hn5bweqxCWDP"
   },
   "execution_count": 15,
   "outputs": []
  },
  {
   "cell_type": "markdown",
   "source": [
    "**[STEP 6]** Delete redundant rows"
   ],
   "metadata": {
    "id": "D_647CDU7O2F"
   }
  },
  {
   "cell_type": "code",
   "source": [
    "compared_columns=df.columns.tolist()\n",
    "\n",
    "compared_columns.remove('Date')\n",
    "compared_columns.remove('ConfirmedCases')\n",
    "compared_columns.remove('ConfirmedDeaths')\n",
    "compared_columns.remove('MajorityVaccinated')\n",
    "compared_columns.remove('PopulationVaccinated')\n",
    "\n",
    "df.drop_duplicates(subset=compared_columns, inplace=True)"
   ],
   "metadata": {
    "id": "QJ5kMoZJ7R_s"
   },
   "execution_count": 16,
   "outputs": []
  },
  {
   "cell_type": "markdown",
   "source": [
    "**[STEP 7]** Copy Stringency Index from previous day "
   ],
   "metadata": {
    "id": "-bKCwTu4GVmY"
   }
  },
  {
   "cell_type": "code",
   "source": [
    "df.reset_index(drop=True, inplace=True)\n",
    "add_previous_stringency_index()"
   ],
   "metadata": {
    "id": "wMIRR26E9m_5"
   },
   "execution_count": 17,
   "outputs": []
  },
  {
   "cell_type": "markdown",
   "source": [
    "**[STEP 8]** Calculate Stringency Index of NPI established certain day"
   ],
   "metadata": {
    "id": "LYIeVpkuE216"
   }
  },
  {
   "cell_type": "code",
   "source": [
    "get_npi_difference()"
   ],
   "metadata": {
    "id": "DHNm8okBFAxv"
   },
   "execution_count": 18,
   "outputs": []
  },
  {
   "cell_type": "markdown",
   "source": [
    "**[STEP 9]** Show results"
   ],
   "metadata": {
    "id": "vGGH0cqPtjgK"
   }
  },
  {
   "cell_type": "code",
   "source": [
    "df.head()\n",
    "print(df['Daily_StringencyIndex_Change'].max())"
   ],
   "metadata": {
    "colab": {
     "base_uri": "https://localhost:8080/"
    },
    "id": "ssGF7PeoqxHN",
    "outputId": "f885579e-cc50-4287-e17c-77ea1c322038"
   },
   "execution_count": 19,
   "outputs": [
    {
     "name": "stdout",
     "output_type": "stream",
     "text": [
      "0.8518518518518519\n"
     ]
    }
   ]
  },
  {
   "cell_type": "markdown",
   "source": [
    "**[STEP 10]** Add continent column"
   ],
   "metadata": {
    "collapsed": false
   }
  },
  {
   "cell_type": "markdown",
   "source": [],
   "metadata": {
    "collapsed": false
   }
  },
  {
   "cell_type": "code",
   "execution_count": 20,
   "outputs": [],
   "source": [
    "continents_df = pd.read_csv(\"./Countries-Continents.csv\")"
   ],
   "metadata": {
    "collapsed": false
   }
  },
  {
   "cell_type": "code",
   "execution_count": 21,
   "outputs": [],
   "source": [
    "continents_dict = dict(zip(continents_df.Country, continents_df.Continent))"
   ],
   "metadata": {
    "collapsed": false
   }
  },
  {
   "cell_type": "code",
   "execution_count": 22,
   "outputs": [],
   "source": [
    "df['Continent'] = df['CountryName'].map(continents_dict)"
   ],
   "metadata": {
    "collapsed": false
   }
  },
  {
   "cell_type": "code",
   "execution_count": 23,
   "outputs": [],
   "source": [
    "continent_col = df.pop('Continent')\n",
    "df.insert(0,'Continent',continent_col)"
   ],
   "metadata": {
    "collapsed": false
   }
  },
  {
   "cell_type": "code",
   "execution_count": 24,
   "outputs": [
    {
     "data": {
      "text/plain": "      Continent CountryName      Date  C1M  C1M_Flag  C2M  C2M_Flag  C3M   \n153      Europe     Albania  20200214  0.0       0.0  0.0       0.0  0.0  \\\n154      Europe     Albania  20200225  0.0       0.0  0.0       0.0  0.0   \n155      Europe     Albania  20200309  3.0       1.0  0.0       0.0  2.0   \n156      Europe     Albania  20200310  3.0       1.0  0.0       0.0  2.0   \n157      Europe     Albania  20200311  3.0       1.0  2.0       1.0  2.0   \n...         ...         ...       ...  ...       ...  ...       ...  ...   \n16265    Europe     Ukraine  20220224  1.0       1.0  2.0       0.0  2.0   \n16266    Europe     Ukraine  20220227  1.0       1.0  2.0       0.0  2.0   \n16267    Europe     Ukraine  20220317  1.0       1.0  2.0       0.0  2.0   \n16268    Europe     Ukraine  20220326  0.0       0.0  0.0       0.0  0.0   \n16269    Europe     Ukraine  20220517  0.0       0.0  0.0       0.0  0.0   \n\n       C3M_Flag  C4M  ...  C8M   H1  H1_Flag  ConfirmedCases  ConfirmedDeaths   \n153         0.0  0.0  ...  0.0  1.0      1.0             0.0              0.0  \\\n154         0.0  0.0  ...  1.0  1.0      1.0             0.0              0.0   \n155         1.0  2.0  ...  1.0  1.0      1.0             2.0              0.0   \n156         1.0  2.0  ...  1.0  2.0      1.0            10.0              0.0   \n157         1.0  2.0  ...  2.0  2.0      1.0            12.0              1.0   \n...         ...  ...  ...  ...  ...      ...             ...              ...   \n16265       0.0  0.0  ...  1.0  0.0      0.0       5040518.0         112459.0   \n16266       0.0  0.0  ...  1.0  0.0      0.0       5062889.0         112835.0   \n16267       0.0  0.0  ...  1.0  1.0      1.0       5153795.0         114366.0   \n16268       0.0  0.0  ...  1.0  1.0      1.0       5187213.0         114793.0   \n16269       0.0  0.0  ...  1.0  1.0      1.0       5240195.0         115451.0   \n\n       MajorityVaccinated  PopulationVaccinated  StringencyIndex_Average   \n153                    NV                  0.00                     5.56  \\\n154                    NV                  0.00                     8.33   \n155                    NV                  0.00                    36.11   \n156                    NV                  0.00                    41.67   \n157                    NV                  0.00                    51.85   \n...                   ...                   ...                      ...   \n16265                  NV                 38.14                    32.53   \n16266                  NV                 38.17                    32.52   \n16267                  NV                 38.17                    38.07   \n16268                  NV                 38.17                    10.05   \n16269                  NV                 38.17                     8.33   \n\n       Prev_StringencyIndex_Average  Daily_StringencyIndex_Change  \n153                            0.00                      0.000000  \n154                            5.56                      0.027778  \n155                            8.33                      0.277778  \n156                           36.11                      0.111111  \n157                           41.67                      0.129630  \n...                             ...                           ...  \n16265                         43.64                      0.000000  \n16266                         32.53                      0.000000  \n16267                         32.52                      0.055556  \n16268                         38.07                      0.000000  \n16269                         10.05                      0.000000  \n\n[5090 rows x 27 columns]",
      "text/html": "<div>\n<style scoped>\n    .dataframe tbody tr th:only-of-type {\n        vertical-align: middle;\n    }\n\n    .dataframe tbody tr th {\n        vertical-align: top;\n    }\n\n    .dataframe thead th {\n        text-align: right;\n    }\n</style>\n<table border=\"1\" class=\"dataframe\">\n  <thead>\n    <tr style=\"text-align: right;\">\n      <th></th>\n      <th>Continent</th>\n      <th>CountryName</th>\n      <th>Date</th>\n      <th>C1M</th>\n      <th>C1M_Flag</th>\n      <th>C2M</th>\n      <th>C2M_Flag</th>\n      <th>C3M</th>\n      <th>C3M_Flag</th>\n      <th>C4M</th>\n      <th>...</th>\n      <th>C8M</th>\n      <th>H1</th>\n      <th>H1_Flag</th>\n      <th>ConfirmedCases</th>\n      <th>ConfirmedDeaths</th>\n      <th>MajorityVaccinated</th>\n      <th>PopulationVaccinated</th>\n      <th>StringencyIndex_Average</th>\n      <th>Prev_StringencyIndex_Average</th>\n      <th>Daily_StringencyIndex_Change</th>\n    </tr>\n  </thead>\n  <tbody>\n    <tr>\n      <th>153</th>\n      <td>Europe</td>\n      <td>Albania</td>\n      <td>20200214</td>\n      <td>0.0</td>\n      <td>0.0</td>\n      <td>0.0</td>\n      <td>0.0</td>\n      <td>0.0</td>\n      <td>0.0</td>\n      <td>0.0</td>\n      <td>...</td>\n      <td>0.0</td>\n      <td>1.0</td>\n      <td>1.0</td>\n      <td>0.0</td>\n      <td>0.0</td>\n      <td>NV</td>\n      <td>0.00</td>\n      <td>5.56</td>\n      <td>0.00</td>\n      <td>0.000000</td>\n    </tr>\n    <tr>\n      <th>154</th>\n      <td>Europe</td>\n      <td>Albania</td>\n      <td>20200225</td>\n      <td>0.0</td>\n      <td>0.0</td>\n      <td>0.0</td>\n      <td>0.0</td>\n      <td>0.0</td>\n      <td>0.0</td>\n      <td>0.0</td>\n      <td>...</td>\n      <td>1.0</td>\n      <td>1.0</td>\n      <td>1.0</td>\n      <td>0.0</td>\n      <td>0.0</td>\n      <td>NV</td>\n      <td>0.00</td>\n      <td>8.33</td>\n      <td>5.56</td>\n      <td>0.027778</td>\n    </tr>\n    <tr>\n      <th>155</th>\n      <td>Europe</td>\n      <td>Albania</td>\n      <td>20200309</td>\n      <td>3.0</td>\n      <td>1.0</td>\n      <td>0.0</td>\n      <td>0.0</td>\n      <td>2.0</td>\n      <td>1.0</td>\n      <td>2.0</td>\n      <td>...</td>\n      <td>1.0</td>\n      <td>1.0</td>\n      <td>1.0</td>\n      <td>2.0</td>\n      <td>0.0</td>\n      <td>NV</td>\n      <td>0.00</td>\n      <td>36.11</td>\n      <td>8.33</td>\n      <td>0.277778</td>\n    </tr>\n    <tr>\n      <th>156</th>\n      <td>Europe</td>\n      <td>Albania</td>\n      <td>20200310</td>\n      <td>3.0</td>\n      <td>1.0</td>\n      <td>0.0</td>\n      <td>0.0</td>\n      <td>2.0</td>\n      <td>1.0</td>\n      <td>2.0</td>\n      <td>...</td>\n      <td>1.0</td>\n      <td>2.0</td>\n      <td>1.0</td>\n      <td>10.0</td>\n      <td>0.0</td>\n      <td>NV</td>\n      <td>0.00</td>\n      <td>41.67</td>\n      <td>36.11</td>\n      <td>0.111111</td>\n    </tr>\n    <tr>\n      <th>157</th>\n      <td>Europe</td>\n      <td>Albania</td>\n      <td>20200311</td>\n      <td>3.0</td>\n      <td>1.0</td>\n      <td>2.0</td>\n      <td>1.0</td>\n      <td>2.0</td>\n      <td>1.0</td>\n      <td>2.0</td>\n      <td>...</td>\n      <td>2.0</td>\n      <td>2.0</td>\n      <td>1.0</td>\n      <td>12.0</td>\n      <td>1.0</td>\n      <td>NV</td>\n      <td>0.00</td>\n      <td>51.85</td>\n      <td>41.67</td>\n      <td>0.129630</td>\n    </tr>\n    <tr>\n      <th>...</th>\n      <td>...</td>\n      <td>...</td>\n      <td>...</td>\n      <td>...</td>\n      <td>...</td>\n      <td>...</td>\n      <td>...</td>\n      <td>...</td>\n      <td>...</td>\n      <td>...</td>\n      <td>...</td>\n      <td>...</td>\n      <td>...</td>\n      <td>...</td>\n      <td>...</td>\n      <td>...</td>\n      <td>...</td>\n      <td>...</td>\n      <td>...</td>\n      <td>...</td>\n      <td>...</td>\n    </tr>\n    <tr>\n      <th>16265</th>\n      <td>Europe</td>\n      <td>Ukraine</td>\n      <td>20220224</td>\n      <td>1.0</td>\n      <td>1.0</td>\n      <td>2.0</td>\n      <td>0.0</td>\n      <td>2.0</td>\n      <td>0.0</td>\n      <td>0.0</td>\n      <td>...</td>\n      <td>1.0</td>\n      <td>0.0</td>\n      <td>0.0</td>\n      <td>5040518.0</td>\n      <td>112459.0</td>\n      <td>NV</td>\n      <td>38.14</td>\n      <td>32.53</td>\n      <td>43.64</td>\n      <td>0.000000</td>\n    </tr>\n    <tr>\n      <th>16266</th>\n      <td>Europe</td>\n      <td>Ukraine</td>\n      <td>20220227</td>\n      <td>1.0</td>\n      <td>1.0</td>\n      <td>2.0</td>\n      <td>0.0</td>\n      <td>2.0</td>\n      <td>0.0</td>\n      <td>0.0</td>\n      <td>...</td>\n      <td>1.0</td>\n      <td>0.0</td>\n      <td>0.0</td>\n      <td>5062889.0</td>\n      <td>112835.0</td>\n      <td>NV</td>\n      <td>38.17</td>\n      <td>32.52</td>\n      <td>32.53</td>\n      <td>0.000000</td>\n    </tr>\n    <tr>\n      <th>16267</th>\n      <td>Europe</td>\n      <td>Ukraine</td>\n      <td>20220317</td>\n      <td>1.0</td>\n      <td>1.0</td>\n      <td>2.0</td>\n      <td>0.0</td>\n      <td>2.0</td>\n      <td>0.0</td>\n      <td>0.0</td>\n      <td>...</td>\n      <td>1.0</td>\n      <td>1.0</td>\n      <td>1.0</td>\n      <td>5153795.0</td>\n      <td>114366.0</td>\n      <td>NV</td>\n      <td>38.17</td>\n      <td>38.07</td>\n      <td>32.52</td>\n      <td>0.055556</td>\n    </tr>\n    <tr>\n      <th>16268</th>\n      <td>Europe</td>\n      <td>Ukraine</td>\n      <td>20220326</td>\n      <td>0.0</td>\n      <td>0.0</td>\n      <td>0.0</td>\n      <td>0.0</td>\n      <td>0.0</td>\n      <td>0.0</td>\n      <td>0.0</td>\n      <td>...</td>\n      <td>1.0</td>\n      <td>1.0</td>\n      <td>1.0</td>\n      <td>5187213.0</td>\n      <td>114793.0</td>\n      <td>NV</td>\n      <td>38.17</td>\n      <td>10.05</td>\n      <td>38.07</td>\n      <td>0.000000</td>\n    </tr>\n    <tr>\n      <th>16269</th>\n      <td>Europe</td>\n      <td>Ukraine</td>\n      <td>20220517</td>\n      <td>0.0</td>\n      <td>0.0</td>\n      <td>0.0</td>\n      <td>0.0</td>\n      <td>0.0</td>\n      <td>0.0</td>\n      <td>0.0</td>\n      <td>...</td>\n      <td>1.0</td>\n      <td>1.0</td>\n      <td>1.0</td>\n      <td>5240195.0</td>\n      <td>115451.0</td>\n      <td>NV</td>\n      <td>38.17</td>\n      <td>8.33</td>\n      <td>10.05</td>\n      <td>0.000000</td>\n    </tr>\n  </tbody>\n</table>\n<p>5090 rows × 27 columns</p>\n</div>"
     },
     "execution_count": 24,
     "metadata": {},
     "output_type": "execute_result"
    }
   ],
   "source": [
    "df[df['Continent']== 'Europe']"
   ],
   "metadata": {
    "collapsed": false
   }
  },
  {
   "cell_type": "markdown",
   "source": [
    "**[STEP 11]** Save DataFrame with results to csv"
   ],
   "metadata": {
    "id": "CEDHIQNTtnyX"
   }
  },
  {
   "cell_type": "code",
   "source": [
    "df.to_csv('OxCGRT_clean.csv', encoding = 'utf-8-sig', index = False)"
   ],
   "metadata": {
    "colab": {
     "base_uri": "https://localhost:8080/",
     "height": 17
    },
    "id": "Z32HpSVuDFw1",
    "outputId": "f103eeaa-f8e6-415b-d9bc-6be39a049628"
   },
   "execution_count": 25,
   "outputs": []
  }
 ]
}
