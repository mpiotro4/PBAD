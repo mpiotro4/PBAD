{
 "nbformat": 4,
 "nbformat_minor": 0,
 "metadata": {
  "colab": {
   "provenance": []
  },
  "kernelspec": {
   "name": "python3",
   "language": "python",
   "display_name": "Python 3 (ipykernel)"
  },
  "language_info": {
   "name": "python"
  }
 },
 "cells": [
  {
   "cell_type": "code",
   "source": [
    "import numpy as np\n",
    "import pandas as pd\n",
    "import math\n",
    "import datetime\n",
    "from sklearn.utils import shuffle"
   ],
   "metadata": {
    "id": "PMEijfHSoAwA",
    "ExecuteTime": {
     "end_time": "2023-05-25T08:28:47.925201700Z",
     "start_time": "2023-05-25T08:28:43.753087700Z"
    }
   },
   "execution_count": 1,
   "outputs": []
  },
  {
   "cell_type": "markdown",
   "source": [
    "### Defining custom functions"
   ],
   "metadata": {
    "collapsed": false
   }
  },
  {
   "cell_type": "code",
   "execution_count": 3,
   "outputs": [],
   "source": [
    "def load_dataset(path):\n",
    "    df = pd.read_csv(path, sep=',')\n",
    "    df['Date'] = df['Date'].apply(lambda x: datetime.datetime.strptime(str(x), \"%Y%m%d\").date().strftime(\"%B %d, %Y\"))\n",
    "    return df"
   ],
   "metadata": {
    "collapsed": false,
    "ExecuteTime": {
     "end_time": "2023-05-25T08:28:48.074623800Z",
     "start_time": "2023-05-25T08:28:47.943208200Z"
    }
   }
  },
  {
   "cell_type": "code",
   "execution_count": 4,
   "outputs": [],
   "source": [
    "def add_previous_npis(npis_prev, npis_curr):\n",
    "    for prev, curr in zip(npis_prev, npis_curr):\n",
    "        df[prev] = df.groupby('CountryName')[curr].shift()\n",
    "\n",
    "    df.dropna(subset=npis_prev, inplace=True)"
   ],
   "metadata": {
    "collapsed": false,
    "ExecuteTime": {
     "end_time": "2023-05-25T08:28:48.107657100Z",
     "start_time": "2023-05-25T08:28:47.971787400Z"
    }
   }
  },
  {
   "cell_type": "code",
   "execution_count": 5,
   "outputs": [],
   "source": [
    "def prepare_samples_and_labels():\n",
    "    #prepare samples\n",
    "    samples = df[npis_prev]\n",
    "    samples.insert(0, 'StringencyIndex_Average', df['StringencyIndex_Average'].div(100))\n",
    "    samples = samples.to_numpy()\n",
    "\n",
    "    #prepare labels\n",
    "    labels = []\n",
    "    for npi in npis:\n",
    "        labels.append(df[npi].to_numpy())\n",
    "\n",
    "    return samples, labels"
   ],
   "metadata": {
    "collapsed": false,
    "ExecuteTime": {
     "end_time": "2023-05-25T08:28:48.108670Z",
     "start_time": "2023-05-25T08:28:47.984581900Z"
    }
   }
  },
  {
   "cell_type": "code",
   "execution_count": 6,
   "outputs": [],
   "source": [
    "def split_to_train_and_test(samples, labels, ratio=0.85):\n",
    "    split_index = math.floor(ratio * len(samples))\n",
    "\n",
    "    train_samples = samples[:split_index]\n",
    "    train_labels = []\n",
    "\n",
    "    for label in labels:\n",
    "        train_labels.append(label[:split_index])\n",
    "\n",
    "    test_samples = samples[split_index:]\n",
    "    test_labels = []\n",
    "\n",
    "    for label in labels:\n",
    "        test_labels.append(label[split_index:])\n",
    "\n",
    "    return train_samples, train_labels, test_samples, test_labels"
   ],
   "metadata": {
    "collapsed": false,
    "ExecuteTime": {
     "end_time": "2023-05-25T08:28:48.109157400Z",
     "start_time": "2023-05-25T08:28:48.007574900Z"
    }
   }
  },
  {
   "cell_type": "markdown",
   "source": [
    "### Preprocess data"
   ],
   "metadata": {
    "collapsed": false
   }
  },
  {
   "cell_type": "code",
   "execution_count": 7,
   "outputs": [],
   "source": [
    "npis = [\n",
    "    \"C1M\",\n",
    "    \"C2M\",\n",
    "    \"C3M\",\n",
    "    \"C4M\",\n",
    "    \"C5M\",\n",
    "    \"C6M\",\n",
    "    \"C7M\",\n",
    "    \"C8M\",\n",
    "    \"H1\"\n",
    "]\n",
    "\n",
    "npis_prev = [\n",
    "    \"C1M_prev\",\n",
    "    \"C2M_prev\",\n",
    "    \"C3M_prev\",\n",
    "    \"C4M_prev\",\n",
    "    \"C5M_prev\",\n",
    "    \"C6M_prev\",\n",
    "    \"C7M_prev\",\n",
    "    \"C8M_prev\",\n",
    "    \"H1_prev\"\n",
    "]\n",
    "\n",
    "npi_labels = [\n",
    "    \"School closing\",\n",
    "    \"Workplace closing\",\n",
    "    \"Cancel public events\",\n",
    "    \"Restrictions on gatherings\",\n",
    "    \"Close public transport\",\n",
    "    \"Stay at home requirements\",\n",
    "    \"Restrictions on internal movement\",\n",
    "    \"International travel controls\",\n",
    "    \"Public information campaigns\"\n",
    "]"
   ],
   "metadata": {
    "collapsed": false,
    "ExecuteTime": {
     "end_time": "2023-05-25T08:28:48.148246700Z",
     "start_time": "2023-05-25T08:28:48.047527400Z"
    }
   }
  },
  {
   "cell_type": "code",
   "execution_count": 8,
   "outputs": [],
   "source": [
    "df = load_dataset(\"./OxCGRT_clean.csv\")"
   ],
   "metadata": {
    "collapsed": false,
    "ExecuteTime": {
     "end_time": "2023-05-25T08:28:49.457445700Z",
     "start_time": "2023-05-25T08:28:48.049918800Z"
    }
   }
  },
  {
   "cell_type": "code",
   "execution_count": 9,
   "outputs": [
    {
     "data": {
      "text/plain": "  Continent CountryName            Date  C1M  C1M_Flag  C2M  C2M_Flag  C3M   \n0       NaN       Aruba  March 16, 2020  3.0       1.0  0.0       0.0  0.0  \\\n1       NaN       Aruba  March 17, 2020  3.0       1.0  0.0       0.0  0.0   \n2       NaN       Aruba  March 18, 2020  3.0       1.0  0.0       0.0  0.0   \n3       NaN       Aruba  March 21, 2020  3.0       1.0  2.0       1.0  0.0   \n4       NaN       Aruba  March 29, 2020  3.0       1.0  3.0       1.0  2.0   \n5       NaN       Aruba  April 10, 2020  3.0       1.0  3.0       1.0  2.0   \n6       NaN       Aruba    May 04, 2020  3.0       1.0  2.0       1.0  2.0   \n7       NaN       Aruba    May 18, 2020  2.0       1.0  2.0       1.0  2.0   \n8       NaN       Aruba    May 28, 2020  2.0       1.0  2.0       1.0  2.0   \n9       NaN       Aruba    May 31, 2020  2.0       1.0  2.0       1.0  2.0   \n\n   C3M_Flag  C4M  ...  C8M   H1  H1_Flag  ConfirmedCases  ConfirmedDeaths   \n0       0.0  0.0  ...  0.0  0.0      0.0             2.0              0.0  \\\n1       0.0  0.0  ...  4.0  0.0      0.0             3.0              0.0   \n2       0.0  0.0  ...  4.0  2.0      1.0             4.0              0.0   \n3       0.0  0.0  ...  4.0  2.0      1.0             5.0              0.0   \n4       1.0  4.0  ...  4.0  2.0      1.0            50.0              0.0   \n5       1.0  4.0  ...  4.0  2.0      1.0            86.0              0.0   \n6       1.0  4.0  ...  4.0  2.0      1.0           100.0              2.0   \n7       1.0  0.0  ...  4.0  2.0      1.0           101.0              3.0   \n8       1.0  0.0  ...  4.0  2.0      1.0           101.0              3.0   \n9       1.0  0.0  ...  4.0  2.0      1.0           101.0              3.0   \n\n   MajorityVaccinated  PopulationVaccinated  StringencyIndex_Average   \n0                  NV                   0.0                    11.11  \\\n1                  NV                   0.0                    22.22   \n2                  NV                   0.0                    33.33   \n3                  NV                   0.0                    44.44   \n4                  NV                   0.0                    85.19   \n5                  NV                   0.0                    88.89   \n6                  NV                   0.0                    81.48   \n7                  NV                   0.0                    66.67   \n8                  NV                   0.0                    62.96   \n9                  NV                   0.0                    57.41   \n\n   Prev_StringencyIndex_Average  Daily_StringencyIndex_Change  \n0                          0.00                      0.000000  \n1                         11.11                      0.111111  \n2                         22.22                      0.111111  \n3                         33.33                      0.111111  \n4                         44.44                      0.518519  \n5                         85.19                      0.111111  \n6                         88.89                      0.148148  \n7                         81.48                      0.074074  \n8                         66.67                      0.037037  \n9                         62.96                      0.055556  \n\n[10 rows x 27 columns]",
      "text/html": "<div>\n<style scoped>\n    .dataframe tbody tr th:only-of-type {\n        vertical-align: middle;\n    }\n\n    .dataframe tbody tr th {\n        vertical-align: top;\n    }\n\n    .dataframe thead th {\n        text-align: right;\n    }\n</style>\n<table border=\"1\" class=\"dataframe\">\n  <thead>\n    <tr style=\"text-align: right;\">\n      <th></th>\n      <th>Continent</th>\n      <th>CountryName</th>\n      <th>Date</th>\n      <th>C1M</th>\n      <th>C1M_Flag</th>\n      <th>C2M</th>\n      <th>C2M_Flag</th>\n      <th>C3M</th>\n      <th>C3M_Flag</th>\n      <th>C4M</th>\n      <th>...</th>\n      <th>C8M</th>\n      <th>H1</th>\n      <th>H1_Flag</th>\n      <th>ConfirmedCases</th>\n      <th>ConfirmedDeaths</th>\n      <th>MajorityVaccinated</th>\n      <th>PopulationVaccinated</th>\n      <th>StringencyIndex_Average</th>\n      <th>Prev_StringencyIndex_Average</th>\n      <th>Daily_StringencyIndex_Change</th>\n    </tr>\n  </thead>\n  <tbody>\n    <tr>\n      <th>0</th>\n      <td>NaN</td>\n      <td>Aruba</td>\n      <td>March 16, 2020</td>\n      <td>3.0</td>\n      <td>1.0</td>\n      <td>0.0</td>\n      <td>0.0</td>\n      <td>0.0</td>\n      <td>0.0</td>\n      <td>0.0</td>\n      <td>...</td>\n      <td>0.0</td>\n      <td>0.0</td>\n      <td>0.0</td>\n      <td>2.0</td>\n      <td>0.0</td>\n      <td>NV</td>\n      <td>0.0</td>\n      <td>11.11</td>\n      <td>0.00</td>\n      <td>0.000000</td>\n    </tr>\n    <tr>\n      <th>1</th>\n      <td>NaN</td>\n      <td>Aruba</td>\n      <td>March 17, 2020</td>\n      <td>3.0</td>\n      <td>1.0</td>\n      <td>0.0</td>\n      <td>0.0</td>\n      <td>0.0</td>\n      <td>0.0</td>\n      <td>0.0</td>\n      <td>...</td>\n      <td>4.0</td>\n      <td>0.0</td>\n      <td>0.0</td>\n      <td>3.0</td>\n      <td>0.0</td>\n      <td>NV</td>\n      <td>0.0</td>\n      <td>22.22</td>\n      <td>11.11</td>\n      <td>0.111111</td>\n    </tr>\n    <tr>\n      <th>2</th>\n      <td>NaN</td>\n      <td>Aruba</td>\n      <td>March 18, 2020</td>\n      <td>3.0</td>\n      <td>1.0</td>\n      <td>0.0</td>\n      <td>0.0</td>\n      <td>0.0</td>\n      <td>0.0</td>\n      <td>0.0</td>\n      <td>...</td>\n      <td>4.0</td>\n      <td>2.0</td>\n      <td>1.0</td>\n      <td>4.0</td>\n      <td>0.0</td>\n      <td>NV</td>\n      <td>0.0</td>\n      <td>33.33</td>\n      <td>22.22</td>\n      <td>0.111111</td>\n    </tr>\n    <tr>\n      <th>3</th>\n      <td>NaN</td>\n      <td>Aruba</td>\n      <td>March 21, 2020</td>\n      <td>3.0</td>\n      <td>1.0</td>\n      <td>2.0</td>\n      <td>1.0</td>\n      <td>0.0</td>\n      <td>0.0</td>\n      <td>0.0</td>\n      <td>...</td>\n      <td>4.0</td>\n      <td>2.0</td>\n      <td>1.0</td>\n      <td>5.0</td>\n      <td>0.0</td>\n      <td>NV</td>\n      <td>0.0</td>\n      <td>44.44</td>\n      <td>33.33</td>\n      <td>0.111111</td>\n    </tr>\n    <tr>\n      <th>4</th>\n      <td>NaN</td>\n      <td>Aruba</td>\n      <td>March 29, 2020</td>\n      <td>3.0</td>\n      <td>1.0</td>\n      <td>3.0</td>\n      <td>1.0</td>\n      <td>2.0</td>\n      <td>1.0</td>\n      <td>4.0</td>\n      <td>...</td>\n      <td>4.0</td>\n      <td>2.0</td>\n      <td>1.0</td>\n      <td>50.0</td>\n      <td>0.0</td>\n      <td>NV</td>\n      <td>0.0</td>\n      <td>85.19</td>\n      <td>44.44</td>\n      <td>0.518519</td>\n    </tr>\n    <tr>\n      <th>5</th>\n      <td>NaN</td>\n      <td>Aruba</td>\n      <td>April 10, 2020</td>\n      <td>3.0</td>\n      <td>1.0</td>\n      <td>3.0</td>\n      <td>1.0</td>\n      <td>2.0</td>\n      <td>1.0</td>\n      <td>4.0</td>\n      <td>...</td>\n      <td>4.0</td>\n      <td>2.0</td>\n      <td>1.0</td>\n      <td>86.0</td>\n      <td>0.0</td>\n      <td>NV</td>\n      <td>0.0</td>\n      <td>88.89</td>\n      <td>85.19</td>\n      <td>0.111111</td>\n    </tr>\n    <tr>\n      <th>6</th>\n      <td>NaN</td>\n      <td>Aruba</td>\n      <td>May 04, 2020</td>\n      <td>3.0</td>\n      <td>1.0</td>\n      <td>2.0</td>\n      <td>1.0</td>\n      <td>2.0</td>\n      <td>1.0</td>\n      <td>4.0</td>\n      <td>...</td>\n      <td>4.0</td>\n      <td>2.0</td>\n      <td>1.0</td>\n      <td>100.0</td>\n      <td>2.0</td>\n      <td>NV</td>\n      <td>0.0</td>\n      <td>81.48</td>\n      <td>88.89</td>\n      <td>0.148148</td>\n    </tr>\n    <tr>\n      <th>7</th>\n      <td>NaN</td>\n      <td>Aruba</td>\n      <td>May 18, 2020</td>\n      <td>2.0</td>\n      <td>1.0</td>\n      <td>2.0</td>\n      <td>1.0</td>\n      <td>2.0</td>\n      <td>1.0</td>\n      <td>0.0</td>\n      <td>...</td>\n      <td>4.0</td>\n      <td>2.0</td>\n      <td>1.0</td>\n      <td>101.0</td>\n      <td>3.0</td>\n      <td>NV</td>\n      <td>0.0</td>\n      <td>66.67</td>\n      <td>81.48</td>\n      <td>0.074074</td>\n    </tr>\n    <tr>\n      <th>8</th>\n      <td>NaN</td>\n      <td>Aruba</td>\n      <td>May 28, 2020</td>\n      <td>2.0</td>\n      <td>1.0</td>\n      <td>2.0</td>\n      <td>1.0</td>\n      <td>2.0</td>\n      <td>1.0</td>\n      <td>0.0</td>\n      <td>...</td>\n      <td>4.0</td>\n      <td>2.0</td>\n      <td>1.0</td>\n      <td>101.0</td>\n      <td>3.0</td>\n      <td>NV</td>\n      <td>0.0</td>\n      <td>62.96</td>\n      <td>66.67</td>\n      <td>0.037037</td>\n    </tr>\n    <tr>\n      <th>9</th>\n      <td>NaN</td>\n      <td>Aruba</td>\n      <td>May 31, 2020</td>\n      <td>2.0</td>\n      <td>1.0</td>\n      <td>2.0</td>\n      <td>1.0</td>\n      <td>2.0</td>\n      <td>1.0</td>\n      <td>0.0</td>\n      <td>...</td>\n      <td>4.0</td>\n      <td>2.0</td>\n      <td>1.0</td>\n      <td>101.0</td>\n      <td>3.0</td>\n      <td>NV</td>\n      <td>0.0</td>\n      <td>57.41</td>\n      <td>62.96</td>\n      <td>0.055556</td>\n    </tr>\n  </tbody>\n</table>\n<p>10 rows × 27 columns</p>\n</div>"
     },
     "execution_count": 9,
     "metadata": {},
     "output_type": "execute_result"
    }
   ],
   "source": [
    "df.head(10)"
   ],
   "metadata": {
    "collapsed": false,
    "ExecuteTime": {
     "end_time": "2023-05-25T08:28:49.620225Z",
     "start_time": "2023-05-25T08:28:49.479769700Z"
    }
   }
  },
  {
   "cell_type": "code",
   "execution_count": 10,
   "outputs": [],
   "source": [
    "df = df[[\"CountryName\", \"StringencyIndex_Average\"] + npis][df[\"CountryName\"] == \"Poland\"]"
   ],
   "metadata": {
    "collapsed": false,
    "ExecuteTime": {
     "end_time": "2023-05-25T08:28:49.651283100Z",
     "start_time": "2023-05-25T08:28:49.576324100Z"
    }
   }
  },
  {
   "cell_type": "code",
   "execution_count": 11,
   "outputs": [
    {
     "data": {
      "text/plain": "      CountryName  StringencyIndex_Average  C1M  C2M  C3M  C4M  C5M  C6M  C7M   \n12686      Poland                     5.56  0.0  0.0  0.0  0.0  0.0  0.0  0.0  \\\n12687      Poland                    11.11  0.0  0.0  0.0  0.0  0.0  0.0  0.0   \n12688      Poland                    13.89  0.0  0.0  0.0  0.0  0.0  0.0  0.0   \n12689      Poland                    25.00  0.0  0.0  2.0  0.0  0.0  0.0  0.0   \n12690      Poland                    41.67  3.0  0.0  2.0  0.0  0.0  0.0  1.0   \n...           ...                      ...  ...  ...  ...  ...  ...  ...  ...   \n12845      Poland                    37.03  1.0  2.0  0.0  3.0  0.0  0.0  0.0   \n12846      Poland                    22.53  1.0  1.0  0.0  0.0  0.0  0.0  0.0   \n12847      Poland                    22.52  1.0  1.0  0.0  0.0  0.0  0.0  0.0   \n12848      Poland                    14.81  1.0  0.0  0.0  0.0  0.0  0.0  0.0   \n12849      Poland                     9.26  1.0  0.0  0.0  0.0  0.0  0.0  0.0   \n\n       C8M   H1  \n12686  0.0  1.0  \n12687  0.0  2.0  \n12688  1.0  2.0  \n12689  1.0  2.0  \n12690  1.0  2.0  \n...    ...  ...  \n12845  1.0  2.0  \n12846  1.0  2.0  \n12847  1.0  2.0  \n12848  0.0  2.0  \n12849  0.0  1.0  \n\n[164 rows x 11 columns]",
      "text/html": "<div>\n<style scoped>\n    .dataframe tbody tr th:only-of-type {\n        vertical-align: middle;\n    }\n\n    .dataframe tbody tr th {\n        vertical-align: top;\n    }\n\n    .dataframe thead th {\n        text-align: right;\n    }\n</style>\n<table border=\"1\" class=\"dataframe\">\n  <thead>\n    <tr style=\"text-align: right;\">\n      <th></th>\n      <th>CountryName</th>\n      <th>StringencyIndex_Average</th>\n      <th>C1M</th>\n      <th>C2M</th>\n      <th>C3M</th>\n      <th>C4M</th>\n      <th>C5M</th>\n      <th>C6M</th>\n      <th>C7M</th>\n      <th>C8M</th>\n      <th>H1</th>\n    </tr>\n  </thead>\n  <tbody>\n    <tr>\n      <th>12686</th>\n      <td>Poland</td>\n      <td>5.56</td>\n      <td>0.0</td>\n      <td>0.0</td>\n      <td>0.0</td>\n      <td>0.0</td>\n      <td>0.0</td>\n      <td>0.0</td>\n      <td>0.0</td>\n      <td>0.0</td>\n      <td>1.0</td>\n    </tr>\n    <tr>\n      <th>12687</th>\n      <td>Poland</td>\n      <td>11.11</td>\n      <td>0.0</td>\n      <td>0.0</td>\n      <td>0.0</td>\n      <td>0.0</td>\n      <td>0.0</td>\n      <td>0.0</td>\n      <td>0.0</td>\n      <td>0.0</td>\n      <td>2.0</td>\n    </tr>\n    <tr>\n      <th>12688</th>\n      <td>Poland</td>\n      <td>13.89</td>\n      <td>0.0</td>\n      <td>0.0</td>\n      <td>0.0</td>\n      <td>0.0</td>\n      <td>0.0</td>\n      <td>0.0</td>\n      <td>0.0</td>\n      <td>1.0</td>\n      <td>2.0</td>\n    </tr>\n    <tr>\n      <th>12689</th>\n      <td>Poland</td>\n      <td>25.00</td>\n      <td>0.0</td>\n      <td>0.0</td>\n      <td>2.0</td>\n      <td>0.0</td>\n      <td>0.0</td>\n      <td>0.0</td>\n      <td>0.0</td>\n      <td>1.0</td>\n      <td>2.0</td>\n    </tr>\n    <tr>\n      <th>12690</th>\n      <td>Poland</td>\n      <td>41.67</td>\n      <td>3.0</td>\n      <td>0.0</td>\n      <td>2.0</td>\n      <td>0.0</td>\n      <td>0.0</td>\n      <td>0.0</td>\n      <td>1.0</td>\n      <td>1.0</td>\n      <td>2.0</td>\n    </tr>\n    <tr>\n      <th>...</th>\n      <td>...</td>\n      <td>...</td>\n      <td>...</td>\n      <td>...</td>\n      <td>...</td>\n      <td>...</td>\n      <td>...</td>\n      <td>...</td>\n      <td>...</td>\n      <td>...</td>\n      <td>...</td>\n    </tr>\n    <tr>\n      <th>12845</th>\n      <td>Poland</td>\n      <td>37.03</td>\n      <td>1.0</td>\n      <td>2.0</td>\n      <td>0.0</td>\n      <td>3.0</td>\n      <td>0.0</td>\n      <td>0.0</td>\n      <td>0.0</td>\n      <td>1.0</td>\n      <td>2.0</td>\n    </tr>\n    <tr>\n      <th>12846</th>\n      <td>Poland</td>\n      <td>22.53</td>\n      <td>1.0</td>\n      <td>1.0</td>\n      <td>0.0</td>\n      <td>0.0</td>\n      <td>0.0</td>\n      <td>0.0</td>\n      <td>0.0</td>\n      <td>1.0</td>\n      <td>2.0</td>\n    </tr>\n    <tr>\n      <th>12847</th>\n      <td>Poland</td>\n      <td>22.52</td>\n      <td>1.0</td>\n      <td>1.0</td>\n      <td>0.0</td>\n      <td>0.0</td>\n      <td>0.0</td>\n      <td>0.0</td>\n      <td>0.0</td>\n      <td>1.0</td>\n      <td>2.0</td>\n    </tr>\n    <tr>\n      <th>12848</th>\n      <td>Poland</td>\n      <td>14.81</td>\n      <td>1.0</td>\n      <td>0.0</td>\n      <td>0.0</td>\n      <td>0.0</td>\n      <td>0.0</td>\n      <td>0.0</td>\n      <td>0.0</td>\n      <td>0.0</td>\n      <td>2.0</td>\n    </tr>\n    <tr>\n      <th>12849</th>\n      <td>Poland</td>\n      <td>9.26</td>\n      <td>1.0</td>\n      <td>0.0</td>\n      <td>0.0</td>\n      <td>0.0</td>\n      <td>0.0</td>\n      <td>0.0</td>\n      <td>0.0</td>\n      <td>0.0</td>\n      <td>1.0</td>\n    </tr>\n  </tbody>\n</table>\n<p>164 rows × 11 columns</p>\n</div>"
     },
     "execution_count": 11,
     "metadata": {},
     "output_type": "execute_result"
    }
   ],
   "source": [
    "df"
   ],
   "metadata": {
    "collapsed": false,
    "ExecuteTime": {
     "end_time": "2023-05-25T08:28:49.791933900Z",
     "start_time": "2023-05-25T08:28:49.590969800Z"
    }
   }
  },
  {
   "cell_type": "code",
   "execution_count": 12,
   "outputs": [],
   "source": [
    "add_previous_npis(npis_prev, npis)"
   ],
   "metadata": {
    "collapsed": false,
    "ExecuteTime": {
     "end_time": "2023-05-25T08:28:49.854430200Z",
     "start_time": "2023-05-25T08:28:49.694938700Z"
    }
   }
  },
  {
   "cell_type": "code",
   "execution_count": 13,
   "outputs": [],
   "source": [
    "samples, labels = prepare_samples_and_labels()"
   ],
   "metadata": {
    "collapsed": false,
    "ExecuteTime": {
     "end_time": "2023-05-25T08:28:49.891321800Z",
     "start_time": "2023-05-25T08:28:49.737875600Z"
    }
   }
  },
  {
   "cell_type": "code",
   "execution_count": 14,
   "outputs": [
    {
     "data": {
      "text/plain": "array([[0.1111, 0.    , 0.    , ..., 0.    , 0.    , 1.    ],\n       [0.1389, 0.    , 0.    , ..., 0.    , 0.    , 2.    ],\n       [0.25  , 0.    , 0.    , ..., 0.    , 1.    , 2.    ],\n       ...,\n       [0.2252, 1.    , 1.    , ..., 0.    , 1.    , 2.    ],\n       [0.1481, 1.    , 1.    , ..., 0.    , 1.    , 2.    ],\n       [0.0926, 1.    , 0.    , ..., 0.    , 0.    , 2.    ]])"
     },
     "execution_count": 14,
     "metadata": {},
     "output_type": "execute_result"
    }
   ],
   "source": [
    "samples"
   ],
   "metadata": {
    "collapsed": false,
    "ExecuteTime": {
     "end_time": "2023-05-25T08:28:49.894123300Z",
     "start_time": "2023-05-25T08:28:49.756487800Z"
    }
   }
  },
  {
   "cell_type": "code",
   "execution_count": 15,
   "outputs": [
    {
     "data": {
      "text/plain": "[array([0., 0., 0., 3., 3., 3., 3., 3., 3., 2., 2., 2., 2., 2., 1., 1., 1.,\n        1., 2., 2., 3., 3., 3., 3., 3., 3., 2., 2., 2., 2., 2., 2., 2., 2.,\n        2., 2., 1., 1., 1., 1., 1., 1., 1., 1., 1., 1., 1., 1., 1., 1., 1.,\n        1., 1., 1., 1., 1., 1., 1., 1., 1., 1., 1., 1., 1., 1., 1., 1., 1.,\n        1., 1., 1., 1., 1., 1., 1., 1., 1., 1., 1., 1., 1., 1., 1., 1., 1.,\n        1., 1., 1., 1., 1., 1., 1., 1., 1., 1., 1., 1., 1., 1., 1., 1., 1.,\n        1., 1., 1., 1., 1., 1., 1., 1., 1., 1., 1., 1., 1., 1., 1., 1., 1.,\n        1., 1., 1., 1., 1., 1., 1., 1., 1., 1., 1., 1., 1., 1., 1., 1., 1.,\n        1., 1., 1., 1., 1., 1., 1., 1., 1., 1., 1., 1., 1., 2., 2., 2., 1.,\n        1., 2., 2., 2., 1., 1., 1., 1., 1., 1.]),\n array([0., 0., 0., 0., 2., 2., 2., 2., 2., 2., 2., 2., 2., 2., 2., 0., 0.,\n        0., 0., 2., 2., 2., 2., 2., 2., 3., 3., 3., 2., 2., 2., 2., 2., 2.,\n        2., 2., 2., 2., 2., 2., 2., 2., 2., 2., 2., 2., 2., 2., 2., 2., 2.,\n        2., 2., 2., 2., 2., 2., 2., 2., 2., 2., 2., 2., 2., 2., 2., 2., 2.,\n        2., 2., 2., 1., 1., 1., 1., 1., 1., 1., 1., 1., 1., 1., 1., 1., 1.,\n        1., 1., 1., 1., 1., 1., 1., 1., 1., 1., 1., 1., 1., 1., 1., 1., 1.,\n        1., 1., 1., 1., 1., 1., 1., 1., 1., 1., 1., 1., 1., 1., 1., 1., 1.,\n        1., 1., 1., 1., 1., 1., 1., 1., 1., 1., 1., 1., 1., 1., 1., 1., 1.,\n        0., 0., 0., 0., 0., 0., 0., 0., 0., 0., 0., 0., 2., 2., 2., 1., 2.,\n        2., 2., 2., 2., 2., 2., 1., 1., 0., 0.]),\n array([0., 0., 2., 2., 2., 2., 2., 2., 2., 2., 1., 1., 1., 0., 0., 0., 2.,\n        2., 2., 2., 2., 2., 2., 2., 2., 2., 2., 2., 2., 2., 2., 2., 2., 2.,\n        2., 2., 2., 2., 2., 2., 2., 2., 2., 2., 2., 1., 1., 1., 1., 1., 1.,\n        1., 1., 1., 1., 1., 1., 1., 1., 1., 1., 1., 1., 1., 1., 1., 1., 1.,\n        1., 1., 1., 1., 1., 1., 1., 1., 1., 1., 1., 1., 1., 1., 1., 1., 1.,\n        1., 1., 1., 1., 1., 1., 1., 1., 1., 1., 1., 1., 1., 1., 1., 1., 1.,\n        1., 1., 1., 1., 1., 1., 1., 1., 1., 1., 1., 1., 1., 1., 1., 1., 1.,\n        1., 1., 1., 1., 1., 1., 1., 1., 1., 1., 1., 1., 1., 1., 1., 1., 1.,\n        1., 1., 1., 1., 1., 1., 1., 1., 1., 1., 1., 1., 1., 1., 1., 1., 1.,\n        1., 1., 1., 1., 0., 0., 0., 0., 0., 0.]),\n array([0., 0., 0., 0., 0., 0., 4., 4., 4., 4., 2., 2., 2., 2., 2., 0., 2.,\n        4., 4., 4., 4., 4., 4., 4., 4., 4., 4., 4., 4., 4., 4., 3., 3., 3.,\n        3., 3., 3., 3., 3., 3., 3., 3., 3., 3., 3., 3., 3., 3., 3., 3., 3.,\n        3., 3., 2., 2., 2., 2., 2., 2., 2., 2., 2., 2., 2., 2., 2., 2., 2.,\n        2., 2., 2., 2., 2., 2., 2., 2., 2., 2., 2., 2., 2., 2., 2., 2., 2.,\n        2., 2., 2., 2., 2., 2., 2., 2., 2., 2., 2., 2., 2., 2., 2., 2., 2.,\n        2., 2., 2., 2., 2., 2., 2., 2., 2., 2., 2., 2., 2., 2., 2., 2., 2.,\n        2., 2., 2., 2., 2., 2., 2., 2., 2., 2., 2., 2., 2., 2., 2., 2., 2.,\n        0., 3., 3., 3., 3., 3., 3., 3., 3., 3., 3., 3., 3., 3., 3., 3., 3.,\n        3., 3., 3., 3., 3., 3., 0., 0., 0., 0.]),\n array([0., 0., 0., 0., 0., 0., 0., 1., 1., 1., 1., 1., 1., 0., 0., 0., 0.,\n        0., 0., 1., 1., 1., 1., 1., 1., 1., 1., 1., 1., 1., 1., 1., 1., 1.,\n        1., 1., 1., 1., 1., 1., 1., 1., 1., 1., 1., 1., 1., 1., 1., 1., 1.,\n        1., 1., 1., 1., 1., 1., 1., 1., 1., 1., 1., 1., 1., 1., 1., 1., 1.,\n        1., 1., 1., 0., 0., 0., 0., 0., 0., 0., 0., 0., 0., 0., 0., 0., 0.,\n        0., 0., 0., 0., 0., 0., 0., 0., 0., 0., 0., 0., 0., 0., 0., 0., 0.,\n        0., 0., 0., 0., 0., 0., 0., 0., 0., 0., 0., 0., 0., 0., 0., 0., 0.,\n        0., 0., 0., 0., 0., 0., 0., 0., 0., 0., 0., 0., 0., 0., 0., 0., 0.,\n        0., 0., 0., 0., 0., 0., 0., 0., 0., 0., 0., 0., 0., 0., 0., 0., 0.,\n        0., 0., 0., 0., 0., 0., 0., 0., 0., 0.]),\n array([0., 0., 0., 0., 0., 0., 2., 2., 1., 1., 0., 0., 0., 0., 0., 0., 0.,\n        0., 0., 1., 1., 1., 1., 1., 1., 1., 1., 1., 1., 1., 1., 1., 1., 1.,\n        1., 1., 1., 1., 1., 1., 1., 1., 1., 1., 1., 1., 1., 1., 1., 1., 1.,\n        1., 1., 1., 1., 1., 1., 1., 1., 1., 1., 1., 1., 1., 1., 1., 1., 1.,\n        1., 1., 1., 1., 1., 1., 1., 1., 1., 1., 1., 1., 1., 1., 1., 1., 1.,\n        1., 1., 1., 1., 1., 1., 1., 1., 1., 1., 1., 1., 1., 1., 1., 1., 1.,\n        1., 1., 1., 1., 1., 1., 1., 1., 1., 1., 1., 1., 1., 1., 1., 1., 1.,\n        1., 1., 1., 1., 1., 1., 1., 1., 1., 1., 1., 1., 1., 1., 1., 1., 1.,\n        1., 1., 1., 1., 1., 1., 1., 1., 1., 1., 1., 1., 1., 1., 0., 0., 0.,\n        0., 0., 0., 0., 0., 0., 0., 0., 0., 0.]),\n array([0., 0., 0., 1., 1., 1., 2., 2., 2., 2., 2., 2., 0., 0., 0., 0., 0.,\n        0., 0., 1., 1., 2., 1., 1., 1., 1., 1., 1., 1., 1., 1., 1., 1., 1.,\n        1., 1., 1., 1., 1., 1., 1., 1., 1., 1., 1., 1., 1., 1., 1., 1., 1.,\n        1., 1., 1., 1., 1., 1., 1., 1., 1., 1., 1., 1., 1., 1., 1., 1., 1.,\n        1., 1., 1., 1., 1., 1., 1., 1., 1., 1., 1., 1., 1., 1., 1., 1., 1.,\n        1., 1., 1., 1., 1., 1., 1., 1., 0., 0., 0., 0., 0., 0., 0., 0., 0.,\n        0., 0., 0., 0., 0., 0., 0., 0., 0., 0., 0., 0., 0., 0., 0., 0., 0.,\n        0., 0., 0., 0., 0., 0., 0., 0., 0., 0., 0., 0., 0., 0., 0., 0., 0.,\n        0., 0., 0., 0., 0., 0., 0., 0., 0., 0., 0., 0., 0., 0., 0., 0., 0.,\n        0., 0., 0., 0., 0., 0., 0., 0., 0., 0.]),\n array([0., 1., 1., 1., 1., 4., 4., 4., 4., 4., 4., 3., 3., 3., 3., 3., 3.,\n        3., 3., 3., 3., 3., 3., 2., 2., 2., 2., 2., 2., 1., 1., 1., 1., 1.,\n        1., 1., 1., 1., 1., 1., 1., 1., 1., 1., 1., 1., 1., 1., 1., 1., 1.,\n        1., 1., 1., 1., 1., 1., 1., 1., 1., 1., 1., 1., 1., 1., 1., 1., 1.,\n        1., 1., 1., 1., 1., 1., 1., 1., 1., 1., 1., 1., 1., 1., 1., 1., 1.,\n        1., 1., 1., 1., 1., 1., 1., 1., 1., 1., 1., 1., 1., 1., 1., 1., 1.,\n        1., 1., 1., 1., 1., 1., 1., 1., 1., 1., 1., 1., 1., 1., 1., 1., 1.,\n        1., 1., 1., 1., 1., 1., 1., 1., 1., 1., 1., 1., 1., 1., 1., 1., 1.,\n        1., 1., 1., 1., 1., 1., 1., 1., 1., 3., 3., 3., 3., 3., 3., 3., 3.,\n        2., 2., 1., 1., 1., 1., 1., 1., 0., 0.]),\n array([2., 2., 2., 2., 2., 2., 2., 2., 2., 2., 2., 2., 2., 2., 2., 2., 2.,\n        2., 2., 2., 2., 2., 2., 2., 2., 2., 2., 2., 2., 2., 2., 2., 2., 2.,\n        2., 2., 2., 2., 2., 2., 2., 2., 2., 2., 2., 2., 2., 2., 2., 2., 2.,\n        2., 2., 2., 2., 2., 2., 2., 2., 2., 2., 2., 2., 2., 2., 2., 2., 2.,\n        2., 2., 2., 2., 2., 2., 2., 2., 2., 2., 2., 2., 2., 2., 2., 2., 2.,\n        2., 2., 2., 2., 2., 2., 2., 2., 2., 2., 2., 2., 2., 2., 2., 2., 2.,\n        2., 2., 2., 2., 2., 2., 2., 2., 2., 2., 2., 2., 2., 2., 2., 2., 2.,\n        2., 2., 2., 2., 2., 2., 2., 2., 2., 2., 2., 2., 2., 2., 2., 2., 2.,\n        2., 2., 2., 2., 2., 2., 2., 2., 2., 2., 2., 2., 2., 2., 2., 2., 2.,\n        2., 2., 2., 2., 2., 2., 2., 2., 2., 1.])]"
     },
     "execution_count": 15,
     "metadata": {},
     "output_type": "execute_result"
    }
   ],
   "source": [
    "labels"
   ],
   "metadata": {
    "collapsed": false,
    "ExecuteTime": {
     "end_time": "2023-05-25T08:28:49.955890100Z",
     "start_time": "2023-05-25T08:28:49.779707500Z"
    }
   }
  },
  {
   "cell_type": "code",
   "execution_count": 16,
   "outputs": [],
   "source": [
    "not_shuffled_samples = samples[:]\n",
    "not_shuffled_labels = []\n",
    "for label in labels:\n",
    "    not_shuffled_labels.append(label[:])\n"
   ],
   "metadata": {
    "collapsed": false,
    "ExecuteTime": {
     "end_time": "2023-05-25T08:28:51.176397200Z",
     "start_time": "2023-05-25T08:28:51.161430300Z"
    }
   }
  },
  {
   "cell_type": "code",
   "execution_count": 17,
   "outputs": [],
   "source": [
    "samples, *labels = shuffle(samples, *labels, random_state=0)"
   ],
   "metadata": {
    "collapsed": false,
    "ExecuteTime": {
     "end_time": "2023-05-25T08:28:51.977806300Z",
     "start_time": "2023-05-25T08:28:51.935948800Z"
    }
   }
  },
  {
   "cell_type": "code",
   "execution_count": 18,
   "outputs": [],
   "source": [
    "train_samples, train_labels, test_samples, test_labels = split_to_train_and_test(samples, labels, 1)"
   ],
   "metadata": {
    "collapsed": false,
    "ExecuteTime": {
     "end_time": "2023-05-25T08:28:52.378275500Z",
     "start_time": "2023-05-25T08:28:52.366726100Z"
    }
   }
  },
  {
   "cell_type": "code",
   "execution_count": 19,
   "outputs": [
    {
     "data": {
      "text/plain": "array([[0.2252, 1.    , 1.    , ..., 0.    , 1.    , 2.    ],\n       [0.5185, 1.    , 2.    , ..., 0.    , 3.    , 2.    ],\n       [0.4353, 1.    , 1.    , ..., 1.    , 1.    , 2.    ],\n       ...,\n       [0.5291, 1.    , 2.    , ..., 1.    , 1.    , 2.    ],\n       [0.358 , 1.    , 1.    , ..., 0.    , 1.    , 2.    ],\n       [0.56  , 1.    , 2.    , ..., 1.    , 1.    , 2.    ]])"
     },
     "execution_count": 19,
     "metadata": {},
     "output_type": "execute_result"
    }
   ],
   "source": [
    "train_samples"
   ],
   "metadata": {
    "collapsed": false,
    "ExecuteTime": {
     "end_time": "2023-05-25T08:28:52.880850300Z",
     "start_time": "2023-05-25T08:28:52.801916400Z"
    }
   }
  },
  {
   "cell_type": "code",
   "execution_count": 20,
   "outputs": [
    {
     "data": {
      "text/plain": "[array([1., 2., 1., 3., 1., 1., 1., 1., 2., 1., 1., 1., 1., 1., 1., 1., 1.,\n        2., 1., 1., 1., 1., 2., 1., 1., 3., 2., 1., 1., 1., 1., 1., 1., 3.,\n        1., 1., 2., 1., 1., 1., 1., 1., 1., 3., 1., 1., 1., 1., 1., 2., 1.,\n        1., 1., 1., 2., 1., 2., 1., 1., 1., 0., 1., 1., 1., 1., 2., 1., 1.,\n        1., 1., 1., 1., 1., 1., 1., 1., 1., 1., 1., 1., 1., 1., 2., 1., 3.,\n        1., 3., 1., 1., 1., 1., 3., 1., 1., 3., 1., 1., 1., 1., 2., 1., 1.,\n        1., 0., 1., 1., 1., 2., 1., 2., 1., 1., 1., 1., 0., 1., 2., 1., 1.,\n        3., 1., 1., 1., 1., 1., 3., 1., 2., 1., 1., 2., 2., 1., 2., 1., 1.,\n        1., 2., 2., 1., 1., 1., 1., 1., 1., 1., 3., 1., 1., 2., 1., 1., 1.,\n        1., 1., 1., 1., 3., 2., 1., 1., 1., 1.]),\n array([1., 2., 1., 2., 1., 2., 1., 2., 3., 1., 0., 1., 1., 1., 2., 1., 2.,\n        2., 1., 0., 2., 0., 2., 2., 0., 2., 2., 1., 1., 1., 2., 2., 1., 2.,\n        2., 1., 2., 2., 1., 0., 2., 1., 2., 2., 1., 0., 1., 2., 1., 3., 1.,\n        1., 2., 1., 0., 1., 2., 0., 1., 1., 0., 2., 1., 1., 2., 2., 1., 2.,\n        1., 1., 0., 1., 1., 2., 1., 1., 2., 1., 1., 2., 2., 2., 2., 1., 2.,\n        1., 2., 0., 1., 2., 1., 0., 0., 1., 2., 2., 1., 1., 0., 2., 1., 0.,\n        2., 0., 1., 2., 2., 2., 1., 2., 2., 2., 1., 2., 0., 1., 1., 2., 1.,\n        2., 0., 0., 1., 1., 2., 2., 2., 2., 1., 1., 2., 2., 1., 2., 0., 1.,\n        0., 2., 2., 1., 1., 1., 1., 2., 1., 1., 3., 1., 2., 2., 2., 2., 0.,\n        1., 2., 1., 2., 2., 2., 1., 2., 1., 2.]),\n array([0., 1., 1., 2., 1., 1., 1., 2., 2., 1., 1., 1., 1., 1., 1., 1., 2.,\n        1., 1., 1., 1., 1., 2., 1., 1., 2., 1., 1., 1., 1., 1., 1., 1., 2.,\n        1., 1., 2., 1., 1., 2., 1., 1., 2., 2., 1., 1., 1., 1., 1., 2., 1.,\n        1., 1., 1., 2., 1., 2., 1., 1., 1., 2., 1., 1., 1., 2., 1., 1., 0.,\n        1., 1., 1., 1., 1., 1., 1., 1., 1., 1., 1., 1., 1., 1., 0., 1., 2.,\n        1., 2., 0., 1., 1., 1., 2., 0., 1., 2., 1., 1., 1., 0., 1., 1., 1.,\n        0., 0., 1., 1., 1., 1., 1., 2., 1., 2., 0., 1., 0., 1., 1., 2., 1.,\n        2., 1., 2., 1., 1., 2., 2., 1., 1., 1., 1., 2., 2., 1., 2., 1., 1.,\n        1., 2., 2., 1., 1., 1., 1., 0., 1., 1., 2., 1., 1., 1., 2., 1., 1.,\n        1., 1., 1., 2., 2., 2., 1., 1., 1., 1.]),\n array([0., 3., 2., 4., 2., 2., 2., 3., 4., 2., 0., 2., 2., 2., 2., 2., 3.,\n        3., 2., 3., 3., 3., 3., 3., 3., 4., 3., 2., 2., 2., 2., 2., 2., 4.,\n        2., 2., 4., 2., 2., 2., 2., 2., 3., 4., 2., 3., 2., 3., 2., 4., 2.,\n        2., 2., 2., 4., 2., 4., 3., 2., 2., 0., 2., 2., 2., 3., 2., 2., 3.,\n        2., 2., 3., 2., 2., 3., 2., 2., 2., 2., 2., 2., 3., 3., 2., 2., 4.,\n        2., 4., 0., 2., 3., 2., 0., 0., 2., 4., 2., 2., 2., 0., 2., 2., 3.,\n        2., 0., 2., 3., 3., 2., 2., 3., 2., 3., 0., 2., 0., 2., 3., 3., 2.,\n        0., 3., 4., 2., 2., 3., 0., 2., 3., 2., 2., 3., 4., 2., 3., 3., 2.,\n        3., 3., 4., 2., 2., 2., 2., 3., 2., 2., 4., 2., 3., 3., 3., 2., 3.,\n        2., 2., 2., 3., 4., 4., 2., 2., 2., 3.]),\n array([0., 0., 0., 1., 0., 1., 0., 1., 1., 0., 0., 0., 0., 0., 1., 0., 1.,\n        0., 0., 0., 1., 0., 1., 1., 0., 1., 0., 0., 0., 0., 1., 1., 0., 1.,\n        1., 0., 1., 1., 0., 0., 1., 0., 1., 1., 0., 0., 0., 0., 0., 1., 0.,\n        0., 1., 0., 0., 0., 1., 0., 0., 0., 0., 1., 0., 0., 1., 1., 0., 0.,\n        0., 0., 0., 0., 0., 1., 0., 0., 1., 0., 0., 1., 1., 1., 0., 0., 1.,\n        0., 1., 0., 0., 1., 0., 0., 0., 0., 0., 1., 0., 0., 0., 1., 0., 0.,\n        0., 0., 0., 0., 1., 1., 0., 1., 1., 1., 0., 1., 0., 0., 0., 1., 0.,\n        0., 0., 0., 0., 0., 1., 0., 1., 0., 0., 0., 1., 1., 0., 1., 0., 0.,\n        0., 1., 1., 0., 0., 0., 0., 0., 0., 0., 1., 0., 0., 0., 1., 1., 0.,\n        0., 1., 0., 1., 1., 1., 0., 1., 0., 1.]),\n array([0., 1., 1., 2., 1., 1., 1., 1., 1., 1., 1., 1., 1., 1., 1., 1., 1.,\n        0., 1., 1., 1., 1., 1., 1., 1., 1., 0., 1., 1., 1., 1., 1., 1., 1.,\n        1., 1., 1., 1., 1., 0., 1., 1., 1., 1., 1., 1., 1., 1., 1., 1., 1.,\n        1., 1., 1., 0., 1., 1., 1., 1., 1., 0., 1., 1., 1., 1., 0., 1., 0.,\n        1., 1., 1., 1., 1., 1., 1., 1., 1., 1., 1., 1., 1., 1., 0., 1., 1.,\n        1., 1., 0., 1., 1., 1., 0., 0., 1., 2., 1., 1., 1., 0., 0., 1., 1.,\n        0., 0., 1., 0., 1., 0., 1., 1., 1., 1., 0., 1., 0., 1., 0., 1., 1.,\n        0., 1., 0., 1., 1., 1., 0., 1., 0., 1., 1., 1., 1., 1., 1., 1., 1.,\n        1., 1., 1., 1., 1., 1., 1., 0., 1., 1., 1., 1., 0., 0., 1., 1., 1.,\n        1., 1., 1., 1., 1., 1., 1., 1., 1., 1.]),\n array([0., 0., 1., 2., 0., 1., 0., 1., 1., 1., 0., 0., 0., 1., 1., 0., 1.,\n        0., 0., 0., 1., 0., 1., 1., 0., 2., 0., 1., 1., 0., 1., 1., 0., 1.,\n        1., 0., 1., 1., 0., 0., 1., 0., 1., 1., 0., 0., 0., 0., 0., 1., 0.,\n        1., 1., 0., 0., 0., 1., 0., 1., 0., 0., 1., 0., 1., 1., 2., 1., 0.,\n        0., 0., 0., 0., 0., 1., 0., 1., 1., 0., 0., 1., 1., 1., 0., 0., 1.,\n        0., 1., 0., 1., 1., 1., 1., 0., 0., 2., 1., 1., 1., 0., 0., 0., 0.,\n        0., 0., 1., 0., 1., 2., 0., 1., 1., 1., 0., 1., 0., 0., 0., 1., 0.,\n        1., 0., 0., 0., 0., 1., 1., 1., 0., 0., 0., 1., 1., 0., 1., 0., 0.,\n        0., 1., 1., 0., 1., 1., 0., 0., 1., 1., 1., 1., 0., 0., 1., 1., 0.,\n        1., 1., 1., 1., 2., 2., 0., 1., 0., 1.]),\n array([1., 3., 1., 4., 1., 1., 1., 1., 2., 1., 1., 1., 1., 1., 1., 1., 1.,\n        2., 1., 1., 1., 1., 1., 1., 3., 4., 3., 1., 1., 1., 1., 1., 1., 2.,\n        1., 1., 3., 1., 1., 3., 1., 1., 1., 3., 1., 1., 1., 3., 1., 2., 1.,\n        1., 1., 1., 3., 1., 1., 3., 1., 1., 1., 1., 1., 1., 1., 4., 1., 1.,\n        1., 1., 3., 1., 1., 1., 1., 1., 1., 1., 1., 1., 1., 1., 3., 1., 2.,\n        1., 3., 3., 1., 1., 1., 1., 0., 1., 4., 1., 1., 1., 0., 3., 1., 1.,\n        3., 0., 1., 3., 1., 3., 1., 1., 1., 1., 1., 1., 1., 1., 3., 1., 1.,\n        1., 1., 3., 1., 1., 1., 4., 1., 1., 1., 1., 1., 2., 1., 1., 1., 1.,\n        1., 1., 1., 1., 1., 1., 1., 1., 1., 1., 2., 1., 2., 1., 1., 1., 1.,\n        1., 1., 1., 1., 3., 4., 1., 1., 1., 1.]),\n array([2., 2., 2., 2., 2., 2., 2., 2., 2., 2., 2., 2., 2., 2., 2., 2., 2.,\n        2., 2., 2., 2., 2., 2., 2., 2., 2., 2., 2., 2., 2., 2., 2., 2., 2.,\n        2., 2., 2., 2., 2., 2., 2., 2., 2., 2., 2., 2., 2., 2., 2., 2., 2.,\n        2., 2., 2., 2., 2., 2., 2., 2., 2., 2., 2., 2., 2., 2., 2., 2., 2.,\n        2., 2., 2., 2., 2., 2., 2., 2., 2., 2., 2., 2., 2., 2., 2., 2., 2.,\n        2., 2., 2., 2., 2., 2., 2., 1., 2., 2., 2., 2., 2., 2., 2., 2., 2.,\n        2., 2., 2., 2., 2., 2., 2., 2., 2., 2., 2., 2., 2., 2., 2., 2., 2.,\n        2., 2., 2., 2., 2., 2., 2., 2., 2., 2., 2., 2., 2., 2., 2., 2., 2.,\n        2., 2., 2., 2., 2., 2., 2., 2., 2., 2., 2., 2., 2., 2., 2., 2., 2.,\n        2., 2., 2., 2., 2., 2., 2., 2., 2., 2.])]"
     },
     "execution_count": 20,
     "metadata": {},
     "output_type": "execute_result"
    }
   ],
   "source": [
    "train_labels"
   ],
   "metadata": {
    "collapsed": false,
    "ExecuteTime": {
     "end_time": "2023-05-25T08:28:53.675188600Z",
     "start_time": "2023-05-25T08:28:53.561611500Z"
    }
   }
  },
  {
   "cell_type": "markdown",
   "source": [
    "## MTL model"
   ],
   "metadata": {
    "id": "54OhWLAprBrP"
   }
  },
  {
   "cell_type": "code",
   "source": [
    "from keras.optimizers import Adam\n",
    "from keras import Input, Model\n",
    "from keras.layers import Dense\n",
    "\n",
    "num_tasks = 9\n",
    "num_features = num_tasks + 1\n",
    "\n",
    "shared_layer_1 = Dense(32, input_dim=num_features, activation='relu')\n",
    "shared_layer_2 = Dense(32, activation='relu')\n",
    "\n",
    "task_1_output_layer = Dense(5, activation='softmax', name='C1')\n",
    "task_2_output_layer = Dense(5, activation='softmax', name='C2')\n",
    "task_3_output_layer = Dense(5, activation='softmax', name='C3')\n",
    "task_4_output_layer = Dense(5, activation='softmax', name='C4')\n",
    "task_5_output_layer = Dense(5, activation='softmax', name='C5')\n",
    "task_6_output_layer = Dense(5, activation='softmax', name='C6')\n",
    "task_7_output_layer = Dense(5, activation='softmax', name='C7')\n",
    "task_8_output_layer = Dense(5, activation='softmax', name='C8')\n",
    "task_9_output_layer = Dense(5, activation='softmax', name='H1')\n",
    "\n",
    "input_tensor = Input(shape=(num_features,))\n",
    "\n",
    "shared_tensor = shared_layer_1(input_tensor)\n",
    "shared_tensor = shared_layer_2(shared_tensor)\n",
    "\n",
    "task_1_output = task_1_output_layer(shared_tensor)\n",
    "task_2_output = task_2_output_layer(shared_tensor)\n",
    "task_3_output = task_3_output_layer(shared_tensor)\n",
    "task_4_output = task_4_output_layer(shared_tensor)\n",
    "task_5_output = task_5_output_layer(shared_tensor)\n",
    "task_6_output = task_6_output_layer(shared_tensor)\n",
    "task_7_output = task_7_output_layer(shared_tensor)\n",
    "task_8_output = task_8_output_layer(shared_tensor)\n",
    "task_9_output = task_9_output_layer(shared_tensor)"
   ],
   "metadata": {
    "colab": {
     "base_uri": "https://localhost:8080/"
    },
    "id": "xdEbAdN9rE8x",
    "outputId": "3ff3fa92-3113-45d8-f1bf-ceb4f44370b4",
    "ExecuteTime": {
     "end_time": "2023-05-25T08:29:05.372302Z",
     "start_time": "2023-05-25T08:28:56.761656400Z"
    }
   },
   "execution_count": 21,
   "outputs": []
  },
  {
   "cell_type": "code",
   "execution_count": 22,
   "outputs": [
    {
     "name": "stdout",
     "output_type": "stream",
     "text": [
      "Model: \"model\"\n",
      "__________________________________________________________________________________________________\n",
      " Layer (type)                   Output Shape         Param #     Connected to                     \n",
      "==================================================================================================\n",
      " input_1 (InputLayer)           [(None, 10)]         0           []                               \n",
      "                                                                                                  \n",
      " dense (Dense)                  (None, 32)           352         ['input_1[0][0]']                \n",
      "                                                                                                  \n",
      " dense_1 (Dense)                (None, 32)           1056        ['dense[0][0]']                  \n",
      "                                                                                                  \n",
      " C1 (Dense)                     (None, 5)            165         ['dense_1[0][0]']                \n",
      "                                                                                                  \n",
      " C2 (Dense)                     (None, 5)            165         ['dense_1[0][0]']                \n",
      "                                                                                                  \n",
      " C3 (Dense)                     (None, 5)            165         ['dense_1[0][0]']                \n",
      "                                                                                                  \n",
      " C4 (Dense)                     (None, 5)            165         ['dense_1[0][0]']                \n",
      "                                                                                                  \n",
      " C5 (Dense)                     (None, 5)            165         ['dense_1[0][0]']                \n",
      "                                                                                                  \n",
      " C6 (Dense)                     (None, 5)            165         ['dense_1[0][0]']                \n",
      "                                                                                                  \n",
      " C7 (Dense)                     (None, 5)            165         ['dense_1[0][0]']                \n",
      "                                                                                                  \n",
      " C8 (Dense)                     (None, 5)            165         ['dense_1[0][0]']                \n",
      "                                                                                                  \n",
      " H1 (Dense)                     (None, 5)            165         ['dense_1[0][0]']                \n",
      "                                                                                                  \n",
      "==================================================================================================\n",
      "Total params: 2,893\n",
      "Trainable params: 2,893\n",
      "Non-trainable params: 0\n",
      "__________________________________________________________________________________________________\n"
     ]
    }
   ],
   "source": [
    "\n",
    "mtl_model = Model(inputs=input_tensor, outputs=[\n",
    "    task_1_output,\n",
    "    task_2_output,\n",
    "    task_3_output,\n",
    "    task_4_output,\n",
    "    task_5_output,\n",
    "    task_6_output,\n",
    "    task_7_output,\n",
    "    task_8_output,\n",
    "    task_9_output], )\n",
    "\n",
    "mtl_model.compile(\n",
    "    optimizer=Adam(learning_rate=0.0001),\n",
    "    loss={\n",
    "        'C1': 'sparse_categorical_crossentropy',\n",
    "        'C2': 'sparse_categorical_crossentropy',\n",
    "        'C3': 'sparse_categorical_crossentropy',\n",
    "        'C4': 'sparse_categorical_crossentropy',\n",
    "        'C5': 'sparse_categorical_crossentropy',\n",
    "        'C6': 'sparse_categorical_crossentropy',\n",
    "        'C7': 'sparse_categorical_crossentropy',\n",
    "        'C8': 'sparse_categorical_crossentropy',\n",
    "        'H1': 'sparse_categorical_crossentropy'\n",
    "    },\n",
    "    metrics={\n",
    "        'C1': 'accuracy',\n",
    "        'C2': 'accuracy',\n",
    "        'C3': 'accuracy',\n",
    "        'C4': 'accuracy',\n",
    "        'C5': 'accuracy',\n",
    "        'C6': 'accuracy',\n",
    "        'C7': 'accuracy',\n",
    "        'C8': 'accuracy',\n",
    "        'H1': 'accuracy'\n",
    "    }\n",
    ")\n",
    "mtl_model.summary()"
   ],
   "metadata": {
    "collapsed": false,
    "ExecuteTime": {
     "end_time": "2023-05-25T08:29:06.960590100Z",
     "start_time": "2023-05-25T08:29:06.810616400Z"
    }
   }
  },
  {
   "cell_type": "code",
   "execution_count": 25,
   "outputs": [
    {
     "name": "stdout",
     "output_type": "stream",
     "text": [
      "Epoch 1/1000\n",
      "15/15 - 6s - loss: 0.8231 - C1_loss: 0.1080 - C2_loss: 0.1895 - C3_loss: 0.0793 - C4_loss: 0.1911 - C5_loss: 0.0337 - C6_loss: 0.0421 - C7_loss: 0.0526 - C8_loss: 0.1192 - H1_loss: 0.0076 - C1_accuracy: 0.9658 - C2_accuracy: 0.9452 - C3_accuracy: 0.9863 - C4_accuracy: 0.9589 - C5_accuracy: 0.9932 - C6_accuracy: 0.9863 - C7_accuracy: 0.9932 - C8_accuracy: 0.9589 - H1_accuracy: 1.0000 - val_loss: 1.3073 - val_C1_loss: 0.3533 - val_C2_loss: 0.1283 - val_C3_loss: 0.0902 - val_C4_loss: 0.0822 - val_C5_loss: 0.0151 - val_C6_loss: 0.0617 - val_C7_loss: 0.1510 - val_C8_loss: 0.4255 - val_H1_loss: 1.0448e-06 - val_C1_accuracy: 0.8235 - val_C2_accuracy: 0.9412 - val_C3_accuracy: 0.9412 - val_C4_accuracy: 1.0000 - val_C5_accuracy: 1.0000 - val_C6_accuracy: 1.0000 - val_C7_accuracy: 0.9412 - val_C8_accuracy: 0.8235 - val_H1_accuracy: 1.0000 - 6s/epoch - 409ms/step\n",
      "Epoch 2/1000\n",
      "15/15 - 0s - loss: 0.8235 - C1_loss: 0.1078 - C2_loss: 0.1897 - C3_loss: 0.0795 - C4_loss: 0.1910 - C5_loss: 0.0339 - C6_loss: 0.0423 - C7_loss: 0.0528 - C8_loss: 0.1189 - H1_loss: 0.0076 - C1_accuracy: 0.9589 - C2_accuracy: 0.9384 - C3_accuracy: 0.9863 - C4_accuracy: 0.9521 - C5_accuracy: 0.9932 - C6_accuracy: 0.9863 - C7_accuracy: 0.9932 - C8_accuracy: 0.9658 - H1_accuracy: 1.0000 - val_loss: 1.3089 - val_C1_loss: 0.3496 - val_C2_loss: 0.1296 - val_C3_loss: 0.0920 - val_C4_loss: 0.0836 - val_C5_loss: 0.0150 - val_C6_loss: 0.0639 - val_C7_loss: 0.1500 - val_C8_loss: 0.4252 - val_H1_loss: 1.0238e-06 - val_C1_accuracy: 0.8235 - val_C2_accuracy: 0.9412 - val_C3_accuracy: 0.9412 - val_C4_accuracy: 1.0000 - val_C5_accuracy: 1.0000 - val_C6_accuracy: 1.0000 - val_C7_accuracy: 0.9412 - val_C8_accuracy: 0.8235 - val_H1_accuracy: 1.0000 - 220ms/epoch - 15ms/step\n",
      "Epoch 3/1000\n",
      "15/15 - 0s - loss: 0.8220 - C1_loss: 0.1076 - C2_loss: 0.1894 - C3_loss: 0.0796 - C4_loss: 0.1904 - C5_loss: 0.0338 - C6_loss: 0.0420 - C7_loss: 0.0524 - C8_loss: 0.1191 - H1_loss: 0.0076 - C1_accuracy: 0.9658 - C2_accuracy: 0.9384 - C3_accuracy: 0.9863 - C4_accuracy: 0.9521 - C5_accuracy: 0.9932 - C6_accuracy: 0.9863 - C7_accuracy: 0.9932 - C8_accuracy: 0.9589 - H1_accuracy: 1.0000 - val_loss: 1.3062 - val_C1_loss: 0.3501 - val_C2_loss: 0.1284 - val_C3_loss: 0.0900 - val_C4_loss: 0.0827 - val_C5_loss: 0.0150 - val_C6_loss: 0.0646 - val_C7_loss: 0.1496 - val_C8_loss: 0.4258 - val_H1_loss: 1.0238e-06 - val_C1_accuracy: 0.8235 - val_C2_accuracy: 0.9412 - val_C3_accuracy: 0.9412 - val_C4_accuracy: 1.0000 - val_C5_accuracy: 1.0000 - val_C6_accuracy: 1.0000 - val_C7_accuracy: 0.9412 - val_C8_accuracy: 0.8235 - val_H1_accuracy: 1.0000 - 244ms/epoch - 16ms/step\n",
      "Epoch 4/1000\n",
      "15/15 - 0s - loss: 0.8211 - C1_loss: 0.1077 - C2_loss: 0.1896 - C3_loss: 0.0790 - C4_loss: 0.1903 - C5_loss: 0.0338 - C6_loss: 0.0417 - C7_loss: 0.0525 - C8_loss: 0.1189 - H1_loss: 0.0077 - C1_accuracy: 0.9658 - C2_accuracy: 0.9384 - C3_accuracy: 0.9863 - C4_accuracy: 0.9521 - C5_accuracy: 0.9932 - C6_accuracy: 0.9863 - C7_accuracy: 0.9932 - C8_accuracy: 0.9658 - H1_accuracy: 1.0000 - val_loss: 1.3037 - val_C1_loss: 0.3489 - val_C2_loss: 0.1293 - val_C3_loss: 0.0889 - val_C4_loss: 0.0830 - val_C5_loss: 0.0150 - val_C6_loss: 0.0627 - val_C7_loss: 0.1501 - val_C8_loss: 0.4257 - val_H1_loss: 9.9574e-07 - val_C1_accuracy: 0.8235 - val_C2_accuracy: 0.9412 - val_C3_accuracy: 1.0000 - val_C4_accuracy: 1.0000 - val_C5_accuracy: 1.0000 - val_C6_accuracy: 1.0000 - val_C7_accuracy: 0.9412 - val_C8_accuracy: 0.8235 - val_H1_accuracy: 1.0000 - 227ms/epoch - 15ms/step\n",
      "Epoch 5/1000\n",
      "15/15 - 0s - loss: 0.8213 - C1_loss: 0.1075 - C2_loss: 0.1897 - C3_loss: 0.0789 - C4_loss: 0.1902 - C5_loss: 0.0340 - C6_loss: 0.0420 - C7_loss: 0.0524 - C8_loss: 0.1190 - H1_loss: 0.0076 - C1_accuracy: 0.9658 - C2_accuracy: 0.9315 - C3_accuracy: 0.9863 - C4_accuracy: 0.9521 - C5_accuracy: 0.9932 - C6_accuracy: 0.9863 - C7_accuracy: 0.9932 - C8_accuracy: 0.9589 - H1_accuracy: 1.0000 - val_loss: 1.3024 - val_C1_loss: 0.3503 - val_C2_loss: 0.1284 - val_C3_loss: 0.0899 - val_C4_loss: 0.0819 - val_C5_loss: 0.0143 - val_C6_loss: 0.0607 - val_C7_loss: 0.1518 - val_C8_loss: 0.4251 - val_H1_loss: 1.0028e-06 - val_C1_accuracy: 0.8235 - val_C2_accuracy: 0.9412 - val_C3_accuracy: 0.9412 - val_C4_accuracy: 1.0000 - val_C5_accuracy: 1.0000 - val_C6_accuracy: 1.0000 - val_C7_accuracy: 0.9412 - val_C8_accuracy: 0.8235 - val_H1_accuracy: 1.0000 - 202ms/epoch - 13ms/step\n",
      "Epoch 6/1000\n"
     ]
    },
    {
     "ename": "KeyboardInterrupt",
     "evalue": "",
     "output_type": "error",
     "traceback": [
      "\u001B[1;31m---------------------------------------------------------------------------\u001B[0m",
      "\u001B[1;31mKeyboardInterrupt\u001B[0m                         Traceback (most recent call last)",
      "Cell \u001B[1;32mIn[25], line 1\u001B[0m\n\u001B[1;32m----> 1\u001B[0m \u001B[43mmtl_model\u001B[49m\u001B[38;5;241;43m.\u001B[39;49m\u001B[43mfit\u001B[49m\u001B[43m(\u001B[49m\n\u001B[0;32m      2\u001B[0m \u001B[43m    \u001B[49m\u001B[43mx\u001B[49m\u001B[38;5;241;43m=\u001B[39;49m\u001B[43mtrain_samples\u001B[49m\u001B[38;5;241;43m.\u001B[39;49m\u001B[43mreshape\u001B[49m\u001B[43m(\u001B[49m\u001B[38;5;241;43m-\u001B[39;49m\u001B[38;5;241;43m1\u001B[39;49m\u001B[43m,\u001B[49m\u001B[43m \u001B[49m\u001B[43mnum_features\u001B[49m\u001B[43m)\u001B[49m\u001B[43m,\u001B[49m\n\u001B[0;32m      3\u001B[0m \u001B[43m    \u001B[49m\u001B[43my\u001B[49m\u001B[38;5;241;43m=\u001B[39;49m\u001B[43mtrain_labels\u001B[49m\u001B[43m,\u001B[49m\n\u001B[0;32m      4\u001B[0m \u001B[43m    \u001B[49m\u001B[43mvalidation_split\u001B[49m\u001B[38;5;241;43m=\u001B[39;49m\u001B[38;5;241;43m0.1\u001B[39;49m\u001B[43m,\u001B[49m\n\u001B[0;32m      5\u001B[0m \u001B[43m    \u001B[49m\u001B[43mbatch_size\u001B[49m\u001B[38;5;241;43m=\u001B[39;49m\u001B[38;5;241;43m10\u001B[39;49m\u001B[43m,\u001B[49m\n\u001B[0;32m      6\u001B[0m \u001B[43m    \u001B[49m\u001B[43mepochs\u001B[49m\u001B[38;5;241;43m=\u001B[39;49m\u001B[38;5;241;43m1000\u001B[39;49m\u001B[43m,\u001B[49m\n\u001B[0;32m      7\u001B[0m \u001B[43m    \u001B[49m\u001B[43mshuffle\u001B[49m\u001B[38;5;241;43m=\u001B[39;49m\u001B[38;5;28;43;01mTrue\u001B[39;49;00m\u001B[43m,\u001B[49m\n\u001B[0;32m      8\u001B[0m \u001B[43m    \u001B[49m\u001B[43mverbose\u001B[49m\u001B[38;5;241;43m=\u001B[39;49m\u001B[38;5;241;43m2\u001B[39;49m\n\u001B[0;32m      9\u001B[0m \u001B[43m)\u001B[49m\n\u001B[0;32m     11\u001B[0m \u001B[38;5;66;03m#mtl_model.save(\"./models/mtl_model_poland.h5\")\u001B[39;00m\n",
      "File \u001B[1;32m~\\anaconda3\\envs\\pbad\\Lib\\site-packages\\keras\\utils\\traceback_utils.py:65\u001B[0m, in \u001B[0;36mfilter_traceback.<locals>.error_handler\u001B[1;34m(*args, **kwargs)\u001B[0m\n\u001B[0;32m     63\u001B[0m filtered_tb \u001B[38;5;241m=\u001B[39m \u001B[38;5;28;01mNone\u001B[39;00m\n\u001B[0;32m     64\u001B[0m \u001B[38;5;28;01mtry\u001B[39;00m:\n\u001B[1;32m---> 65\u001B[0m     \u001B[38;5;28;01mreturn\u001B[39;00m \u001B[43mfn\u001B[49m\u001B[43m(\u001B[49m\u001B[38;5;241;43m*\u001B[39;49m\u001B[43margs\u001B[49m\u001B[43m,\u001B[49m\u001B[43m \u001B[49m\u001B[38;5;241;43m*\u001B[39;49m\u001B[38;5;241;43m*\u001B[39;49m\u001B[43mkwargs\u001B[49m\u001B[43m)\u001B[49m\n\u001B[0;32m     66\u001B[0m \u001B[38;5;28;01mexcept\u001B[39;00m \u001B[38;5;167;01mException\u001B[39;00m \u001B[38;5;28;01mas\u001B[39;00m e:\n\u001B[0;32m     67\u001B[0m     filtered_tb \u001B[38;5;241m=\u001B[39m _process_traceback_frames(e\u001B[38;5;241m.\u001B[39m__traceback__)\n",
      "File \u001B[1;32m~\\anaconda3\\envs\\pbad\\Lib\\site-packages\\keras\\engine\\training.py:1729\u001B[0m, in \u001B[0;36mModel.fit\u001B[1;34m(self, x, y, batch_size, epochs, verbose, callbacks, validation_split, validation_data, shuffle, class_weight, sample_weight, initial_epoch, steps_per_epoch, validation_steps, validation_batch_size, validation_freq, max_queue_size, workers, use_multiprocessing)\u001B[0m\n\u001B[0;32m   1714\u001B[0m \u001B[38;5;28;01mif\u001B[39;00m \u001B[38;5;28mgetattr\u001B[39m(\u001B[38;5;28mself\u001B[39m, \u001B[38;5;124m\"\u001B[39m\u001B[38;5;124m_eval_data_handler\u001B[39m\u001B[38;5;124m\"\u001B[39m, \u001B[38;5;28;01mNone\u001B[39;00m) \u001B[38;5;129;01mis\u001B[39;00m \u001B[38;5;28;01mNone\u001B[39;00m:\n\u001B[0;32m   1715\u001B[0m     \u001B[38;5;28mself\u001B[39m\u001B[38;5;241m.\u001B[39m_eval_data_handler \u001B[38;5;241m=\u001B[39m data_adapter\u001B[38;5;241m.\u001B[39mget_data_handler(\n\u001B[0;32m   1716\u001B[0m         x\u001B[38;5;241m=\u001B[39mval_x,\n\u001B[0;32m   1717\u001B[0m         y\u001B[38;5;241m=\u001B[39mval_y,\n\u001B[1;32m   (...)\u001B[0m\n\u001B[0;32m   1727\u001B[0m         steps_per_execution\u001B[38;5;241m=\u001B[39m\u001B[38;5;28mself\u001B[39m\u001B[38;5;241m.\u001B[39m_steps_per_execution,\n\u001B[0;32m   1728\u001B[0m     )\n\u001B[1;32m-> 1729\u001B[0m val_logs \u001B[38;5;241m=\u001B[39m \u001B[38;5;28;43mself\u001B[39;49m\u001B[38;5;241;43m.\u001B[39;49m\u001B[43mevaluate\u001B[49m\u001B[43m(\u001B[49m\n\u001B[0;32m   1730\u001B[0m \u001B[43m    \u001B[49m\u001B[43mx\u001B[49m\u001B[38;5;241;43m=\u001B[39;49m\u001B[43mval_x\u001B[49m\u001B[43m,\u001B[49m\n\u001B[0;32m   1731\u001B[0m \u001B[43m    \u001B[49m\u001B[43my\u001B[49m\u001B[38;5;241;43m=\u001B[39;49m\u001B[43mval_y\u001B[49m\u001B[43m,\u001B[49m\n\u001B[0;32m   1732\u001B[0m \u001B[43m    \u001B[49m\u001B[43msample_weight\u001B[49m\u001B[38;5;241;43m=\u001B[39;49m\u001B[43mval_sample_weight\u001B[49m\u001B[43m,\u001B[49m\n\u001B[0;32m   1733\u001B[0m \u001B[43m    \u001B[49m\u001B[43mbatch_size\u001B[49m\u001B[38;5;241;43m=\u001B[39;49m\u001B[43mvalidation_batch_size\u001B[49m\u001B[43m \u001B[49m\u001B[38;5;129;43;01mor\u001B[39;49;00m\u001B[43m \u001B[49m\u001B[43mbatch_size\u001B[49m\u001B[43m,\u001B[49m\n\u001B[0;32m   1734\u001B[0m \u001B[43m    \u001B[49m\u001B[43msteps\u001B[49m\u001B[38;5;241;43m=\u001B[39;49m\u001B[43mvalidation_steps\u001B[49m\u001B[43m,\u001B[49m\n\u001B[0;32m   1735\u001B[0m \u001B[43m    \u001B[49m\u001B[43mcallbacks\u001B[49m\u001B[38;5;241;43m=\u001B[39;49m\u001B[43mcallbacks\u001B[49m\u001B[43m,\u001B[49m\n\u001B[0;32m   1736\u001B[0m \u001B[43m    \u001B[49m\u001B[43mmax_queue_size\u001B[49m\u001B[38;5;241;43m=\u001B[39;49m\u001B[43mmax_queue_size\u001B[49m\u001B[43m,\u001B[49m\n\u001B[0;32m   1737\u001B[0m \u001B[43m    \u001B[49m\u001B[43mworkers\u001B[49m\u001B[38;5;241;43m=\u001B[39;49m\u001B[43mworkers\u001B[49m\u001B[43m,\u001B[49m\n\u001B[0;32m   1738\u001B[0m \u001B[43m    \u001B[49m\u001B[43muse_multiprocessing\u001B[49m\u001B[38;5;241;43m=\u001B[39;49m\u001B[43muse_multiprocessing\u001B[49m\u001B[43m,\u001B[49m\n\u001B[0;32m   1739\u001B[0m \u001B[43m    \u001B[49m\u001B[43mreturn_dict\u001B[49m\u001B[38;5;241;43m=\u001B[39;49m\u001B[38;5;28;43;01mTrue\u001B[39;49;00m\u001B[43m,\u001B[49m\n\u001B[0;32m   1740\u001B[0m \u001B[43m    \u001B[49m\u001B[43m_use_cached_eval_dataset\u001B[49m\u001B[38;5;241;43m=\u001B[39;49m\u001B[38;5;28;43;01mTrue\u001B[39;49;00m\u001B[43m,\u001B[49m\n\u001B[0;32m   1741\u001B[0m \u001B[43m\u001B[49m\u001B[43m)\u001B[49m\n\u001B[0;32m   1742\u001B[0m val_logs \u001B[38;5;241m=\u001B[39m {\n\u001B[0;32m   1743\u001B[0m     \u001B[38;5;124m\"\u001B[39m\u001B[38;5;124mval_\u001B[39m\u001B[38;5;124m\"\u001B[39m \u001B[38;5;241m+\u001B[39m name: val \u001B[38;5;28;01mfor\u001B[39;00m name, val \u001B[38;5;129;01min\u001B[39;00m val_logs\u001B[38;5;241m.\u001B[39mitems()\n\u001B[0;32m   1744\u001B[0m }\n\u001B[0;32m   1745\u001B[0m epoch_logs\u001B[38;5;241m.\u001B[39mupdate(val_logs)\n",
      "File \u001B[1;32m~\\anaconda3\\envs\\pbad\\Lib\\site-packages\\keras\\utils\\traceback_utils.py:65\u001B[0m, in \u001B[0;36mfilter_traceback.<locals>.error_handler\u001B[1;34m(*args, **kwargs)\u001B[0m\n\u001B[0;32m     63\u001B[0m filtered_tb \u001B[38;5;241m=\u001B[39m \u001B[38;5;28;01mNone\u001B[39;00m\n\u001B[0;32m     64\u001B[0m \u001B[38;5;28;01mtry\u001B[39;00m:\n\u001B[1;32m---> 65\u001B[0m     \u001B[38;5;28;01mreturn\u001B[39;00m \u001B[43mfn\u001B[49m\u001B[43m(\u001B[49m\u001B[38;5;241;43m*\u001B[39;49m\u001B[43margs\u001B[49m\u001B[43m,\u001B[49m\u001B[43m \u001B[49m\u001B[38;5;241;43m*\u001B[39;49m\u001B[38;5;241;43m*\u001B[39;49m\u001B[43mkwargs\u001B[49m\u001B[43m)\u001B[49m\n\u001B[0;32m     66\u001B[0m \u001B[38;5;28;01mexcept\u001B[39;00m \u001B[38;5;167;01mException\u001B[39;00m \u001B[38;5;28;01mas\u001B[39;00m e:\n\u001B[0;32m     67\u001B[0m     filtered_tb \u001B[38;5;241m=\u001B[39m _process_traceback_frames(e\u001B[38;5;241m.\u001B[39m__traceback__)\n",
      "File \u001B[1;32m~\\anaconda3\\envs\\pbad\\Lib\\site-packages\\keras\\engine\\training.py:2077\u001B[0m, in \u001B[0;36mModel.evaluate\u001B[1;34m(self, x, y, batch_size, verbose, sample_weight, steps, callbacks, max_queue_size, workers, use_multiprocessing, return_dict, **kwargs)\u001B[0m\n\u001B[0;32m   2075\u001B[0m                 \u001B[38;5;66;03m# No error, now safe to assign to logs.\u001B[39;00m\n\u001B[0;32m   2076\u001B[0m                 logs \u001B[38;5;241m=\u001B[39m tmp_logs\n\u001B[1;32m-> 2077\u001B[0m                 end_step \u001B[38;5;241m=\u001B[39m step \u001B[38;5;241m+\u001B[39m \u001B[43mdata_handler\u001B[49m\u001B[38;5;241;43m.\u001B[39;49m\u001B[43mstep_increment\u001B[49m\n\u001B[0;32m   2078\u001B[0m                 callbacks\u001B[38;5;241m.\u001B[39mon_test_batch_end(end_step, logs)\n\u001B[0;32m   2080\u001B[0m logs \u001B[38;5;241m=\u001B[39m tf_utils\u001B[38;5;241m.\u001B[39msync_to_numpy_or_python_type(logs)\n",
      "File \u001B[1;32m~\\anaconda3\\envs\\pbad\\Lib\\site-packages\\keras\\engine\\data_adapter.py:1395\u001B[0m, in \u001B[0;36mDataHandler.step_increment\u001B[1;34m(self)\u001B[0m\n\u001B[0;32m   1392\u001B[0m             \u001B[38;5;28mself\u001B[39m\u001B[38;5;241m.\u001B[39m_current_step \u001B[38;5;241m+\u001B[39m\u001B[38;5;241m=\u001B[39m steps_remaining\n\u001B[0;32m   1393\u001B[0m             \u001B[38;5;28mself\u001B[39m\u001B[38;5;241m.\u001B[39m_steps_per_execution\u001B[38;5;241m.\u001B[39massign(original_spe)\n\u001B[1;32m-> 1395\u001B[0m \u001B[38;5;129m@property\u001B[39m\n\u001B[0;32m   1396\u001B[0m \u001B[38;5;28;01mdef\u001B[39;00m \u001B[38;5;21mstep_increment\u001B[39m(\u001B[38;5;28mself\u001B[39m):\n\u001B[0;32m   1397\u001B[0m \u001B[38;5;250m    \u001B[39m\u001B[38;5;124;03m\"\"\"The number to increment the step for `on_batch_end` methods.\"\"\"\u001B[39;00m\n\u001B[0;32m   1398\u001B[0m     \u001B[38;5;28;01mreturn\u001B[39;00m \u001B[38;5;28mself\u001B[39m\u001B[38;5;241m.\u001B[39m_step_increment\n",
      "\u001B[1;31mKeyboardInterrupt\u001B[0m: "
     ]
    }
   ],
   "source": [
    "\n",
    "mtl_model.fit(\n",
    "    x=train_samples.reshape(-1, num_features),\n",
    "    y=train_labels,\n",
    "    validation_split=0.1,\n",
    "    batch_size=10,\n",
    "    epochs=1000,\n",
    "    shuffle=True,\n",
    "    verbose=2\n",
    ")\n",
    "\n",
    "#mtl_model.save(\"./models/mtl_model_poland.h5\")\n"
   ],
   "metadata": {
    "collapsed": false,
    "ExecuteTime": {
     "end_time": "2023-05-25T08:30:09.055956200Z",
     "start_time": "2023-05-25T08:30:00.998199400Z"
    }
   }
  },
  {
   "cell_type": "markdown",
   "source": [
    "# Predict"
   ],
   "metadata": {
    "id": "3xjA1wvwbQ_Z"
   }
  },
  {
   "cell_type": "code",
   "source": [
    "from sklearn.metrics import confusion_matrix, ConfusionMatrixDisplay\n",
    "import matplotlib.pyplot as plt"
   ],
   "metadata": {
    "id": "OyBQY9pFcOyM",
    "ExecuteTime": {
     "end_time": "2023-05-25T08:30:20.021734500Z",
     "start_time": "2023-05-25T08:30:19.996949Z"
    }
   },
   "execution_count": 26,
   "outputs": []
  },
  {
   "cell_type": "markdown",
   "source": [
    "## test data"
   ],
   "metadata": {
    "id": "rnYIa_H8sS9h"
   }
  },
  {
   "cell_type": "code",
   "source": [
    "from sklearn.metrics import accuracy_score\n",
    "from keras.models import load_model\n",
    "\n",
    "mtl_model = load_model(\"./models/mtl_model_poland.h5\")\n",
    "\n",
    "predictions = mtl_model.predict(\n",
    "    x=test_samples.reshape(-1, num_features),\n",
    "    batch_size=10,\n",
    "    verbose=0)\n",
    "\n",
    "predictions = np.array(predictions)\n",
    "\n",
    "f = lambda x: np.argmax(x, axis=-1)\n",
    "predictions = f(predictions)\n",
    "\n",
    "for idx, pred in enumerate(predictions):\n",
    "    cm = confusion_matrix(y_true=test_labels[idx], y_pred=pred)\n",
    "    accuracy = accuracy_score(test_labels[idx], pred).round(2)\n",
    "    disp = ConfusionMatrixDisplay(confusion_matrix=cm)\n",
    "    disp.plot()\n",
    "    disp.ax_.set_title(npi_labels[idx] + \", accuracy: %.2f\" % accuracy)\n",
    "    plt.show()"
   ],
   "metadata": {
    "colab": {
     "base_uri": "https://localhost:8080/",
     "height": 1000
    },
    "id": "lJ9mfN1bsdtu",
    "outputId": "cf62b902-a8e7-4a52-8954-68698c1e7c40",
    "ExecuteTime": {
     "end_time": "2023-05-25T08:30:22.848883700Z",
     "start_time": "2023-05-25T08:30:21.249310500Z"
    }
   },
   "execution_count": 27,
   "outputs": [
    {
     "ename": "ValueError",
     "evalue": "Unexpected result of `predict_function` (Empty batch_outputs). Please use `Model.compile(..., run_eagerly=True)`, or `tf.config.run_functions_eagerly(True)` for more information of where went wrong, or file a issue/bug to `tf.keras`.",
     "output_type": "error",
     "traceback": [
      "\u001B[1;31m---------------------------------------------------------------------------\u001B[0m",
      "\u001B[1;31mValueError\u001B[0m                                Traceback (most recent call last)",
      "Cell \u001B[1;32mIn[27], line 6\u001B[0m\n\u001B[0;32m      2\u001B[0m \u001B[38;5;28;01mfrom\u001B[39;00m \u001B[38;5;21;01mkeras\u001B[39;00m\u001B[38;5;21;01m.\u001B[39;00m\u001B[38;5;21;01mmodels\u001B[39;00m \u001B[38;5;28;01mimport\u001B[39;00m load_model\n\u001B[0;32m      4\u001B[0m mtl_model \u001B[38;5;241m=\u001B[39m load_model(\u001B[38;5;124m\"\u001B[39m\u001B[38;5;124m./models/mtl_model_poland.h5\u001B[39m\u001B[38;5;124m\"\u001B[39m)\n\u001B[1;32m----> 6\u001B[0m predictions \u001B[38;5;241m=\u001B[39m \u001B[43mmtl_model\u001B[49m\u001B[38;5;241;43m.\u001B[39;49m\u001B[43mpredict\u001B[49m\u001B[43m(\u001B[49m\n\u001B[0;32m      7\u001B[0m \u001B[43m    \u001B[49m\u001B[43mx\u001B[49m\u001B[38;5;241;43m=\u001B[39;49m\u001B[43mtest_samples\u001B[49m\u001B[38;5;241;43m.\u001B[39;49m\u001B[43mreshape\u001B[49m\u001B[43m(\u001B[49m\u001B[38;5;241;43m-\u001B[39;49m\u001B[38;5;241;43m1\u001B[39;49m\u001B[43m,\u001B[49m\u001B[43m \u001B[49m\u001B[43mnum_features\u001B[49m\u001B[43m)\u001B[49m\u001B[43m,\u001B[49m\n\u001B[0;32m      8\u001B[0m \u001B[43m    \u001B[49m\u001B[43mbatch_size\u001B[49m\u001B[38;5;241;43m=\u001B[39;49m\u001B[38;5;241;43m10\u001B[39;49m\u001B[43m,\u001B[49m\n\u001B[0;32m      9\u001B[0m \u001B[43m    \u001B[49m\u001B[43mverbose\u001B[49m\u001B[38;5;241;43m=\u001B[39;49m\u001B[38;5;241;43m0\u001B[39;49m\u001B[43m)\u001B[49m\n\u001B[0;32m     11\u001B[0m predictions \u001B[38;5;241m=\u001B[39m np\u001B[38;5;241m.\u001B[39marray(predictions)\n\u001B[0;32m     13\u001B[0m f \u001B[38;5;241m=\u001B[39m \u001B[38;5;28;01mlambda\u001B[39;00m x: np\u001B[38;5;241m.\u001B[39margmax(x, axis\u001B[38;5;241m=\u001B[39m\u001B[38;5;241m-\u001B[39m\u001B[38;5;241m1\u001B[39m)\n",
      "File \u001B[1;32m~\\anaconda3\\envs\\pbad\\Lib\\site-packages\\keras\\utils\\traceback_utils.py:70\u001B[0m, in \u001B[0;36mfilter_traceback.<locals>.error_handler\u001B[1;34m(*args, **kwargs)\u001B[0m\n\u001B[0;32m     67\u001B[0m     filtered_tb \u001B[38;5;241m=\u001B[39m _process_traceback_frames(e\u001B[38;5;241m.\u001B[39m__traceback__)\n\u001B[0;32m     68\u001B[0m     \u001B[38;5;66;03m# To get the full stack trace, call:\u001B[39;00m\n\u001B[0;32m     69\u001B[0m     \u001B[38;5;66;03m# `tf.debugging.disable_traceback_filtering()`\u001B[39;00m\n\u001B[1;32m---> 70\u001B[0m     \u001B[38;5;28;01mraise\u001B[39;00m e\u001B[38;5;241m.\u001B[39mwith_traceback(filtered_tb) \u001B[38;5;28;01mfrom\u001B[39;00m \u001B[38;5;28;01mNone\u001B[39;00m\n\u001B[0;32m     71\u001B[0m \u001B[38;5;28;01mfinally\u001B[39;00m:\n\u001B[0;32m     72\u001B[0m     \u001B[38;5;28;01mdel\u001B[39;00m filtered_tb\n",
      "File \u001B[1;32m~\\anaconda3\\envs\\pbad\\Lib\\site-packages\\keras\\engine\\training.py:2407\u001B[0m, in \u001B[0;36mModel.predict\u001B[1;34m(self, x, batch_size, verbose, steps, callbacks, max_queue_size, workers, use_multiprocessing)\u001B[0m\n\u001B[0;32m   2403\u001B[0m                 callbacks\u001B[38;5;241m.\u001B[39mon_predict_batch_end(\n\u001B[0;32m   2404\u001B[0m                     end_step, {\u001B[38;5;124m\"\u001B[39m\u001B[38;5;124moutputs\u001B[39m\u001B[38;5;124m\"\u001B[39m: batch_outputs}\n\u001B[0;32m   2405\u001B[0m                 )\n\u001B[0;32m   2406\u001B[0m     \u001B[38;5;28;01mif\u001B[39;00m batch_outputs \u001B[38;5;129;01mis\u001B[39;00m \u001B[38;5;28;01mNone\u001B[39;00m:\n\u001B[1;32m-> 2407\u001B[0m         \u001B[38;5;28;01mraise\u001B[39;00m \u001B[38;5;167;01mValueError\u001B[39;00m(\n\u001B[0;32m   2408\u001B[0m             \u001B[38;5;124m\"\u001B[39m\u001B[38;5;124mUnexpected result of `predict_function` \u001B[39m\u001B[38;5;124m\"\u001B[39m\n\u001B[0;32m   2409\u001B[0m             \u001B[38;5;124m\"\u001B[39m\u001B[38;5;124m(Empty batch_outputs). Please use \u001B[39m\u001B[38;5;124m\"\u001B[39m\n\u001B[0;32m   2410\u001B[0m             \u001B[38;5;124m\"\u001B[39m\u001B[38;5;124m`Model.compile(..., run_eagerly=True)`, or \u001B[39m\u001B[38;5;124m\"\u001B[39m\n\u001B[0;32m   2411\u001B[0m             \u001B[38;5;124m\"\u001B[39m\u001B[38;5;124m`tf.config.run_functions_eagerly(True)` for more \u001B[39m\u001B[38;5;124m\"\u001B[39m\n\u001B[0;32m   2412\u001B[0m             \u001B[38;5;124m\"\u001B[39m\u001B[38;5;124minformation of where went wrong, or file a \u001B[39m\u001B[38;5;124m\"\u001B[39m\n\u001B[0;32m   2413\u001B[0m             \u001B[38;5;124m\"\u001B[39m\u001B[38;5;124missue/bug to `tf.keras`.\u001B[39m\u001B[38;5;124m\"\u001B[39m\n\u001B[0;32m   2414\u001B[0m         )\n\u001B[0;32m   2415\u001B[0m     callbacks\u001B[38;5;241m.\u001B[39mon_predict_end()\n\u001B[0;32m   2416\u001B[0m all_outputs \u001B[38;5;241m=\u001B[39m tf\u001B[38;5;241m.\u001B[39m__internal__\u001B[38;5;241m.\u001B[39mnest\u001B[38;5;241m.\u001B[39mmap_structure_up_to(\n\u001B[0;32m   2417\u001B[0m     batch_outputs, potentially_ragged_concat, outputs\n\u001B[0;32m   2418\u001B[0m )\n",
      "\u001B[1;31mValueError\u001B[0m: Unexpected result of `predict_function` (Empty batch_outputs). Please use `Model.compile(..., run_eagerly=True)`, or `tf.config.run_functions_eagerly(True)` for more information of where went wrong, or file a issue/bug to `tf.keras`."
     ]
    }
   ]
  },
  {
   "cell_type": "markdown",
   "source": [
    "## Recursive predictions"
   ],
   "metadata": {
    "collapsed": false
   }
  },
  {
   "cell_type": "code",
   "execution_count": 28,
   "outputs": [
    {
     "ename": "IndexError",
     "evalue": "index 163 is out of bounds for axis 0 with size 163",
     "output_type": "error",
     "traceback": [
      "\u001B[1;31m---------------------------------------------------------------------------\u001B[0m",
      "\u001B[1;31mIndexError\u001B[0m                                Traceback (most recent call last)",
      "Cell \u001B[1;32mIn[28], line 16\u001B[0m\n\u001B[0;32m     14\u001B[0m f \u001B[38;5;241m=\u001B[39m \u001B[38;5;28;01mlambda\u001B[39;00m x: np\u001B[38;5;241m.\u001B[39margmax(x, axis\u001B[38;5;241m=\u001B[39m\u001B[38;5;241m-\u001B[39m\u001B[38;5;241m1\u001B[39m)\n\u001B[0;32m     15\u001B[0m predictions \u001B[38;5;241m=\u001B[39m f(predictions)\n\u001B[1;32m---> 16\u001B[0m predicted_sample \u001B[38;5;241m=\u001B[39m np\u001B[38;5;241m.\u001B[39mconcatenate(([\u001B[43mnot_shuffled_samples\u001B[49m\u001B[43m[\u001B[49m\u001B[43mi\u001B[49m\u001B[43m]\u001B[49m[\u001B[38;5;241m0\u001B[39m]], predictions\u001B[38;5;241m.\u001B[39mflatten()))\n\u001B[0;32m     17\u001B[0m next_samples\u001B[38;5;241m.\u001B[39mappend(predicted_sample)\n\u001B[0;32m     18\u001B[0m iterative_predictions\u001B[38;5;241m.\u001B[39mappend(predictions\u001B[38;5;241m.\u001B[39mflatten())\n",
      "\u001B[1;31mIndexError\u001B[0m: index 163 is out of bounds for axis 0 with size 163"
     ]
    }
   ],
   "source": [
    "iterative_predictions = []\n",
    "next_samples = []\n",
    "\n",
    "predicted_sample = not_shuffled_samples[99]\n",
    "\n",
    "for i in range(100, 200):\n",
    "    predictions = mtl_model.predict(\n",
    "        x=predicted_sample.reshape(-1, num_features),\n",
    "        batch_size=10,\n",
    "        verbose=0)\n",
    "\n",
    "    predictions = np.array(predictions)\n",
    "\n",
    "    f = lambda x: np.argmax(x, axis=-1)\n",
    "    predictions = f(predictions)\n",
    "    predicted_sample = np.concatenate(([not_shuffled_samples[i][0]], predictions.flatten()))\n",
    "    next_samples.append(predicted_sample)\n",
    "    iterative_predictions.append(predictions.flatten())\n",
    "\n",
    "print(type(np.array(iterative_predictions)))\n",
    "print(type(not_shuffled_samples))\n",
    "\n",
    "zipped_predicted_npis = list(zip(*iterative_predictions))"
   ],
   "metadata": {
    "collapsed": false,
    "ExecuteTime": {
     "end_time": "2023-05-25T08:30:32.942125400Z",
     "start_time": "2023-05-25T08:30:24.358894800Z"
    }
   }
  },
  {
   "cell_type": "markdown",
   "source": [
    "## Barcharts"
   ],
   "metadata": {
    "collapsed": false
   }
  },
  {
   "cell_type": "code",
   "execution_count": null,
   "outputs": [],
   "source": [
    "# Define the arrays\n",
    "x = np.arange(1, 101)\n",
    "\n",
    "for i in range(0, 9):\n",
    "    predicted_y = np.array(zipped_predicted_npis[i][0:100])\n",
    "    label_y = not_shuffled_labels[i][0:100]\n",
    "\n",
    "    # Create the bar chart\n",
    "    fig, ax = plt.subplots()\n",
    "    ax.bar(x - 0.2, predicted_y, width=0.4, label='Prediction')\n",
    "    ax.bar(x + 0.2, label_y, width=0.4, label='Dataset')\n",
    "\n",
    "    # Add labels and legend\n",
    "    ax.set_xlabel('Day')\n",
    "    ax.set_ylabel('NPI strength')\n",
    "    ax.set_title(npi_labels[i])\n",
    "    ax.legend()\n",
    "\n",
    "    # Display the chart\n",
    "    plt.show()"
   ],
   "metadata": {
    "collapsed": false
   }
  },
  {
   "cell_type": "code",
   "execution_count": null,
   "outputs": [],
   "source": [
    "def step_plot(xlabel, ylabel, xvalue, yvalue, title, spacing, plot_si = True):\n",
    "    fig, ax = plt.subplots()\n",
    "    ax.step(xvalue, yvalue, label=\"NPI\")\n",
    "    if plot_si:\n",
    "        ax.step(xvalue, indexes * max(yvalue), label=f\"SI * {max(yvalue)}\")\n",
    "    ax.legend()\n",
    "    plt.xlabel(xlabel)\n",
    "    plt.ylabel(ylabel)\n",
    "    plt.title(title)\n",
    "    plt.xticks(rotation=45)  # Adjust the rotation angle as needed\n",
    "    plt.xticks(range(0, len(xvalue), spacing))  # Display every second label\n",
    "    # plt.tight_layout()  # Optional: adjust layout to prevent label overlapping\n",
    "    plt.show()\n",
    "\n",
    "# plt.plot(indexes)\n",
    "# plt.xlabel('X-axis')\n",
    "# plt.ylabel('Y-axis')\n",
    "# plt.title('Graph')\n",
    "# plt.show()"
   ],
   "metadata": {
    "collapsed": false
   }
  },
  {
   "cell_type": "code",
   "execution_count": null,
   "outputs": [],
   "source": [],
   "metadata": {
    "collapsed": false
   }
  },
  {
   "cell_type": "code",
   "execution_count": 47,
   "outputs": [
    {
     "ename": "NameError",
     "evalue": "name 'step_plot' is not defined",
     "output_type": "error",
     "traceback": [
      "\u001B[1;31m---------------------------------------------------------------------------\u001B[0m",
      "\u001B[1;31mNameError\u001B[0m                                 Traceback (most recent call last)",
      "Cell \u001B[1;32mIn[47], line 2\u001B[0m\n\u001B[0;32m      1\u001B[0m \u001B[38;5;28;01mfor\u001B[39;00m i \u001B[38;5;129;01min\u001B[39;00m \u001B[38;5;28mrange\u001B[39m(\u001B[38;5;241m0\u001B[39m, \u001B[38;5;241m9\u001B[39m):\n\u001B[1;32m----> 2\u001B[0m     \u001B[43mstep_plot\u001B[49m(xlabel\u001B[38;5;241m=\u001B[39m\u001B[38;5;124m'\u001B[39m\u001B[38;5;124mDate\u001B[39m\u001B[38;5;124m'\u001B[39m, ylabel\u001B[38;5;241m=\u001B[39mnpis[i], xvalue\u001B[38;5;241m=\u001B[39mdf[\u001B[38;5;124m'\u001B[39m\u001B[38;5;124mDate\u001B[39m\u001B[38;5;124m'\u001B[39m], yvalue\u001B[38;5;241m=\u001B[39mdf[npis[i]], title\u001B[38;5;241m=\u001B[39mnpi_labels[i], spacing\u001B[38;5;241m=\u001B[39m\u001B[38;5;241m20\u001B[39m, plot_si\u001B[38;5;241m=\u001B[39m\u001B[38;5;28;01mTrue\u001B[39;00m)\n",
      "\u001B[1;31mNameError\u001B[0m: name 'step_plot' is not defined"
     ]
    }
   ],
   "source": [
    "for i in range(0, 9):\n",
    "    step_plot(xlabel='Date', ylabel=npis[i], xvalue=df['Date'], yvalue=df[npis[i]], title=npi_labels[i], spacing=20, plot_si=True)"
   ],
   "metadata": {
    "collapsed": false,
    "ExecuteTime": {
     "end_time": "2023-05-24T22:32:45.935631700Z",
     "start_time": "2023-05-24T22:32:45.891352700Z"
    }
   }
  },
  {
   "cell_type": "code",
   "execution_count": 48,
   "outputs": [],
   "source": [
    "def iterative_predict(init, indexes):\n",
    "    f = lambda x: np.argmax(x, axis=-1)\n",
    "    iterative_predictions = []\n",
    "\n",
    "    for j in range(0, len(indexes)):\n",
    "        predictions = mtl_model.predict(\n",
    "            x=init.reshape(-1, num_features),\n",
    "            batch_size=10,\n",
    "            verbose=0)\n",
    "        predictions = np.array(predictions)\n",
    "        predictions = f(predictions)\n",
    "        # print(indexes[j])\n",
    "        # print(predictions.flatten())\n",
    "        init = np.concatenate(([indexes[j]], predictions.flatten()))\n",
    "        iterative_predictions.append(predictions.flatten())\n",
    "\n",
    "    return list(zip(*iterative_predictions))"
   ],
   "metadata": {
    "collapsed": false,
    "ExecuteTime": {
     "end_time": "2023-05-24T22:32:48.972236Z",
     "start_time": "2023-05-24T22:32:48.952289100Z"
    }
   }
  },
  {
   "cell_type": "code",
   "execution_count": 49,
   "outputs": [
    {
     "name": "stdout",
     "output_type": "stream",
     "text": [
      "162\n"
     ]
    }
   ],
   "source": [
    "init = np.array([0111., 0, 0, 0, 0, 0, 0, 0, 0, 2])\n",
    "\n",
    "indexes = df['StringencyIndex_Average'].tolist()\n",
    "indexes = np.divide(indexes, 100)\n",
    "indexes_no_first = indexes[1:]\n",
    "print(len(indexes_no_first))\n",
    "\n",
    "long_term_predictions = iterative_predict(init=init, indexes=indexes_no_first)"
   ],
   "metadata": {
    "collapsed": false,
    "ExecuteTime": {
     "end_time": "2023-05-24T22:33:10.657690800Z",
     "start_time": "2023-05-24T22:32:49.895924500Z"
    }
   }
  },
  {
   "cell_type": "code",
   "execution_count": 50,
   "outputs": [],
   "source": [
    "def plot_long_term_npis(predicted_npis):\n",
    "    for i in range(0, 9):\n",
    "        predicted_y = np.array(predicted_npis[i][0:])\n",
    "        label_y = not_shuffled_labels[i][0:]\n",
    "\n",
    "        # Create the bar chart\n",
    "        fig, ax = plt.subplots()\n",
    "        ax.bar(x - 0.2, predicted_y, width=0.4, label='Prediction')\n",
    "        ax.bar(x + 0.2, label_y, width=0.4, label='Dataset')\n",
    "\n",
    "        # Add labels and legend\n",
    "        ax.set_xlabel('Day')\n",
    "        ax.set_ylabel('NPI strength')\n",
    "        ax.set_title(npi_labels[i])\n",
    "        ax.legend()\n",
    "\n",
    "        # Display the chart\n",
    "        plt.show()"
   ],
   "metadata": {
    "collapsed": false,
    "ExecuteTime": {
     "end_time": "2023-05-24T22:33:10.677029700Z",
     "start_time": "2023-05-24T22:33:10.658693300Z"
    }
   }
  },
  {
   "cell_type": "code",
   "execution_count": 51,
   "outputs": [
    {
     "name": "stdout",
     "output_type": "stream",
     "text": [
      "162\n"
     ]
    },
    {
     "ename": "NameError",
     "evalue": "name 'step_plot' is not defined",
     "output_type": "error",
     "traceback": [
      "\u001B[1;31m---------------------------------------------------------------------------\u001B[0m",
      "\u001B[1;31mNameError\u001B[0m                                 Traceback (most recent call last)",
      "Cell \u001B[1;32mIn[51], line 3\u001B[0m\n\u001B[0;32m      1\u001B[0m \u001B[38;5;28;01mfor\u001B[39;00m i \u001B[38;5;129;01min\u001B[39;00m \u001B[38;5;28mrange\u001B[39m(\u001B[38;5;241m0\u001B[39m, \u001B[38;5;241m9\u001B[39m):\n\u001B[0;32m      2\u001B[0m     \u001B[38;5;28mprint\u001B[39m(\u001B[38;5;28mlen\u001B[39m(long_term_predictions[\u001B[38;5;241m0\u001B[39m]))\n\u001B[1;32m----> 3\u001B[0m     \u001B[43mstep_plot\u001B[49m(xlabel\u001B[38;5;241m=\u001B[39m\u001B[38;5;124m'\u001B[39m\u001B[38;5;124mDate\u001B[39m\u001B[38;5;124m'\u001B[39m, ylabel\u001B[38;5;241m=\u001B[39mnpis[i], xvalue\u001B[38;5;241m=\u001B[39m\u001B[38;5;28mrange\u001B[39m(\u001B[38;5;28mlen\u001B[39m(long_term_predictions[i])),\n\u001B[0;32m      4\u001B[0m               yvalue\u001B[38;5;241m=\u001B[39mlong_term_predictions[i], title\u001B[38;5;241m=\u001B[39mnpi_labels[i], spacing\u001B[38;5;241m=\u001B[39m\u001B[38;5;241m20\u001B[39m, plot_si\u001B[38;5;241m=\u001B[39m\u001B[38;5;28;01mFalse\u001B[39;00m)\n",
      "\u001B[1;31mNameError\u001B[0m: name 'step_plot' is not defined"
     ]
    }
   ],
   "source": [
    "for i in range(0, 9):\n",
    "    print(len(long_term_predictions[0]))\n",
    "    step_plot(xlabel='Date', ylabel=npis[i], xvalue=range(len(long_term_predictions[i])),\n",
    "              yvalue=long_term_predictions[i], title=npi_labels[i], spacing=20, plot_si=False)"
   ],
   "metadata": {
    "collapsed": false,
    "ExecuteTime": {
     "end_time": "2023-05-24T22:33:10.736360Z",
     "start_time": "2023-05-24T22:33:10.683197600Z"
    }
   }
  },
  {
   "cell_type": "code",
   "execution_count": null,
   "outputs": [],
   "source": [
    "def two_step_plots(xlabel, ylabel, xvalue1, yvalue1, xvalue2, yvalue2, title, spacing, plot_si = True):\n",
    "    fig, ax = plt.subplots()\n",
    "    ax.step(xvalue1, yvalue1, label=\"dataset\")\n",
    "    ax.step(xvalue2, yvalue2, label=\"prediction\")\n",
    "    ax.legend()\n",
    "    plt.xlabel(xlabel)\n",
    "    plt.ylabel(ylabel)\n",
    "    plt.title(title)\n",
    "    plt.xticks(rotation=45)  # Adjust the rotation angle as needed\n",
    "    plt.xticks(range(0, len(xvalue1), spacing))  # Display every second label\n",
    "    # plt.tight_layout()  # Optional: adjust layout to prevent label overlapping\n",
    "    plt.show()"
   ],
   "metadata": {
    "collapsed": false
   }
  },
  {
   "cell_type": "code",
   "execution_count": null,
   "outputs": [],
   "source": [
    "for i in range(0, 9):\n",
    "    print(len(long_term_predictions[0]))\n",
    "    two_step_plots(xlabel='Date', ylabel=npis[i], xvalue1=range(len(long_term_predictions[i])),\n",
    "              yvalue1=long_term_predictions[i], xvalue2=df['Date'],  yvalue2=df[npis[i]], title=npi_labels[i], spacing=20, plot_si=False)"
   ],
   "metadata": {
    "collapsed": false
   }
  },
  {
   "cell_type": "code",
   "execution_count": null,
   "outputs": [],
   "source": [],
   "metadata": {
    "collapsed": false
   }
  }
 ]
}
